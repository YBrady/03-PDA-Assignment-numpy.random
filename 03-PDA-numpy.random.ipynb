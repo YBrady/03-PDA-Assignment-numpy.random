{
 "cells": [
  {
   "cell_type": "markdown",
   "metadata": {},
   "source": [
    "<img align=\"left\" src=\"images/GMIT-logo.png\" alt=\"GMIT\" width=\"220\"/>                                                      <img align=\"right\" src=\"images/data-analytics.png\" alt=\"HDipDA\" width=\"250\"/>  \n",
    "\n",
    "# <center>Programming for Data Analysis 2019 Assignment: numpy.random</center>  #"
   ]
  },
  {
   "cell_type": "markdown",
   "metadata": {},
   "source": [
    "***\n",
    "**Module Name**: Programming for Data Analysis  \n",
    "**Module Number**: 52465  \n",
    "**Student Name**: Yvonne Brady  \n",
    "**Student ID**: G00376355  \n",
    "***"
   ]
  },
  {
   "cell_type": "markdown",
   "metadata": {},
   "source": [
    "**Problem statement**\n",
    "The following assignment concerns the numpy.random package in Python. You are\n",
    "required to create a Jupyter notebook explaining the use of the package, including\n",
    "detailed explanations of at least five of the distributions provided for in the package.\n",
    "There are four distinct tasks to be carried out in your Jupyter notebook.\n",
    "1. Explain the overall purpose of the package.\n",
    "2. Explain the use of the “Simple random data” and “Permutations” functions.\n",
    "3. Explain the use and purpose of at least five “Distributions” functions.\n",
    "4. Explain the use of seeds in generating pseudorandom numbers."
   ]
  },
  {
   "cell_type": "markdown",
   "metadata": {},
   "source": [
    "## Introduction ##\n",
    "This assignment is completed in part fulfillment of the Programming for Data Analysis module of the Higher Diploma in Data Analytics awarded in GMIT. The goal of this assignment is to explain in lay terms the importance and use of the Python package NumPy, with particular focus on numpy.random."
   ]
  },
  {
   "cell_type": "markdown",
   "metadata": {},
   "source": [
    "## Purpose of NumPy ##\n",
    "Numpy is one of the core packages used in data analytics on the Python platform. It comprises a series of functions and methods that allow for easier data storage, retrieval and manipulation. It is centered on arrays, which are in essence what each dataset is made up of.  \n",
    "\n",
    "NumPy has been around since 2005, when Travis Oliphant managed to merge the previously two competing numerical packagesin Python, Numeric and NumArray,  into one package, NumPy. It is a contraction of the phrease Numerical Python and is the basis of most if not all Python packages with scientific functionality.  \n",
    "  \n",
    "Some of the main parts of NumPy include:  \n",
    "* ndarray - a multidimensional array  \n",
    "* functions - that perform mathematical operations quickly and efficiently. \n",
    "\n",
    "NumPy library of algorithms is written in the C language, a compiled rather than interpreted language which allows faster processing times. Its operations make it possible to perform complex calculations on entire arrays without the need for looping through each element in Python. NumPy algorithms are generally at least 10 to 100 times faster than their Python scripted alternatives.\n",
    "\n",
    "NumPy is an external package that must be imported into python for use. Convention has it that it is imported as \"np\". Each numpy function etc can then be called by prefacing it with np."
   ]
  },
  {
   "cell_type": "code",
   "execution_count": 1,
   "metadata": {},
   "outputs": [],
   "source": [
    "import numpy as np"
   ]
  },
  {
   "cell_type": "markdown",
   "metadata": {},
   "source": [
    "### Purpose of numpy.random ##\n",
    "numpy.random is the source of \"randomness\" in python. Whenever you need random data, be it random numbers, random sample of data, random placement of known values in an array, numpy.random provides all this functionality and more.  \n",
    "\n",
    "Random numbers are often used to generate random series of numbers, for testing programs in various scenarios, for random sampling of datasets, for many games, gamblings, for determination of probabilities of risks etc. One such sample is given below in the simple game below:"
   ]
  },
  {
   "cell_type": "code",
   "execution_count": 2,
   "metadata": {},
   "outputs": [
    {
     "name": "stdout",
     "output_type": "stream",
     "text": [
      "Pick a number between 1 and 10: 5\n"
     ]
    }
   ],
   "source": [
    "# Generate a random integer between 1 and 10\n",
    "x = np.random.randint(1,11)\n",
    "# Ask the player to pick a number\n",
    "a = int(input(\"Pick a number between 1 and 10: \"))"
   ]
  },
  {
   "cell_type": "code",
   "execution_count": 3,
   "metadata": {},
   "outputs": [
    {
     "name": "stdout",
     "output_type": "stream",
     "text": [
      "Hard luck. You guessed 5 and I picked 1\n"
     ]
    }
   ],
   "source": [
    "if x == a:\n",
    "    # If the player guessed right, tell them\n",
    "    print(\"Congrats - you guessed\", a, \"and I picked\", x)\n",
    "else:\n",
    "    # If the player guessed incorrectly, tell them too\n",
    "    print(\"Hard luck. You guessed\", a, \"and I picked\", x)"
   ]
  },
  {
   "cell_type": "markdown",
   "metadata": {},
   "source": [
    "While the name suggests that the output of numpy.random is random, it is however pseudo-random in nature, meaning that data / functions generated from this library element has all the appearance of randomness, but in fact is generated in a specific deterministic manner.\n",
    "\n",
    "The whole randomness generation is based on two components:\n",
    "* **_BitGenerators_**: Objects that generate random numbers. These are typically unsigned integer words filled with sequences of either 32 or 64 random bits.\n",
    "* **_Generators_**: Objects that transform sequences of random bits from a BitGenerator into sequences of numbers that follow a specific probability distribution (such as uniform, Normal or Binomial) within a specified interval.\n"
   ]
  },
  {
   "cell_type": "markdown",
   "metadata": {},
   "source": [
    "| Function                           \t| Use                                                                   \t|\n",
    "|------------------------------------\t|-----------------------------------------------------------------------\t|\n",
    "| rand(d0, d1, …, dn)                \t| Random values in a given shape.                                       \t|\n",
    "| randn(d0, d1, …, dn)               \t| Return a sample (or samples) from the “standard normal” distribution. \t|\n",
    "| randint(low[, high, size, dtype])  \t| Return random integers from low (inclusive) to high (exclusive).      \t|\n",
    "| random_integers(low[, high, size]) \t| Random integers of type np.int between low and high, inclusive.       \t|\n",
    "| random_sample([size])              \t| Return random floats in the half-open interval [0.0, 1.0).            \t|\n",
    "| random([size])                     \t| Return random floats in the half-open interval [0.0, 1.0).            \t|\n",
    "| ranf([size])                       \t| Return random floats in the half-open interval [0.0, 1.0).            \t|\n",
    "| sample([size])                     \t| Return random floats in the half-open interval [0.0, 1.0).            \t|\n",
    "| choice(a[, size, replace, p])      \t| Generates a random sample from a given 1-D array                      \t|\n",
    "| bytes(length)                      \t| Return random bytes.                                                  \t|"
   ]
  },
  {
   "cell_type": "markdown",
   "metadata": {},
   "source": [
    "## Functions ##"
   ]
  },
  {
   "cell_type": "markdown",
   "metadata": {},
   "source": [
    "### Simple Random Data ##"
   ]
  },
  {
   "cell_type": "markdown",
   "metadata": {},
   "source": [
    "### Permutations ###"
   ]
  },
  {
   "cell_type": "markdown",
   "metadata": {},
   "source": [
    "### Distribution Functions ###"
   ]
  },
  {
   "cell_type": "markdown",
   "metadata": {},
   "source": [
    "**1. Distribution Function 1**"
   ]
  },
  {
   "cell_type": "markdown",
   "metadata": {},
   "source": [
    "**2. Distribution Function 2**"
   ]
  },
  {
   "cell_type": "markdown",
   "metadata": {},
   "source": [
    "**3. Distribution Function 3**"
   ]
  },
  {
   "cell_type": "markdown",
   "metadata": {},
   "source": [
    "**4. Distribution Function 4**"
   ]
  },
  {
   "cell_type": "markdown",
   "metadata": {},
   "source": [
    "**5. Distribution Function 5**"
   ]
  },
  {
   "cell_type": "markdown",
   "metadata": {},
   "source": [
    "### Seeds ###"
   ]
  },
  {
   "cell_type": "markdown",
   "metadata": {},
   "source": [
    "## References ##\n",
    "1. NumPy Site http://www.numpy.org/\n",
    "2. Project Jupyter http://jupyter.org/  \n",
    "3. NumPy Wikipedia Page https://en.wikipedia.org/wiki/NumPy  \n",
    "4. Python for Data Analysis Book  \n",
    "5. https://realpython.com/python-random/  \n"
   ]
  },
  {
   "cell_type": "code",
   "execution_count": null,
   "metadata": {},
   "outputs": [],
   "source": []
  }
 ],
 "metadata": {
  "kernelspec": {
   "display_name": "Python 3",
   "language": "python",
   "name": "python3"
  },
  "language_info": {
   "codemirror_mode": {
    "name": "ipython",
    "version": 3
   },
   "file_extension": ".py",
   "mimetype": "text/x-python",
   "name": "python",
   "nbconvert_exporter": "python",
   "pygments_lexer": "ipython3",
   "version": "3.7.3"
  }
 },
 "nbformat": 4,
 "nbformat_minor": 2
}
