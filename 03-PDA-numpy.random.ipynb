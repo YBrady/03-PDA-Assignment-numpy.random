{
 "cells": [
  {
   "cell_type": "markdown",
   "metadata": {},
   "source": [
    "<img align=\"left\" src=\"images/GMIT-logo.png\" alt=\"GMIT\" width=\"220\"/>                                                      <img align=\"right\" src=\"images/data-analytics.png\" alt=\"HDipDA\" width=\"250\"/>  \n",
    "\n",
    "# <center>Programming for Data Analysis 2019 Assignment: numpy.random</center>  #"
   ]
  },
  {
   "cell_type": "markdown",
   "metadata": {},
   "source": [
    "***\n",
    "**Module Name**: Programming for Data Analysis  \n",
    "**Module Number**: 52465  \n",
    "**Student Name**: Yvonne Brady  \n",
    "**Student ID**: G00376355  \n",
    "***"
   ]
  },
  {
   "cell_type": "markdown",
   "metadata": {},
   "source": [
    "**Problem statement**\n",
    "The following assignment concerns the numpy.random package in Python. You are\n",
    "required to create a Jupyter notebook explaining the use of the package, including\n",
    "detailed explanations of at least five of the distributions provided for in the package.\n",
    "There are four distinct tasks to be carried out in your Jupyter notebook.\n",
    "1. Explain the overall purpose of the package.\n",
    "2. Explain the use of the “Simple random data” and “Permutations” functions.\n",
    "3. Explain the use and purpose of at least five “Distributions” functions.\n",
    "4. Explain the use of seeds in generating pseudorandom numbers."
   ]
  },
  {
   "cell_type": "markdown",
   "metadata": {},
   "source": [
    "## Introduction ##\n",
    "This assignment is completed in part fulfillment of the Programming for Data Analysis module of the Higher Diploma in Data Analytics awarded in GMIT. The goal of this assignment is to explain in lay terms the importance and use of the Python package NumPy, with particular focus on numpy.random."
   ]
  },
  {
   "cell_type": "markdown",
   "metadata": {},
   "source": [
    "## Purpose of NumPy ##\n",
    "Numpy is one of the core packages used in data analytics on the Python platform. It comprises a series of functions and methods that allow for easier data storage, retrieval and manipulation. It is centered on arrays, which are in essence what each dataset is made up of.  \n",
    "\n",
    "NumPy has been around since 2005, when Travis Oliphant managed to merge the previously two competing numerical packagesin Python, Numeric and NumArray,  into one package, NumPy. It is a contraction of the phrease Numerical Python and is the basis of most if not all Python packages with scientific functionality.  \n",
    "  \n",
    "Some of the main parts of NumPy include:  \n",
    "* ndarray - a multidimensional array  \n",
    "* functions - that perform mathematical operations quickly and efficiently. \n",
    "\n",
    "NumPy library of algorithms is written in the C language, a compiled rather than interpreted language which allows faster processing times. Its operations make it possible to perform complex calculations on entire arrays without the need for looping through each element in Python. NumPy algorithms are generally at least 10 to 100 times faster than their Python scripted alternatives.\n",
    "\n",
    "NumPy is an external package that must be imported into python for use. Convention has it that it is imported as \"np\". Each numpy function etc can then be called by prefacing it with np."
   ]
  },
  {
   "cell_type": "code",
   "execution_count": 1,
   "metadata": {},
   "outputs": [],
   "source": [
    "%matplotlib inline\n",
    "import numpy as np # Importing the NumPy library\n",
    "import matplotlib.pyplot as plt # Importing matplotlib for plotting\n",
    "plt.rcParams['figure.figsize'] = [20, 10] # Setting the plot size"
   ]
  },
  {
   "cell_type": "markdown",
   "metadata": {},
   "source": [
    "### Purpose of numpy.random ##\n",
    "numpy.random is the source of \"randomness\" in python. Whenever you need random data, be it random numbers, random sample of data, random placement of known values in an array, numpy.random provides all this functionality and more.  \n",
    "\n",
    "Random numbers are often used to generate random series of numbers, for testing programs in various scenarios, for random sampling of datasets, for many games, gamblings, for determination of probabilities of risks etc. One such sample is given below in the simple game below:"
   ]
  },
  {
   "cell_type": "code",
   "execution_count": 2,
   "metadata": {},
   "outputs": [
    {
     "name": "stdout",
     "output_type": "stream",
     "text": [
      "Pick a number between 1 and 10: 7\n"
     ]
    }
   ],
   "source": [
    "# Generate a random integer between 1 and 10\n",
    "compChoice = np.random.randint(1,11)\n",
    "# Ask the player to pick a number\n",
    "yourChoice = int(input(\"Pick a number between 1 and 10: \"))"
   ]
  },
  {
   "cell_type": "code",
   "execution_count": 3,
   "metadata": {},
   "outputs": [
    {
     "name": "stdout",
     "output_type": "stream",
     "text": [
      "Hard luck. You guessed 7 and I picked 9\n"
     ]
    }
   ],
   "source": [
    "if compChoice == yourChoice:\n",
    "    # If the player guessed right, tell them\n",
    "    print(\"Congrats - you guessed\", yourChoice, \"and I picked\", compChoice)\n",
    "else:\n",
    "    # If the player guessed incorrectly, tell them too\n",
    "    print(\"Hard luck. You guessed\", yourChoice, \"and I picked\", compChoice)"
   ]
  },
  {
   "cell_type": "markdown",
   "metadata": {},
   "source": [
    "There are a number of functions available to generate simple random data as shown in Table 1 below. We will have a look at each of these in turn."
   ]
  },
  {
   "cell_type": "markdown",
   "metadata": {},
   "source": [
    "| Function                           \t| Use                                                                   \t|\n",
    "|------------------------------------\t|-----------------------------------------------------------------------\t|\n",
    "| rand(d0, d1, …, dn)                \t| Random values in a given shape.                                       \t|\n",
    "| randn(d0, d1, …, dn)               \t| Return a sample (or samples) from the “standard normal” distribution. \t|\n",
    "| randint(low[, high, size, dtype])  \t| Return random integers from low (inclusive) to high (exclusive).      \t|\n",
    "| random_integers(low[, high, size]) \t| Random integers of type np.int between low and high, inclusive.       \t|\n",
    "| random_sample([size])              \t| Return random floats in the half-open interval [0.0, 1.0).            \t|\n",
    "| random([size])                     \t| Return random floats in the half-open interval [0.0, 1.0).            \t|\n",
    "| ranf([size])                       \t| Return random floats in the half-open interval [0.0, 1.0).            \t|\n",
    "| sample([size])                     \t| Return random floats in the half-open interval [0.0, 1.0).            \t|\n",
    "| choice(a[, size, replace, p])      \t| Generates a random sample from a given 1-D array                      \t|\n",
    "| bytes(length)                      \t| Return random bytes.                                                  \t|\n",
    "  \n",
    "**<center>Table 1: Simple Random Data</center>**"
   ]
  },
  {
   "cell_type": "markdown",
   "metadata": {},
   "source": [
    "**rand**  \n",
    "_Syntax_ :  \n",
    "np.random.rand(a, b, ....z)  \n",
    "  \n",
    "_Returns_ :  \n",
    "Rand returns a randomly generated array of size specified in the the brackets, for example if only one number was specified it would return that many numbers in a list. All the numbers returned are between 0 and 1.  \n",
    "The numbers returned are randomly selected with a uniform distribution, see below about distributon\n",
    "  \n",
    "_Example_ :"
   ]
  },
  {
   "cell_type": "code",
   "execution_count": 4,
   "metadata": {},
   "outputs": [
    {
     "name": "stdout",
     "output_type": "stream",
     "text": [
      "Here x is a randomly generated list of 7000 numbers ranging from 0.0001519093259502169 to 0.9999400576496144\n"
     ]
    },
    {
     "data": {
      "image/png": "[encoded data removed]",
      "text/plain": [
       "<Figure size 720x432 with 1 Axes>"
      ]
     },
     "metadata": {
      "needs_background": "light"
     },
     "output_type": "display_data"
    }
   ],
   "source": [
    "# Here we are using np.random.rand based on your choice of number above\n",
    "x = np.random.rand(yourChoice*1000)\n",
    "plt.rcParams['figure.figsize'] = [10, 6] # Setting the plot size\n",
    "plt.hist(x, 20)\n",
    "print(\"Here x is a randomly generated list of\", yourChoice * 1000, \"numbers ranging from\", min(x), \"to\" , max(x))"
   ]
  },
  {
   "cell_type": "code",
   "execution_count": 5,
   "metadata": {},
   "outputs": [
    {
     "name": "stdout",
     "output_type": "stream",
     "text": [
      "Here x is a randomly generated list of 7 x 9 numbers\n"
     ]
    },
    {
     "data": {
      "text/plain": [
       "array([[0.27527899, 0.31624129, 0.14602562, 0.9477886 , 0.10309761,\n",
       "        0.8932526 , 0.01923333, 0.46303148, 0.98014543],\n",
       "       [0.74004862, 0.56775089, 0.44957042, 0.2392144 , 0.77947045,\n",
       "        0.80270896, 0.63549427, 0.89494508, 0.34477515],\n",
       "       [0.76352749, 0.02323017, 0.95191018, 0.15932157, 0.3868074 ,\n",
       "        0.79887209, 0.18386659, 0.9804972 , 0.9443465 ],\n",
       "       [0.4034368 , 0.57764427, 0.56014168, 0.90438997, 0.20901661,\n",
       "        0.01192346, 0.87063601, 0.95618169, 0.82657869],\n",
       "       [0.10287929, 0.82010559, 0.71791359, 0.74084649, 0.22050767,\n",
       "        0.69215388, 0.11208686, 0.23180955, 0.68009179],\n",
       "       [0.6992846 , 0.3865429 , 0.64692956, 0.53133302, 0.65294728,\n",
       "        0.6892285 , 0.44707198, 0.66171046, 0.30453378],\n",
       "       [0.21642088, 0.31768603, 0.40922586, 0.41791897, 0.20964563,\n",
       "        0.09433118, 0.97187027, 0.64147432, 0.69355287]])"
      ]
     },
     "execution_count": 5,
     "metadata": {},
     "output_type": "execute_result"
    },
    {
     "data": {
      "image/png": "[encoded data removed]",
      "text/plain": [
       "<Figure size 720x432 with 1 Axes>"
      ]
     },
     "metadata": {
      "needs_background": "light"
     },
     "output_type": "display_data"
    }
   ],
   "source": [
    "# Here we are using np.random.rand based on an array of size chosn by the game above.\n",
    "x = np.random.rand(yourChoice, compChoice)\n",
    "plt.hist(x, 20)\n",
    "print(\"Here x is a randomly generated list of\", yourChoice, \"x\", compChoice, \"numbers\")\n",
    "x"
   ]
  },
  {
   "cell_type": "code",
   "execution_count": 6,
   "metadata": {},
   "outputs": [
    {
     "name": "stdout",
     "output_type": "stream",
     "text": [
      " a 4D array:\n",
      "[[[[0.23752688 0.94555944 0.03400418 0.09174884 0.95089992]\n",
      "   [0.71676346 0.44726142 0.0317194  0.22112472 0.22912888]\n",
      "   [0.13135652 0.57472803 0.8008998  0.93693761 0.17376346]\n",
      "   [0.83744524 0.62471657 0.44460888 0.03633714 0.27859018]]\n",
      "\n",
      "  [[0.25868396 0.61892539 0.80501009 0.38195265 0.6720886 ]\n",
      "   [0.25329965 0.08222998 0.7281247  0.12686434 0.63239265]\n",
      "   [0.21299462 0.40946588 0.87989493 0.20834534 0.45479277]\n",
      "   [0.7430323  0.61000724 0.80347877 0.79617845 0.74538851]]\n",
      "\n",
      "  [[0.87025364 0.01439195 0.47685821 0.60674654 0.28656854]\n",
      "   [0.81932476 0.73724908 0.14166149 0.42477701 0.57051611]\n",
      "   [0.10772285 0.26836479 0.16811127 0.51356336 0.958952  ]\n",
      "   [0.54924902 0.7329852  0.02489447 0.88658863 0.41723688]]]\n",
      "\n",
      "\n",
      " [[[0.43317735 0.37280103 0.43791709 0.73917043 0.73484653]\n",
      "   [0.20514174 0.18332944 0.43047847 0.92005816 0.2690195 ]\n",
      "   [0.95695059 0.1162014  0.90753607 0.76599433 0.44684121]\n",
      "   [0.52610278 0.407064   0.61455906 0.3040753  0.89947577]]\n",
      "\n",
      "  [[0.6240019  0.51150129 0.80004634 0.69287545 0.18822845]\n",
      "   [0.97224204 0.67147389 0.48823965 0.39692286 0.95883583]\n",
      "   [0.68641705 0.78299595 0.48256592 0.89139435 0.09188548]\n",
      "   [0.19950028 0.83636476 0.72089717 0.70002814 0.13396519]]\n",
      "\n",
      "  [[0.31780473 0.87195017 0.65915428 0.6029525  0.80890035]\n",
      "   [0.04194024 0.11589277 0.96008383 0.65038454 0.24432786]\n",
      "   [0.19858723 0.41930362 0.35510458 0.86760668 0.5617881 ]\n",
      "   [0.01339489 0.19003302 0.16956841 0.96135358 0.30666708]]]]\n"
     ]
    }
   ],
   "source": [
    "# Other random number arrays:\n",
    "print(\" a 4D array:\")\n",
    "print(np.random.rand(2,3,4,5))"
   ]
  },
  {
   "cell_type": "markdown",
   "metadata": {},
   "source": [
    "While we have shown above that the random functions can generate arrays of data, for the rest of this notebook we will only look at single dimensional arrays."
   ]
  },
  {
   "cell_type": "markdown",
   "metadata": {},
   "source": [
    "**randn**  \n",
    "_Syntax_ :  \n",
    "np.random.randn(a, b, ....z)  \n",
    "  \n",
    "_Returns_ :  \n",
    "randn returns a randomly generated array of size specified in the the brackets, just like the rand function. Unlike the rand function, the values returned centered on 0 with the majority falling between -1 and 1. The is due to the difference between rand and randn - distribution of the random figures returned.  \n",
    "  \n",
    "With the rand function, values are returned with a uniform distribution. This means that all numbers between 0 and 1 are equally likely to be returned.  \n",
    "\n",
    "With the randn function, the returned figures follow a normalised distribution. This means that the values around the 0.5 are the most likely and increasingly less likely the further from the midpoint the value is. \n",
    "\n",
    "_Example_ :"
   ]
  },
  {
   "cell_type": "code",
   "execution_count": 7,
   "metadata": {},
   "outputs": [
    {
     "name": "stdout",
     "output_type": "stream",
     "text": [
      "Here xn is a randomly generated list of 7000 numbers ranging from -3.4862829131219275 to 3.75066916918194\n"
     ]
    },
    {
     "data": {
      "image/png": "[encoded data removed]",
      "text/plain": [
       "<Figure size 720x432 with 1 Axes>"
      ]
     },
     "metadata": {
      "needs_background": "light"
     },
     "output_type": "display_data"
    }
   ],
   "source": [
    "# Here we are using np.random.randn based on your choice of number above\n",
    "xr = np.random.rand(yourChoice*1000)\n",
    "xn = np.random.randn(yourChoice*1000)\n",
    "plt.hist(xn, 20)\n",
    "print(\"Here xn is a randomly generated list of\", yourChoice * 1000, \"numbers ranging from\", min(xn), \"to\" , max(xn))"
   ]
  },
  {
   "cell_type": "code",
   "execution_count": 8,
   "metadata": {},
   "outputs": [
    {
     "data": {
      "image/png": "[encoded data removed]",
      "text/plain": [
       "<Figure size 720x432 with 2 Axes>"
      ]
     },
     "metadata": {
      "needs_background": "light"
     },
     "output_type": "display_data"
    }
   ],
   "source": [
    "# Lets compare the two figures\n",
    "fig, (ax1, ax2) = plt.subplots(1, 2, sharey=True)\n",
    "ax1.hist(xn,20)\n",
    "ax2.hist(xr,20)\n",
    "\n",
    "# Set labels\n",
    "ax1.set_xlabel(\"Number\")\n",
    "ax2.set_xlabel(\"Number\")\n",
    "ax1.set_ylabel(\"Frequency\")\n",
    "fig.suptitle('Comparison of rand and randn', fontsize=18)\n",
    "ax1.set_title('randn',fontsize=14)\n",
    "ax2.set_title('rand',fontsize=14)\n",
    "plt.show()"
   ]
  },
  {
   "cell_type": "markdown",
   "metadata": {},
   "source": [
    "**randint**  \n",
    "_Syntax_ :  \n",
    "np.random.randint(low[, high, size, dtype])  \n",
    "  \n",
    "_Description_ :  \n",
    "Randint returns randomly generated integers. You can specify the range limit of the values returned via the low and high variables. The value returned will include the \"low\" value, but will be up to but not including the \"high\" range value. This means that if you are looking for a number between 1 and 10 you need to specify that the low is 1 and the high is 11. If no high value is specified, the low value entered in fact acts as the high value and the low value is defaulted to 0. Interestingly enough, although the output is an or multiple integers, the low and high limits may be entered as floating point numbers.  \n",
    "  \n",
    "You may also specify the shape of the integers returned. This may be a single value, a list of numbers or multidimensional arrays via the size variable. This is not a mandatory field and if not specified, it is defaulted to a single number being returned.  \n",
    "\n",
    "Finally you may also specify the datatype of the integer returned. Numpy has a variety of integer datatypes, depending on the maximum value required. int8 for example is one byte in length and is capable of holding numbers in the range -128 to 127. int16 for integers -32768 to 32767 and so on for int32, int64 and unsigned integers too. Although the documentation states that the default value if not specified is int, the tests below show that it is in fact int32.  \n",
    "\n",
    "The numbers returned are randomly selected with a uniform distribution, see below about distributon.\n",
    "\n",
    "randint was the function used to play the initial guessing game above.\n",
    "  \n",
    "_Returns_ :\t\n",
    "a \"size-shaped\" array of random integers from the appropriate distribution, or a single such random int if size not provided.  \n",
    "\n",
    "_Example_ :"
   ]
  },
  {
   "cell_type": "code",
   "execution_count": 9,
   "metadata": {},
   "outputs": [
    {
     "name": "stdout",
     "output_type": "stream",
     "text": [
      "[86 13 93 93 66]\n",
      "Each of type: <class 'numpy.int8'>\n"
     ]
    }
   ],
   "source": [
    "# Here we are looking for a number between 1 and 100 inclusive (as we have chosen 101 as the high value)\n",
    "# The shape of the output will be an array of 5 integers, \n",
    "# and they will be of type int8's.\n",
    "x = np.random.randint(1, 101, 5, np.int8)\n",
    "print(x)\n",
    "print(\"Each of type:\", type(x[1]))"
   ]
  },
  {
   "cell_type": "code",
   "execution_count": 10,
   "metadata": {},
   "outputs": [
    {
     "data": {
      "text/plain": [
       "7"
      ]
     },
     "execution_count": 10,
     "metadata": {},
     "output_type": "execute_result"
    }
   ],
   "source": [
    "# Using floats as limits, size is defaulted to a single integer value returned.\n",
    "np.random.randint(3.2, 14.3)"
   ]
  },
  {
   "cell_type": "code",
   "execution_count": 11,
   "metadata": {},
   "outputs": [
    {
     "name": "stdout",
     "output_type": "stream",
     "text": [
      "The minimum is 0. The maximum is 0.\n",
      "When not specified, the output is of type: <class 'numpy.int32'>\n"
     ]
    }
   ],
   "source": [
    "# Here we are setting just one value of 1. \n",
    "# As there is not both a lower and an upper limit set, \n",
    "# numpy assumes the value entered is the upper limit and 0 is taken as the lower limit.\n",
    "# As the range does not include the upper limit in its output, the expect return is all 0's inthe case below.\n",
    "# You can make the size as large as you want, but max will not exceed 0.\n",
    "# The default type is also shown here too - as int32.\n",
    "\n",
    "# To show the default is taken to be the upper limit which is never reached:\n",
    "x = np.random.randint(1, size = 1000000000)\n",
    "print(f\"The minimum is {x.min()}. The maximum is {x.max(0)}.\")\n",
    "print(\"When not specified, the output is of type:\", type(x[1]))"
   ]
  },
  {
   "cell_type": "code",
   "execution_count": 12,
   "metadata": {},
   "outputs": [
    {
     "name": "stdout",
     "output_type": "stream",
     "text": [
      "[-5704912905116595870 -3447530941664198006 -1429346100194448981\n",
      " -6178498688088672570 -8236496122823757645 -3937118495580247367\n",
      " -2673983240632262633 -2053841422743567174 -8474667946426773237\n",
      " -5807353175186680697]\n",
      "The output is of type: <class 'numpy.int64'>\n"
     ]
    }
   ],
   "source": [
    "# While the default type is int32 - here we are checking if that is automatically adusted to \n",
    "# take into account the range requested.\n",
    "# Here we are looking for a number between -9223372036854775800 and -1 inclusive. \n",
    "# The shape of the output will be an array of 2x4 array integers rather than a one dimensionsal array, \n",
    "# and they will be of type int64's.\n",
    "x = np.random.randint(-9223372036854775800 , 0, 10, np.int64)\n",
    "print(x)\n",
    "print(\"The output is of type:\", type(x[1]))"
   ]
  },
  {
   "cell_type": "code",
   "execution_count": 13,
   "metadata": {},
   "outputs": [
    {
     "ename": "ValueError",
     "evalue": "low is out of bounds for int32",
     "output_type": "error",
     "traceback": [
      "\u001b[1;31m---------------------------------------------------------------------------\u001b[0m",
      "\u001b[1;31mValueError\u001b[0m                                Traceback (most recent call last)",
      "\u001b[1;32m<ipython-input-13-fe3fb4e9a8fe>\u001b[0m in \u001b[0;36m<module>\u001b[1;34m\u001b[0m\n\u001b[0;32m      1\u001b[0m \u001b[1;31m# --------- Expected Error --------\u001b[0m\u001b[1;33m\u001b[0m\u001b[1;33m\u001b[0m\u001b[1;33m\u001b[0m\u001b[0m\n\u001b[0;32m      2\u001b[0m \u001b[1;31m# Let's try that again, this time without specifying the dtype:\u001b[0m\u001b[1;33m\u001b[0m\u001b[1;33m\u001b[0m\u001b[1;33m\u001b[0m\u001b[0m\n\u001b[1;32m----> 3\u001b[1;33m \u001b[0mx\u001b[0m \u001b[1;33m=\u001b[0m \u001b[0mnp\u001b[0m\u001b[1;33m.\u001b[0m\u001b[0mrandom\u001b[0m\u001b[1;33m.\u001b[0m\u001b[0mrandint\u001b[0m\u001b[1;33m(\u001b[0m\u001b[1;33m-\u001b[0m\u001b[1;36m9223372036854775800\u001b[0m \u001b[1;33m,\u001b[0m \u001b[1;36m0\u001b[0m\u001b[1;33m,\u001b[0m \u001b[1;36m10\u001b[0m\u001b[1;33m)\u001b[0m\u001b[1;33m\u001b[0m\u001b[1;33m\u001b[0m\u001b[0m\n\u001b[0m\u001b[0;32m      4\u001b[0m \u001b[0mprint\u001b[0m\u001b[1;33m(\u001b[0m\u001b[0mx\u001b[0m\u001b[1;33m)\u001b[0m\u001b[1;33m\u001b[0m\u001b[1;33m\u001b[0m\u001b[0m\n\u001b[0;32m      5\u001b[0m \u001b[0mprint\u001b[0m\u001b[1;33m(\u001b[0m\u001b[1;34m\"The output is of type:\"\u001b[0m\u001b[1;33m,\u001b[0m \u001b[0mtype\u001b[0m\u001b[1;33m(\u001b[0m\u001b[0mx\u001b[0m\u001b[1;33m[\u001b[0m\u001b[1;36m1\u001b[0m\u001b[1;33m]\u001b[0m\u001b[1;33m)\u001b[0m\u001b[1;33m)\u001b[0m\u001b[1;33m\u001b[0m\u001b[1;33m\u001b[0m\u001b[0m\n",
      "\u001b[1;32mmtrand.pyx\u001b[0m in \u001b[0;36mmtrand.RandomState.randint\u001b[1;34m()\u001b[0m\n",
      "\u001b[1;31mValueError\u001b[0m: low is out of bounds for int32"
     ]
    }
   ],
   "source": [
    "# --------- Expected Error --------\n",
    "# Let's try that again, this time without specifying the dtype:\n",
    "x = np.random.randint(-9223372036854775800 , 0, 10)\n",
    "print(x)\n",
    "print(\"The output is of type:\", type(x[1]))\n",
    "# --------- Expected Error --------"
   ]
  },
  {
   "cell_type": "markdown",
   "metadata": {},
   "source": [
    "The error thrown above shows that the size of the datatype is not dependent on the range requested and defaults to int32. This function therefore throws an error if the range exceeds the limits of the int32 datatype (-2147483648 to 2147483647).  \n",
    "\n",
    "Errors are also thrown in the high limit is lower than the low limit. This is true even when no high limit is specified if a negative number is inputted as the low variable."
   ]
  },
  {
   "cell_type": "code",
   "execution_count": 14,
   "metadata": {},
   "outputs": [
    {
     "ename": "ValueError",
     "evalue": "Range cannot be empty (low >= high) unless no samples are taken",
     "output_type": "error",
     "traceback": [
      "\u001b[1;31m---------------------------------------------------------------------------\u001b[0m",
      "\u001b[1;31mValueError\u001b[0m                                Traceback (most recent call last)",
      "\u001b[1;32m<ipython-input-14-4c82d00f1bbe>\u001b[0m in \u001b[0;36m<module>\u001b[1;34m\u001b[0m\n\u001b[0;32m      4\u001b[0m \u001b[1;31m# it assumes the entered value is the high value and defaults the low to 0.\u001b[0m\u001b[1;33m\u001b[0m\u001b[1;33m\u001b[0m\u001b[1;33m\u001b[0m\u001b[0m\n\u001b[0;32m      5\u001b[0m \u001b[1;31m# That means in this instance the low is higher than the high and will throw an error.\u001b[0m\u001b[1;33m\u001b[0m\u001b[1;33m\u001b[0m\u001b[1;33m\u001b[0m\u001b[0m\n\u001b[1;32m----> 6\u001b[1;33m \u001b[0mx\u001b[0m \u001b[1;33m=\u001b[0m \u001b[0mnp\u001b[0m\u001b[1;33m.\u001b[0m\u001b[0mrandom\u001b[0m\u001b[1;33m.\u001b[0m\u001b[0mrandint\u001b[0m\u001b[1;33m(\u001b[0m\u001b[1;33m-\u001b[0m\u001b[1;36m5\u001b[0m\u001b[1;33m)\u001b[0m\u001b[1;33m\u001b[0m\u001b[1;33m\u001b[0m\u001b[0m\n\u001b[0m\u001b[0;32m      7\u001b[0m \u001b[0mprint\u001b[0m\u001b[1;33m(\u001b[0m\u001b[0mx\u001b[0m\u001b[1;33m)\u001b[0m\u001b[1;33m\u001b[0m\u001b[1;33m\u001b[0m\u001b[0m\n\u001b[0;32m      8\u001b[0m \u001b[1;31m# --------- Expected Error --------\u001b[0m\u001b[1;33m\u001b[0m\u001b[1;33m\u001b[0m\u001b[1;33m\u001b[0m\u001b[0m\n",
      "\u001b[1;32mmtrand.pyx\u001b[0m in \u001b[0;36mmtrand.RandomState.randint\u001b[1;34m()\u001b[0m\n",
      "\u001b[1;31mValueError\u001b[0m: Range cannot be empty (low >= high) unless no samples are taken"
     ]
    }
   ],
   "source": [
    "# --------- Expected Error --------\n",
    "# Here we are specifying a \"low\" of -5. \n",
    "# Due to the way in which the function handles the defaults however, \n",
    "# it assumes the entered value is the high value and defaults the low to 0.\n",
    "# That means in this instance the low is higher than the high and will throw an error.\n",
    "x = np.random.randint(-5)\n",
    "print(x)\n",
    "# --------- Expected Error --------"
   ]
  },
  {
   "cell_type": "code",
   "execution_count": 15,
   "metadata": {},
   "outputs": [
    {
     "name": "stdout",
     "output_type": "stream",
     "text": [
      "[]\n"
     ]
    }
   ],
   "source": [
    "# As above but this time where the size is set to zero. \n",
    "# No error is thrown, but neither are numbers returned.\n",
    "x = np.random.randint(-5, size = 0)\n",
    "print(x)"
   ]
  },
  {
   "cell_type": "code",
   "execution_count": 16,
   "metadata": {
    "scrolled": true
   },
   "outputs": [
    {
     "data": {
      "text/plain": [
       "(array([2020., 1912., 1997., 1985., 2036., 2066., 1992., 2029., 2028.,\n",
       "        1962., 1984., 2065., 2007., 2002., 2008., 1985., 1973., 1984.,\n",
       "        1987., 2004., 1973., 1932., 2045., 1984., 1948., 2065., 2033.,\n",
       "        2065., 1953., 2074., 1932., 1970., 2016., 1980., 1968., 1948.,\n",
       "        2021., 2039., 1970., 2020., 2036., 1989., 1980., 2046., 2068.,\n",
       "        2045., 1932., 1939., 2012., 1991.]),\n",
       " array([ 0.  ,  1.98,  3.96,  5.94,  7.92,  9.9 , 11.88, 13.86, 15.84,\n",
       "        17.82, 19.8 , 21.78, 23.76, 25.74, 27.72, 29.7 , 31.68, 33.66,\n",
       "        35.64, 37.62, 39.6 , 41.58, 43.56, 45.54, 47.52, 49.5 , 51.48,\n",
       "        53.46, 55.44, 57.42, 59.4 , 61.38, 63.36, 65.34, 67.32, 69.3 ,\n",
       "        71.28, 73.26, 75.24, 77.22, 79.2 , 81.18, 83.16, 85.14, 87.12,\n",
       "        89.1 , 91.08, 93.06, 95.04, 97.02, 99.  ]),\n",
       " <a list of 50 Patch objects>)"
      ]
     },
     "execution_count": 16,
     "metadata": {},
     "output_type": "execute_result"
    },
    {
     "data": {
      "image/png": "[encoded data removed]",
      "text/plain": [
       "<Figure size 720x432 with 1 Axes>"
      ]
     },
     "metadata": {
      "needs_background": "light"
     },
     "output_type": "display_data"
    }
   ],
   "source": [
    "# Randint distribution - uniform\n",
    "x = np.random.randint(100, size = 100000)\n",
    "plt.hist(x,bins = 50)"
   ]
  },
  {
   "cell_type": "markdown",
   "metadata": {},
   "source": [
    "**random_integers**  \n",
    "\n",
    "_Syntax_ :\n",
    "random_integers(low[, high, size])\t\n",
    "\n",
    "\n",
    "**Note:**  \n",
    "The random_integers function is now deprecated. That means that this function is not recommended for use and will be withdrawn in the future. If you choose to use random_integers, your code may cease working in the future. Using the function now will result in a warning message being displayed. The randint function described above should be used instead to generate random integers. \n",
    "\n",
    "_Description_ :  \n",
    "This is an older and now deprecated function that has been replaced by randint. As such it is very similar to the randint function. The two main differences between the two functions are:\n",
    "* When specifying the limits with random_integers, the range INCLUDES both the high and low limits.\n",
    "* An int32 is always returned - you cannot specify it to be any other sort of int.\n",
    "\n",
    "_Examples_ :\n",
    "The results from the above test for randint would be the same for random_integers with the exception of the test where you specify the integer type to anything other than int32. "
   ]
  },
  {
   "cell_type": "markdown",
   "metadata": {},
   "source": [
    "**random_sample** / **random** / **ranf** / **sample**  \n",
    "_Syntax_ : random_sample([size]) / random([size]) / ranf([size]) / sample([size])   \n",
    "\n",
    "_Description_  \n",
    "random_sample may be called in numpy using a number of different aliases - \n",
    "* random_sample\n",
    "* random\n",
    "* ranf\n",
    "* sample\n",
    "\n",
    "All of the above actually call the same random_sample as shown below:"
   ]
  },
  {
   "cell_type": "code",
   "execution_count": 17,
   "metadata": {},
   "outputs": [
    {
     "name": "stdout",
     "output_type": "stream",
     "text": [
      "np.random.random_sample : <built-in method random_sample of mtrand.RandomState object at 0x0000023B0D59B6C0>\n",
      "np.random.random : <built-in method random_sample of mtrand.RandomState object at 0x0000023B0D59B6C0>\n",
      "np.random.randf : <built-in method random_sample of mtrand.RandomState object at 0x0000023B0D59B6C0>\n",
      "np.random.sample : <built-in method random_sample of mtrand.RandomState object at 0x0000023B0D59B6C0>\n"
     ]
    }
   ],
   "source": [
    "print(\"np.random.random_sample :\",np.random.random_sample)\n",
    "print(\"np.random.random :\",np.random.random)\n",
    "print(\"np.random.randf :\",np.random.ranf)\n",
    "print(\"np.random.sample :\",np.random.sample)"
   ]
  },
  {
   "cell_type": "markdown",
   "metadata": {},
   "source": [
    "Like rand, random_sample returns random floating point number in the range 0.0 up to but not including 1.0. The only difference between the two functions is the way you input the size of the array requested. In the rand functionit is assumed that an array is requested and you simply enter the size of each dimension of the array - a sinel number being one dimensional etc. For the random_sample if an array is wanted it myst be surrounded by additional brackets.\n",
    "\n",
    "Similarly the random_sample randomly takes values from the normal distribution.\n",
    "\n",
    "Returns:\t\n",
    "out : float or ndarray of floats\n",
    "Array of random floats of shape size (unless size=None, in which case a single float is returned)."
   ]
  },
  {
   "cell_type": "code",
   "execution_count": 18,
   "metadata": {},
   "outputs": [
    {
     "name": "stdout",
     "output_type": "stream",
     "text": [
      "random_sample: [0.51890568 0.5068171  0.75547777 0.46210929 0.35408838]\n",
      "rand: [0.79256444 0.21652682 0.05717363 0.36993881 0.68420386]\n"
     ]
    }
   ],
   "source": [
    "print(\"random_sample:\", np.random.random_sample(5))\n",
    "print(\"rand:\",np.random.rand(5))"
   ]
  },
  {
   "cell_type": "code",
   "execution_count": 19,
   "metadata": {},
   "outputs": [
    {
     "name": "stdout",
     "output_type": "stream",
     "text": [
      "random_sample: [[0.70589378 0.75591113 0.09716903]\n",
      " [0.59779094 0.43065575 0.67039539]]\n",
      "rand: [[0.88968467 0.48853293 0.25919219]\n",
      " [0.21939331 0.68633764 0.35176001]]\n"
     ]
    }
   ],
   "source": [
    "print(\"random_sample:\", np.random.random_sample((2,3)))\n",
    "print(\"rand:\",np.random.rand(2,3))"
   ]
  },
  {
   "cell_type": "markdown",
   "metadata": {},
   "source": [
    "**choice**  \n",
    "_Syntax:_\n",
    "choice(a[, size, replace, p])  \n",
    "\n",
    "_Description:_  \n",
    "Generates a random sample from a given 1-D array. Essentially this mean that it is the numpy equivalent of \"Pick a card, any card.\"  \n",
    "\n",
    "It requires a single parameter and this the list / tuple / array the selection must come from. It is possible to only put a single value in and in that scenario python will assume it to mean values from the range from 0 up to but not including a.  \n",
    "There are also three additional parameters you can specify, but these are optional. The first is the size of the return values. This is the number and shape of values you want returned. The default value is 1, where a single value is returned.\n",
    "\n",
    "You can also specify whether to replace a value after sampling too. By replacing we mean if for example you had a list containing numbers from 1 -10 and you asked to sample 5 numbers from that list. If you were to replace the number (replace parameter = true) then any number can come out every sampling opportunity, in this example up to five times. If the replace value is set to false however, once a value is chosen from the list it is not then returned to the list for the next sample. That means that you will always get five different numbers in the returned values. If not specified it is assumed that the values are to be replaced with the default replace setting being true.  \n",
    "\n",
    "Finally you may also specify the probabilities of each element in the selection list. If not specified, it is assumed a uniform distribution is used where (replacement aside) each number is equally likely to be chosen at each sample. If a specific probability is required, this must be entered in a list of the same length as the original list. The higher the value, the greater the chance of selecting the item in that list.\n",
    "\n",
    "_Returns:_  \n",
    "The generated random samples of the specified shape with the given probability.\n",
    "\n",
    "Raises:\t\n",
    "ValueError\n",
    "If a is an int and less than zero, if a or p are not 1-dimensional, if a is an array-like of size 0, if p is not a vector of probabilities, if a and p have different lengths, or if replace=False and the sample size is greater than the population size"
   ]
  },
  {
   "cell_type": "code",
   "execution_count": 20,
   "metadata": {},
   "outputs": [
    {
     "name": "stdout",
     "output_type": "stream",
     "text": [
      "a = [164, 25, 873, 45, 99, 45, 6452]\n",
      "Random choice from a = 164\n",
      "Another random choice from a (of size 2) = [25 45]\n",
      "Another random choice from a (of size 2*2) = [[  99   45]\n",
      " [6452   45]]\n"
     ]
    }
   ],
   "source": [
    "# a as numbers\n",
    "a = [164,25,873,45,99,45,6452]\n",
    "print(\"a =\",a)\n",
    "print(\"Random choice from a =\",np.random.choice(a))\n",
    "print(\"Another random choice from a (of size 2) =\",np.random.choice(a,2))\n",
    "print(\"Another random choice from a (of size 2*2) =\",np.random.choice(a,(2,2)))"
   ]
  },
  {
   "cell_type": "code",
   "execution_count": 21,
   "metadata": {},
   "outputs": [
    {
     "name": "stdout",
     "output_type": "stream",
     "text": [
      "a = 10\n",
      "Random choice from a = 9\n",
      "Another random choice from a (of size 5) = [7 3 1 7 7]\n"
     ]
    }
   ],
   "source": [
    "# a as a single number\n",
    "a = 10\n",
    "print(\"a =\", a)\n",
    "print(\"Random choice from a =\",np.random.choice(a))\n",
    "print(\"Another random choice from a (of size 5) =\",np.random.choice(a, 5))"
   ]
  },
  {
   "cell_type": "code",
   "execution_count": 22,
   "metadata": {
    "scrolled": true
   },
   "outputs": [
    {
     "name": "stdout",
     "output_type": "stream",
     "text": [
      "a = ['Monday', 'Tuesday', 'September', 'April', 'bananas']\n",
      "Random choice from a = bananas\n",
      "Another random choice from a (of size 3) = ['September' 'bananas' 'September']\n"
     ]
    }
   ],
   "source": [
    "# a as strings\n",
    "a = [\"Monday\", \"Tuesday\", \"September\", \"April\", \"bananas\"]\n",
    "print(\"a =\",a)\n",
    "print(\"Random choice from a =\",np.random.choice(a))\n",
    "print(\"Another random choice from a (of size 3) =\",np.random.choice(a, 3))"
   ]
  },
  {
   "cell_type": "code",
   "execution_count": 23,
   "metadata": {},
   "outputs": [
    {
     "name": "stdout",
     "output_type": "stream",
     "text": [
      "a = 10\n",
      "Random choice from a (of size 10, with uniform probability) = [2 8 5 4 4 5 3 4 7 2]\n",
      "Another random choice from a (of size 10 with weighted probabilities) = [6 6 6 2 6 4 4 6 6 6]\n"
     ]
    }
   ],
   "source": [
    "# Skewing the results\n",
    "a = 10\n",
    "print(\"a =\", a)\n",
    "print(\"Random choice from a (of size 10, with uniform probability) =\",np.random.choice(a, 10))\n",
    "print(\"Another random choice from a (of size 10 with weighted probabilities) =\",np.random.choice(a, 10, p =[0, 0, 0.1,0,0.1, 0, 0.8, 0, 0,0]))"
   ]
  },
  {
   "cell_type": "markdown",
   "metadata": {},
   "source": [
    "**random.bytes**  \n",
    "_Syntax:_  \n",
    "np.random.bytes(length)  \n",
    "\n",
    "_Description_  \n",
    "random.bytes as the name would suggest returns a randomly generated series of bytes of the defined length. Randomly generated bytes may be used in cryptography, but not the numpy generated version as it is not cryptographically secure. See below.  \n",
    "\n",
    "It takes a single parameter, an integer that defines the number of bytes returned.  \n",
    " \n",
    "_Returns:_  \n",
    "random.bytes returns the number of bytes as requested. This is actually a series of bytes but is represented in a string like manner prefaced with a \"b\"."
   ]
  },
  {
   "cell_type": "code",
   "execution_count": 52,
   "metadata": {},
   "outputs": [
    {
     "name": "stdout",
     "output_type": "stream",
     "text": [
      "Returns: b'U'\n",
      "Type of x = <class 'bytes'>\n"
     ]
    }
   ],
   "source": [
    "x = np.random.bytes(1)\n",
    "print(\"Returns:\",x)\n",
    "print(\"Type of x =\",type(x))"
   ]
  },
  {
   "cell_type": "code",
   "execution_count": 53,
   "metadata": {},
   "outputs": [
    {
     "name": "stdout",
     "output_type": "stream",
     "text": [
      "Length = 1 Result = b'\\x1a' String length = 1\n",
      "Length = 2 Result = b'\\nJ' String length = 2\n",
      "Length = 3 Result = b'$\\xf9\\x14' String length = 3\n",
      "Length = 4 Result = b'\\x18r\\xfc\\xbb' String length = 4\n",
      "Length = 5 Result = b'\\xccU\\x99K\\xd3' String length = 5\n",
      "Length = 6 Result = b'}a\\xd2\\x87qy' String length = 6\n",
      "Length = 7 Result = b'y\\x1ee\\x8d\\xfa\\x9cJ' String length = 7\n",
      "Length = 8 Result = b'O\\x99\\xcfD\\x81\\xd6\\xf1\\xc3' String length = 8\n",
      "Length = 9 Result = b'\\x99\\x02U@\\x95\\xcd9\\xf6P' String length = 9\n",
      "Length = 10 Result = b'\\x02\\x88W%.\"\\x84\\x87|\\xb6' String length = 10\n"
     ]
    }
   ],
   "source": [
    "for i in range (1,11):\n",
    "    x = np.random.bytes(i)\n",
    "    print(\"Length =\",i ,\"Result =\", x, \"String length =\", len(x))"
   ]
  },
  {
   "cell_type": "code",
   "execution_count": 64,
   "metadata": {},
   "outputs": [
    {
     "data": {
      "text/plain": [
       "(array([518., 489., 511., 456., 538., 514., 474., 547., 467., 545., 544.,\n",
       "        525., 500., 508., 482., 481., 510., 509., 491., 480., 536., 477.,\n",
       "        510., 494., 496., 490., 518., 492., 495., 477., 499., 477., 494.,\n",
       "        485., 481., 522., 487., 460., 509., 518., 523., 502., 503., 524.,\n",
       "        504., 523., 473., 481., 489., 497., 508., 495., 501., 511., 518.,\n",
       "        491., 480., 468., 489., 505., 471., 431., 478., 527., 460., 496.,\n",
       "        516., 441., 521., 525., 493., 488., 530., 511., 491., 523., 503.,\n",
       "        503., 482., 495., 502., 535., 506., 497., 491., 525., 509., 511.,\n",
       "        492., 473., 536., 519., 482., 512., 484., 533., 489., 482., 503.,\n",
       "        543.]),\n",
       " array([   0.,   10.,   20.,   30.,   40.,   50.,   60.,   70.,   80.,\n",
       "          90.,  100.,  110.,  120.,  130.,  140.,  150.,  160.,  170.,\n",
       "         180.,  190.,  200.,  210.,  220.,  230.,  240.,  250.,  260.,\n",
       "         270.,  280.,  290.,  300.,  310.,  320.,  330.,  340.,  350.,\n",
       "         360.,  370.,  380.,  390.,  400.,  410.,  420.,  430.,  440.,\n",
       "         450.,  460.,  470.,  480.,  490.,  500.,  510.,  520.,  530.,\n",
       "         540.,  550.,  560.,  570.,  580.,  590.,  600.,  610.,  620.,\n",
       "         630.,  640.,  650.,  660.,  670.,  680.,  690.,  700.,  710.,\n",
       "         720.,  730.,  740.,  750.,  760.,  770.,  780.,  790.,  800.,\n",
       "         810.,  820.,  830.,  840.,  850.,  860.,  870.,  880.,  890.,\n",
       "         900.,  910.,  920.,  930.,  940.,  950.,  960.,  970.,  980.,\n",
       "         990., 1000.]),\n",
       " <a list of 100 Patch objects>)"
      ]
     },
     "execution_count": 64,
     "metadata": {},
     "output_type": "execute_result"
    },
    {
     "data": {
      "image/png": "[encoded data removed]",
      "text/plain": [
       "<Figure size 720x432 with 1 Axes>"
      ]
     },
     "metadata": {
      "needs_background": "light"
     },
     "output_type": "display_data"
    }
   ],
   "source": [
    "# When converted to int values - the random.bytes generate byte data in the uniform distribution\n",
    "uint16_max = np.iinfo(np.uint16).max \n",
    "k=np.frombuffer(np.random.bytes(100000),dtype=np.uint16) \n",
    "x = np.uint16((1000)*(k/float(uint16_max)))\n",
    "plt.hist(x,100)"
   ]
  },
  {
   "cell_type": "code",
   "execution_count": 37,
   "metadata": {},
   "outputs": [
    {
     "name": "stdout",
     "output_type": "stream",
     "text": [
      "30.5 µs ± 192 ns per loop (mean ± std. dev. of 7 runs, 10000 loops each)\n"
     ]
    }
   ],
   "source": [
    "%timeit np.random.randint(0,1000, 10000)"
   ]
  },
  {
   "cell_type": "code",
   "execution_count": 38,
   "metadata": {},
   "outputs": [
    {
     "name": "stdout",
     "output_type": "stream",
     "text": [
      "101 µs ± 186 ns per loop (mean ± std. dev. of 7 runs, 10000 loops each)\n"
     ]
    }
   ],
   "source": [
    "%timeit "
   ]
  },
  {
   "cell_type": "markdown",
   "metadata": {},
   "source": [
    "While the name suggests that the output of numpy.random is random, it is however pseudorandom in nature, meaning that data / functions generated from this library element has all the appearance of randomness, but in fact is generated in a specific deterministic manner. This via a pseudorandom number generator (PRNG) and for all intents and purposes is fully sufficient for all our data analytics (and many other) needs.  \n",
    "\n",
    "The whole randomness generation is based on two components:\n",
    "* **_BitGenerators_**: Objects that generate random numbers. These are typically unsigned integer words filled with sequences of either 32 or 64 random bits.\n",
    "* **_Generators_**: Objects that transform sequences of random bits from a BitGenerator into sequences of numbers that follow a specific probability distribution (such as uniform, Normal or Binomial) within a specified interval.\n"
   ]
  },
  {
   "cell_type": "markdown",
   "metadata": {},
   "source": [
    "## Functions ##"
   ]
  },
  {
   "cell_type": "markdown",
   "metadata": {},
   "source": [
    "### Simple Random Data ##"
   ]
  },
  {
   "cell_type": "markdown",
   "metadata": {},
   "source": [
    "### Permutations ###"
   ]
  },
  {
   "cell_type": "markdown",
   "metadata": {},
   "source": [
    "### Distribution Functions ###"
   ]
  },
  {
   "cell_type": "markdown",
   "metadata": {},
   "source": [
    "**1. Distribution Function 1**"
   ]
  },
  {
   "cell_type": "markdown",
   "metadata": {},
   "source": [
    "**2. Distribution Function 2**"
   ]
  },
  {
   "cell_type": "markdown",
   "metadata": {},
   "source": [
    "**3. Distribution Function 3**"
   ]
  },
  {
   "cell_type": "markdown",
   "metadata": {},
   "source": [
    "**4. Distribution Function 4**"
   ]
  },
  {
   "cell_type": "markdown",
   "metadata": {},
   "source": [
    "**5. Distribution Function 5**"
   ]
  },
  {
   "cell_type": "markdown",
   "metadata": {},
   "source": [
    "### Seeds ###"
   ]
  },
  {
   "cell_type": "markdown",
   "metadata": {},
   "source": [
    "## References ##\n",
    "1. NumPy Site http://www.numpy.org/\n",
    "2. Project Jupyter http://jupyter.org/  \n",
    "3. NumPy Wikipedia Page https://en.wikipedia.org/wiki/NumPy  \n",
    "4. Python for Data Analysis Book  \n",
    "5. https://realpython.com/python-random/  \n",
    "6. https://stackoverflow.com/questions/18829185/difference-between-various-numpy-random-functions  \n",
    "7. https://www.sharpsightlabs.com/blog/numpy-random-choice/  \n",
    "8.   \n",
    "9. \n"
   ]
  }
 ],
 "metadata": {
  "kernelspec": {
   "display_name": "Python 3",
   "language": "python",
   "name": "python3"
  },
  "language_info": {
   "codemirror_mode": {
    "name": "ipython",
    "version": 3
   },
   "file_extension": ".py",
   "mimetype": "text/x-python",
   "name": "python",
   "nbconvert_exporter": "python",
   "pygments_lexer": "ipython3",
   "version": "3.7.3"
  }
 },
 "nbformat": 4,
 "nbformat_minor": 2
}
