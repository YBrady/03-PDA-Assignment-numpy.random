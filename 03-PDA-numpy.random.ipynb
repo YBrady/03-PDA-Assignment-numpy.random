{
 "cells": [
  {
   "cell_type": "markdown",
   "metadata": {},
   "source": [
    "<img align=\"left\" src=\"images/GMIT-logo.png\" alt=\"GMIT\" width=\"220\"/>                                                      <img align=\"right\" src=\"images/data-analytics.png\" alt=\"HDipDA\" width=\"250\"/>  \n",
    "\n",
    "# <center>Programming for Data Analysis 2019 Assignment: numpy.random</center>  #"
   ]
  },
  {
   "cell_type": "markdown",
   "metadata": {},
   "source": [
    "***\n",
    "**Module Name**: Programming for Data Analysis  \n",
    "**Module Number**: 52465  \n",
    "**Student Name**: Yvonne Brady  \n",
    "**Student ID**: G00376355  \n",
    "***"
   ]
  },
  {
   "cell_type": "markdown",
   "metadata": {},
   "source": [
    "**Problem statement**\n",
    "The following assignment concerns the numpy.random package in Python. You are\n",
    "required to create a Jupyter notebook explaining the use of the package, including\n",
    "detailed explanations of at least five of the distributions provided for in the package.\n",
    "There are four distinct tasks to be carried out in your Jupyter notebook.\n",
    "1. Explain the overall purpose of the package.\n",
    "2. Explain the use of the “Simple random data” and “Permutations” functions.\n",
    "3. Explain the use and purpose of at least five “Distributions” functions.\n",
    "4. Explain the use of seeds in generating pseudorandom numbers."
   ]
  },
  {
   "cell_type": "markdown",
   "metadata": {},
   "source": [
    "## Introduction ##\n",
    "This assignment is completed in part fulfillment of the Programming for Data Analysis module of the Higher Diploma in Data Analytics awarded in GMIT. The goal of this assignment is to explain in lay terms the importance and use of the Python package NumPy, with particular focus on numpy.random."
   ]
  },
  {
   "cell_type": "markdown",
   "metadata": {},
   "source": [
    "## Purpose of NumPy ##\n",
    "Numpy is one of the core packages used in data analytics on the Python platform. It comprises a series of functions and methods that allow for easier data storage, retrieval and manipulation. It is centered on arrays, which are in essence what each dataset is made up of.  \n",
    "\n",
    "NumPy has been around since 2005, when Travis Oliphant managed to merge the previously two competing numerical packagesin Python, Numeric and NumArray,  into one package, NumPy. It is a contraction of the phrease Numerical Python and is the basis of most if not all Python packages with scientific functionality.  \n",
    "  \n",
    "Some of the main parts of NumPy include:  \n",
    "* ndarray - a multidimensional array  \n",
    "* functions - that perform mathematical operations quickly and efficiently. \n",
    "\n",
    "NumPy library of algorithms is written in the C language, a compiled rather than interpreted language which allows faster processing times. Its operations make it possible to perform complex calculations on entire arrays without the need for looping through each element in Python. NumPy algorithms are generally at least 10 to 100 times faster than their Python scripted alternatives.\n",
    "\n",
    "NumPy is an external package that must be imported into python for use. Convention has it that it is imported as \"np\". Each numpy function etc can then be called by prefacing it with np."
   ]
  },
  {
   "cell_type": "code",
   "execution_count": 1,
   "metadata": {},
   "outputs": [],
   "source": [
    "%matplotlib inline\n",
    "import numpy as np # Importing the NumPy library\n",
    "import matplotlib.pyplot as plt # Importing matplotlib for plotting"
   ]
  },
  {
   "cell_type": "markdown",
   "metadata": {},
   "source": [
    "### Purpose of numpy.random ##\n",
    "numpy.random is the source of \"randomness\" in python. Whenever you need random data, be it random numbers, random sample of data, random placement of known values in an array, numpy.random provides all this functionality and more.  \n",
    "\n",
    "Random numbers are often used to generate random series of numbers, for testing programs in various scenarios, for random sampling of datasets, for many games, gamblings, for determination of probabilities of risks etc. One such sample is given below in the simple game below:"
   ]
  },
  {
   "cell_type": "code",
   "execution_count": 2,
   "metadata": {},
   "outputs": [
    {
     "name": "stdout",
     "output_type": "stream",
     "text": [
      "Pick a number between 1 and 10: 4\n"
     ]
    }
   ],
   "source": [
    "# Generate a random integer between 1 and 10\n",
    "compChoice = np.random.randint(1,11)\n",
    "# Ask the player to pick a number\n",
    "yourChoice = int(input(\"Pick a number between 1 and 10: \"))"
   ]
  },
  {
   "cell_type": "code",
   "execution_count": 3,
   "metadata": {},
   "outputs": [
    {
     "name": "stdout",
     "output_type": "stream",
     "text": [
      "Congrats - you guessed 4 and I picked 4\n"
     ]
    }
   ],
   "source": [
    "if compChoice == yourChoice:\n",
    "    # If the player guessed right, tell them\n",
    "    print(\"Congrats - you guessed\", yourChoice, \"and I picked\", compChoice)\n",
    "else:\n",
    "    # If the player guessed incorrectly, tell them too\n",
    "    print(\"Hard luck. You guessed\", yourChoice, \"and I picked\", compChoice)"
   ]
  },
  {
   "cell_type": "markdown",
   "metadata": {},
   "source": [
    "There are a number of functions available to generate simple random data as shown in Table 1 below. We will have a look at each of these in turn."
   ]
  },
  {
   "cell_type": "markdown",
   "metadata": {},
   "source": [
    "| Function                           \t| Use                                                                   \t|\n",
    "|------------------------------------\t|-----------------------------------------------------------------------\t|\n",
    "| rand(d0, d1, …, dn)                \t| Random values in a given shape.                                       \t|\n",
    "| randn(d0, d1, …, dn)               \t| Return a sample (or samples) from the “standard normal” distribution. \t|\n",
    "| randint(low[, high, size, dtype])  \t| Return random integers from low (inclusive) to high (exclusive).      \t|\n",
    "| random_integers(low[, high, size]) \t| Random integers of type np.int between low and high, inclusive.       \t|\n",
    "| random_sample([size])              \t| Return random floats in the half-open interval [0.0, 1.0).            \t|\n",
    "| random([size])                     \t| Return random floats in the half-open interval [0.0, 1.0).            \t|\n",
    "| ranf([size])                       \t| Return random floats in the half-open interval [0.0, 1.0).            \t|\n",
    "| sample([size])                     \t| Return random floats in the half-open interval [0.0, 1.0).            \t|\n",
    "| choice(a[, size, replace, p])      \t| Generates a random sample from a given 1-D array                      \t|\n",
    "| bytes(length)                      \t| Return random bytes.                                                  \t|\n",
    "  \n",
    "**<center>Table 1: Simple Random Data</center>**"
   ]
  },
  {
   "cell_type": "markdown",
   "metadata": {},
   "source": [
    "**rand**  \n",
    "_Syntax_ :  \n",
    "np.random.rand(a, b, ....z)  \n",
    "  \n",
    "_Returns_ :  \n",
    "Rand returns a randomly generated array of size specified in the the brackets, for example if only one number was specified it would return that many numbers in a list. All the numbers returned are between 0 and 1.  \n",
    "The numbers returned are randomly selected with a uniform distribution, see below about distributon\n",
    "  \n",
    "_Example_ :"
   ]
  },
  {
   "cell_type": "code",
   "execution_count": 10,
   "metadata": {},
   "outputs": [
    {
     "name": "stdout",
     "output_type": "stream",
     "text": [
      "Here x is a randomly generated list of 4000 numbers ranging from 0.00030347106677208746 to 0.9999089723516865\n"
     ]
    },
    {
     "data": {
      "image/png": "[encoded data removed]",
      "text/plain": [
       "<Figure size 432x288 with 1 Axes>"
      ]
     },
     "metadata": {
      "needs_background": "light"
     },
     "output_type": "display_data"
    }
   ],
   "source": [
    "# Here we are using np.random.rand based on your choice of number above\n",
    "x = np.random.rand(yourChoice*1000)\n",
    "plt.hist(x, 20)\n",
    "print(\"Here x is a randomly generated list of\", yourChoice * 1000, \"numbers ranging from\", min(x), \"to\" , max(x))"
   ]
  },
  {
   "cell_type": "code",
   "execution_count": 5,
   "metadata": {},
   "outputs": [
    {
     "name": "stdout",
     "output_type": "stream",
     "text": [
      "Here x is a randomly generated list of 4 x 4 numbers\n"
     ]
    },
    {
     "data": {
      "text/plain": [
       "array([[0.14436154, 0.99193875, 0.86015084, 0.56570904],\n",
       "       [0.91131965, 0.98864866, 0.69885391, 0.31847062],\n",
       "       [0.11085882, 0.12550831, 0.38695635, 0.01751728],\n",
       "       [0.34114075, 0.15405382, 0.98086745, 0.01265361]])"
      ]
     },
     "execution_count": 5,
     "metadata": {},
     "output_type": "execute_result"
    },
    {
     "data": {
      "image/png": "[encoded data removed]",
      "text/plain": [
       "<Figure size 432x288 with 1 Axes>"
      ]
     },
     "metadata": {
      "needs_background": "light"
     },
     "output_type": "display_data"
    }
   ],
   "source": [
    "# Here we are using np.random.rand based on an array of size chosn by the game above.\n",
    "x = np.random.rand(yourChoice, compChoice)\n",
    "plt.hist(x, 20)\n",
    "print(\"Here x is a randomly generated list of\", yourChoice, \"x\", compChoice, \"numbers\")\n",
    "x"
   ]
  },
  {
   "cell_type": "code",
   "execution_count": 8,
   "metadata": {},
   "outputs": [
    {
     "name": "stdout",
     "output_type": "stream",
     "text": [
      " a 4D array:\n",
      "[[[[0.80232144 0.14261115 0.79932813 0.67633419 0.48867927]\n",
      "   [0.08170792 0.40137911 0.23161174 0.98130141 0.27545069]\n",
      "   [0.49724483 0.13246474 0.75433209 0.43926466 0.67322683]\n",
      "   [0.83896089 0.91505605 0.01253476 0.62332922 0.31012103]]\n",
      "\n",
      "  [[0.69265179 0.29311039 0.33317348 0.0236649  0.6444158 ]\n",
      "   [0.43681249 0.03792542 0.7856109  0.35616154 0.74475325]\n",
      "   [0.53542897 0.04508698 0.51449902 0.64087248 0.51849297]\n",
      "   [0.8336457  0.68044158 0.22379092 0.59193346 0.37042302]]\n",
      "\n",
      "  [[0.28627468 0.11225932 0.76889254 0.63153308 0.60048377]\n",
      "   [0.13618159 0.24070263 0.3949114  0.46072958 0.18186216]\n",
      "   [0.29000098 0.7648774  0.64864261 0.28201386 0.51481943]\n",
      "   [0.82208915 0.79625756 0.33353489 0.94202894 0.0377171 ]]]\n",
      "\n",
      "\n",
      " [[[0.47498946 0.27832881 0.95334671 0.2502335  0.71792811]\n",
      "   [0.55850406 0.66709935 0.48503658 0.27956504 0.43548076]\n",
      "   [0.33083933 0.7515439  0.66813597 0.95378221 0.23684673]\n",
      "   [0.92789409 0.62772492 0.07180334 0.3329783  0.12854446]]\n",
      "\n",
      "  [[0.67718383 0.88597343 0.94706439 0.03386471 0.25163309]\n",
      "   [0.85213074 0.49435204 0.80196986 0.4698153  0.08913493]\n",
      "   [0.59638189 0.69610399 0.510119   0.54752322 0.80317546]\n",
      "   [0.19201866 0.0428519  0.09254568 0.24392545 0.7165414 ]]\n",
      "\n",
      "  [[0.28157269 0.92919876 0.81672403 0.29006857 0.56576854]\n",
      "   [0.85353613 0.59987664 0.03029947 0.45672265 0.45633625]\n",
      "   [0.67935909 0.02118933 0.11202319 0.33641071 0.21384701]\n",
      "   [0.43340946 0.97384692 0.44533667 0.40487846 0.27285859]]]]\n"
     ]
    }
   ],
   "source": [
    "# Other random number arrays:\n",
    "print(\" a 4D array:\")\n",
    "print(np.random.rand(2,3,4,5))"
   ]
  },
  {
   "cell_type": "markdown",
   "metadata": {},
   "source": [
    "While we have shown above that the random functions can generate arrays of data, for the rest of this notebook we will only look at single dimensional arrays."
   ]
  },
  {
   "cell_type": "markdown",
   "metadata": {},
   "source": [
    "**randn**  \n",
    "_Syntax_ :  \n",
    "np.random.randn(a, b, ....z)  \n",
    "  \n",
    "_Returns_ :  \n",
    "randn returns a randomly generated array of size specified in the the brackets, just like the rand function. Unlike the rand function, the values returned centered on 0 with the majority falling between -1 and 1. The is due to the difference between rand and randn - distribution of the random figures returned.  \n",
    "  \n",
    "With the rand function, values are returned with a uniform distribution. This means that all numbers between 0 and 1 are equally likely to be returned.  \n",
    "\n",
    "With the randn function, the returned figures follow a normalised distribution. This means that the values around the 0.5 are the most likely and increasingly less likely the further from the midpoint the value is. \n",
    "\n",
    "_Example_ :"
   ]
  },
  {
   "cell_type": "code",
   "execution_count": 23,
   "metadata": {},
   "outputs": [
    {
     "name": "stdout",
     "output_type": "stream",
     "text": [
      "Here xn is a randomly generated list of 4000 numbers ranging from -3.3584275881258123 to 3.799061437657445\n"
     ]
    },
    {
     "data": {
      "image/png": "[encoded data removed]",
      "text/plain": [
       "<Figure size 1152x432 with 1 Axes>"
      ]
     },
     "metadata": {
      "needs_background": "light"
     },
     "output_type": "display_data"
    }
   ],
   "source": [
    "# Here we are using np.random.randn based on your choice of number above\n",
    "xr = np.random.rand(yourChoice*1000)\n",
    "xn = np.random.randn(yourChoice*1000)\n",
    "plt.hist(xn, 20)\n",
    "print(\"Here xn is a randomly generated list of\", yourChoice * 1000, \"numbers ranging from\", min(xn), \"to\" , max(xn))"
   ]
  },
  {
   "cell_type": "code",
   "execution_count": 24,
   "metadata": {},
   "outputs": [
    {
     "data": {
      "image/png": "[encoded data removed]",
      "text/plain": [
       "<Figure size 1152x432 with 2 Axes>"
      ]
     },
     "metadata": {
      "needs_background": "light"
     },
     "output_type": "display_data"
    }
   ],
   "source": [
    "plt.rcParams['figure.figsize'] = [16, 6]\n",
    "# Lets compare the two figures\n",
    "fig, (ax1, ax2) = plt.subplots(1, 2, sharey=True)\n",
    "ax1.hist(xn,20)\n",
    "ax2.hist(xr,20)\n",
    "\n",
    "# Set labels\n",
    "ax1.set_xlabel(\"Number\")\n",
    "ax2.set_xlabel(\"Number\")\n",
    "ax1.set_ylabel(\"Frequency\")\n",
    "fig.suptitle('Comparison of rand and randn', fontsize=18)\n",
    "ax1.set_title('randn',fontsize=14)\n",
    "ax2.set_title('rand',fontsize=14)\n",
    "plt.show()"
   ]
  },
  {
   "cell_type": "markdown",
   "metadata": {},
   "source": [
    "While the name suggests that the output of numpy.random is random, it is however pseudorandom in nature, meaning that data / functions generated from this library element has all the appearance of randomness, but in fact is generated in a specific deterministic manner. This via a pseudorandom number generator (PRNG) and for all intents and purposes is fully sufficient for all our data analytics (and many other) needs.  \n",
    "\n",
    "The whole randomness generation is based on two components:\n",
    "* **_BitGenerators_**: Objects that generate random numbers. These are typically unsigned integer words filled with sequences of either 32 or 64 random bits.\n",
    "* **_Generators_**: Objects that transform sequences of random bits from a BitGenerator into sequences of numbers that follow a specific probability distribution (such as uniform, Normal or Binomial) within a specified interval.\n"
   ]
  },
  {
   "cell_type": "markdown",
   "metadata": {},
   "source": [
    "## Functions ##"
   ]
  },
  {
   "cell_type": "markdown",
   "metadata": {},
   "source": [
    "### Simple Random Data ##"
   ]
  },
  {
   "cell_type": "markdown",
   "metadata": {},
   "source": [
    "### Permutations ###"
   ]
  },
  {
   "cell_type": "markdown",
   "metadata": {},
   "source": [
    "### Distribution Functions ###"
   ]
  },
  {
   "cell_type": "markdown",
   "metadata": {},
   "source": [
    "**1. Distribution Function 1**"
   ]
  },
  {
   "cell_type": "markdown",
   "metadata": {},
   "source": [
    "**2. Distribution Function 2**"
   ]
  },
  {
   "cell_type": "markdown",
   "metadata": {},
   "source": [
    "**3. Distribution Function 3**"
   ]
  },
  {
   "cell_type": "markdown",
   "metadata": {},
   "source": [
    "**4. Distribution Function 4**"
   ]
  },
  {
   "cell_type": "markdown",
   "metadata": {},
   "source": [
    "**5. Distribution Function 5**"
   ]
  },
  {
   "cell_type": "markdown",
   "metadata": {},
   "source": [
    "### Seeds ###"
   ]
  },
  {
   "cell_type": "markdown",
   "metadata": {},
   "source": [
    "## References ##\n",
    "1. NumPy Site http://www.numpy.org/\n",
    "2. Project Jupyter http://jupyter.org/  \n",
    "3. NumPy Wikipedia Page https://en.wikipedia.org/wiki/NumPy  \n",
    "4. Python for Data Analysis Book  \n",
    "5. https://realpython.com/python-random/  \n"
   ]
  },
  {
   "cell_type": "code",
   "execution_count": null,
   "metadata": {},
   "outputs": [],
   "source": []
  }
 ],
 "metadata": {
  "kernelspec": {
   "display_name": "Python 3",
   "language": "python",
   "name": "python3"
  },
  "language_info": {
   "codemirror_mode": {
    "name": "ipython",
    "version": 3
   },
   "file_extension": ".py",
   "mimetype": "text/x-python",
   "name": "python",
   "nbconvert_exporter": "python",
   "pygments_lexer": "ipython3",
   "version": "3.7.3"
  }
 },
 "nbformat": 4,
 "nbformat_minor": 2
}
