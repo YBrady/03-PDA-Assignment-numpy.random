{
 "cells": [
  {
   "cell_type": "markdown",
   "metadata": {},
   "source": [
    "<img align=\"left\" src=\"images/GMIT-logo.png\" alt=\"GMIT\" width=\"220\"/>                                                      <img align=\"right\" src=\"images/data-analytics.png\" alt=\"HDipDA\" width=\"250\"/>  \n",
    "\n",
    "# <center>Programming for Data Analysis 2019 Assignment: numpy.random</center>  #"
   ]
  },
  {
   "cell_type": "markdown",
   "metadata": {},
   "source": [
    "***\n",
    "**Module Name**: Programming for Data Analysis  \n",
    "**Module Number**: 52465  \n",
    "**Student Name**: Yvonne Brady  \n",
    "**Student ID**: G00376355  \n",
    "***"
   ]
  },
  {
   "cell_type": "markdown",
   "metadata": {},
   "source": [
    "**Problem statement**\n",
    "The following assignment concerns the numpy.random package in Python. You are\n",
    "required to create a Jupyter notebook explaining the use of the package, including\n",
    "detailed explanations of at least five of the distributions provided for in the package.\n",
    "There are four distinct tasks to be carried out in your Jupyter notebook.\n",
    "1. Explain the overall purpose of the package.\n",
    "2. Explain the use of the “Simple random data” and “Permutations” functions.\n",
    "3. Explain the use and purpose of at least five “Distributions” functions.\n",
    "4. Explain the use of seeds in generating pseudorandom numbers."
   ]
  },
  {
   "cell_type": "markdown",
   "metadata": {},
   "source": [
    "## Introduction ##\n",
    "This assignment is completed in part fulfillment of the Programming for Data Analysis module of the Higher Diploma in Data Analytics awarded in GMIT. The goal of this assignment is to explain in lay terms the importance and use of the Python package NumPy, with particular focus on numpy.random."
   ]
  },
  {
   "cell_type": "markdown",
   "metadata": {},
   "source": [
    "## Purpose of NumPy ##\n",
    "Numpy is one of the core packages used in data analytics on the Python platform. It comprises a series of functions and methods that allow for easier data storage, retrieval and manipulation. It is centered on arrays, which are in essence what each dataset is made up of.  \n",
    "\n",
    "NumPy has been around since 2005, when Travis Oliphant managed to merge the previously two competing numerical packagesin Python, Numeric and NumArray,  into one package, NumPy. It is a contraction of the phrease Numerical Python and is the basis of most if not all Python packages with scientific functionality.  \n",
    "  \n",
    "Some of the main parts of NumPy include:  \n",
    "* ndarray - a multidimensional array  \n",
    "* functions - that perform mathematical operations quickly and efficiently. \n",
    "\n",
    "NumPy library of algorithms is written in the C language, a compiled rather than interpreted language which allows faster processing times. Its operations make it possible to perform complex calculations on entire arrays without the need for looping through each element in Python. NumPy algorithms are generally at least 10 to 100 times faster than their Python scripted alternatives.\n",
    "\n",
    "NumPy is an external package that must be imported into python for use. Convention has it that it is imported as \"np\". Each numpy function etc can then be called by prefacing it with np."
   ]
  },
  {
   "cell_type": "code",
   "execution_count": 1,
   "metadata": {},
   "outputs": [],
   "source": [
    "%matplotlib inline\n",
    "import numpy as np # Importing the NumPy library\n",
    "import matplotlib.pyplot as plt # Importing matplotlib for plotting\n",
    "plt.rcParams['figure.figsize'] = [20, 10] # Setting the plot size"
   ]
  },
  {
   "cell_type": "markdown",
   "metadata": {},
   "source": [
    "### Purpose of numpy.random ##\n",
    "numpy.random is the source of \"randomness\" in python. Whenever you need random data, be it random numbers, random sample of data, random placement of known values in an array, numpy.random provides all this functionality and more.  \n",
    "\n",
    "Random numbers are often used to generate random series of numbers, for testing programs in various scenarios, for random sampling of datasets, for many games, gamblings, for determination of probabilities of risks etc. One such sample is given below in the simple game below:"
   ]
  },
  {
   "cell_type": "code",
   "execution_count": 2,
   "metadata": {},
   "outputs": [
    {
     "name": "stdout",
     "output_type": "stream",
     "text": [
      "Pick a number between 1 and 10: 8\n"
     ]
    }
   ],
   "source": [
    "# Generate a random integer between 1 and 10\n",
    "compChoice = np.random.randint(1,11)\n",
    "# Ask the player to pick a number\n",
    "yourChoice = int(input(\"Pick a number between 1 and 10: \"))"
   ]
  },
  {
   "cell_type": "code",
   "execution_count": 3,
   "metadata": {},
   "outputs": [
    {
     "name": "stdout",
     "output_type": "stream",
     "text": [
      "Hard luck. You guessed 8 and I picked 3\n"
     ]
    }
   ],
   "source": [
    "if compChoice == yourChoice:\n",
    "    # If the player guessed right, tell them\n",
    "    print(\"Congrats - you guessed\", yourChoice, \"and I picked\", compChoice)\n",
    "else:\n",
    "    # If the player guessed incorrectly, tell them too\n",
    "    print(\"Hard luck. You guessed\", yourChoice, \"and I picked\", compChoice)"
   ]
  },
  {
   "cell_type": "markdown",
   "metadata": {},
   "source": [
    "## Functions: Simple Random Data##"
   ]
  },
  {
   "cell_type": "markdown",
   "metadata": {},
   "source": [
    "There are a number of functions available to generate simple random data as shown in Table 1 below. We will have a look at each of these in turn."
   ]
  },
  {
   "cell_type": "markdown",
   "metadata": {},
   "source": [
    "| Function                           \t| Use                                                                   \t|\n",
    "|------------------------------------\t|-----------------------------------------------------------------------\t|\n",
    "| rand(d0, d1, …, dn)                \t| Random values in a given shape.                                       \t|\n",
    "| randn(d0, d1, …, dn)               \t| Return a sample (or samples) from the “standard normal” distribution. \t|\n",
    "| randint(low[, high, size, dtype])  \t| Return random integers from low (inclusive) to high (exclusive).      \t|\n",
    "| random_integers(low[, high, size]) \t| Random integers of type np.int between low and high, inclusive.       \t|\n",
    "| random_sample([size])              \t| Return random floats in the half-open interval [0.0, 1.0).            \t|\n",
    "| random([size])                     \t| Return random floats in the half-open interval [0.0, 1.0).            \t|\n",
    "| ranf([size])                       \t| Return random floats in the half-open interval [0.0, 1.0).            \t|\n",
    "| sample([size])                     \t| Return random floats in the half-open interval [0.0, 1.0).            \t|\n",
    "| choice(a[, size, replace, p])      \t| Generates a random sample from a given 1-D array                      \t|\n",
    "| bytes(length)                      \t| Return random bytes.                                                  \t|\n",
    "  \n",
    "**<center>Table 1: Simple Random Data</center>**"
   ]
  },
  {
   "cell_type": "markdown",
   "metadata": {},
   "source": [
    "**rand**  \n",
    "_Syntax_ :  \n",
    "np.random.rand(a, b, ....z)  \n",
    "  \n",
    "_Returns_ :  \n",
    "Rand returns a randomly generated array of size specified in the the brackets, for example if only one number was specified it would return that many numbers in a list. All the numbers returned are between 0 and 1.  \n",
    "The numbers returned are randomly selected with a uniform distribution, see below about distributon\n",
    "  \n",
    "_Example_ :"
   ]
  },
  {
   "cell_type": "code",
   "execution_count": 4,
   "metadata": {},
   "outputs": [
    {
     "name": "stdout",
     "output_type": "stream",
     "text": [
      "Here x is a randomly generated list of 8000 numbers ranging from 6.478355403594094e-05 to 0.9999736719840376\n"
     ]
    },
    {
     "data": {
      "image/png": "[encoded data removed]",
      "text/plain": [
       "<Figure size 720x432 with 1 Axes>"
      ]
     },
     "metadata": {
      "needs_background": "light"
     },
     "output_type": "display_data"
    }
   ],
   "source": [
    "# Here we are using np.random.rand based on your choice of number above\n",
    "x = np.random.rand(yourChoice*1000)\n",
    "plt.rcParams['figure.figsize'] = [10, 6] # Setting the plot size\n",
    "plt.hist(x, 20)\n",
    "print(\"Here x is a randomly generated list of\", yourChoice * 1000, \"numbers ranging from\", min(x), \"to\" , max(x))"
   ]
  },
  {
   "cell_type": "code",
   "execution_count": 5,
   "metadata": {},
   "outputs": [
    {
     "name": "stdout",
     "output_type": "stream",
     "text": [
      "Here x is a randomly generated list of 8 x 3 numbers\n"
     ]
    },
    {
     "data": {
      "text/plain": [
       "array([[8.86604248e-01, 8.70852772e-01, 3.34916841e-01],\n",
       "       [4.04761986e-02, 3.05396568e-01, 6.47899402e-01],\n",
       "       [7.18331435e-01, 2.60022950e-04, 9.88922229e-01],\n",
       "       [8.12332086e-01, 7.16485051e-01, 6.29807616e-01],\n",
       "       [4.57311236e-01, 3.56400737e-01, 6.91341556e-01],\n",
       "       [7.41624776e-01, 5.53145956e-01, 3.76943401e-01],\n",
       "       [6.90456680e-01, 3.82441399e-01, 2.53099704e-01],\n",
       "       [1.00986093e-01, 9.62896084e-02, 7.76502986e-01]])"
      ]
     },
     "execution_count": 5,
     "metadata": {},
     "output_type": "execute_result"
    },
    {
     "data": {
      "image/png": "[encoded data removed]",
      "text/plain": [
       "<Figure size 720x432 with 1 Axes>"
      ]
     },
     "metadata": {
      "needs_background": "light"
     },
     "output_type": "display_data"
    }
   ],
   "source": [
    "# Here we are using np.random.rand based on an array of size chosn by the game above.\n",
    "x = np.random.rand(yourChoice, compChoice)\n",
    "plt.hist(x, 20)\n",
    "print(\"Here x is a randomly generated list of\", yourChoice, \"x\", compChoice, \"numbers\")\n",
    "x"
   ]
  },
  {
   "cell_type": "code",
   "execution_count": 6,
   "metadata": {},
   "outputs": [
    {
     "name": "stdout",
     "output_type": "stream",
     "text": [
      " a 4D array:\n",
      "[[[[0.25239557 0.28750294 0.75485442 0.92663992 0.11432432]\n",
      "   [0.20720629 0.79343719 0.99507541 0.89629254 0.99073128]\n",
      "   [0.83178466 0.09399801 0.40932192 0.7819621  0.78760013]\n",
      "   [0.6885588  0.31785369 0.38432177 0.73410524 0.375203  ]]\n",
      "\n",
      "  [[0.76250131 0.58768682 0.66578572 0.82165517 0.94000192]\n",
      "   [0.72951964 0.96497265 0.19087107 0.20552607 0.75044482]\n",
      "   [0.46370461 0.68158686 0.04834279 0.3686525  0.07937715]\n",
      "   [0.9049347  0.8573621  0.03469815 0.29113912 0.45666274]]\n",
      "\n",
      "  [[0.06535625 0.2561864  0.80533884 0.89206891 0.68120451]\n",
      "   [0.1152172  0.42821176 0.70248343 0.11297553 0.59990742]\n",
      "   [0.30102051 0.35045995 0.45872656 0.76219636 0.13522173]\n",
      "   [0.93527405 0.24781986 0.63033356 0.20253682 0.06639679]]]\n",
      "\n",
      "\n",
      " [[[0.49836585 0.94665889 0.84532713 0.34554154 0.47753328]\n",
      "   [0.95243893 0.26838913 0.82368123 0.60357502 0.45571085]\n",
      "   [0.25158553 0.80482708 0.43747577 0.72105232 0.25753855]\n",
      "   [0.52731584 0.70003468 0.3139529  0.11441061 0.24691144]]\n",
      "\n",
      "  [[0.81296664 0.51805695 0.33829065 0.22833883 0.19336383]\n",
      "   [0.43586887 0.96375875 0.75195708 0.85452442 0.80480178]\n",
      "   [0.8136443  0.91103612 0.82000964 0.71929609 0.79406356]\n",
      "   [0.74450951 0.75092823 0.79855451 0.63496491 0.45477258]]\n",
      "\n",
      "  [[0.67666094 0.36261989 0.92155162 0.3127963  0.12506298]\n",
      "   [0.6958669  0.10785443 0.74087613 0.1425613  0.27294635]\n",
      "   [0.7694516  0.66133752 0.71804824 0.31978623 0.68803617]\n",
      "   [0.15830695 0.94710569 0.80463928 0.23031404 0.20251024]]]]\n"
     ]
    }
   ],
   "source": [
    "# Other random number arrays:\n",
    "print(\" a 4D array:\")\n",
    "print(np.random.rand(2,3,4,5))"
   ]
  },
  {
   "cell_type": "markdown",
   "metadata": {},
   "source": [
    "While we have shown above that the random functions can generate arrays of data, for the rest of this notebook we will only look at single dimensional arrays."
   ]
  },
  {
   "cell_type": "markdown",
   "metadata": {},
   "source": [
    "**randn**  \n",
    "_Syntax_ :  \n",
    "np.random.randn(a, b, ....z)  \n",
    "  \n",
    "_Returns_ :  \n",
    "randn returns a randomly generated array of size specified in the the brackets, just like the rand function. Unlike the rand function, the values returned centered on 0 with the majority falling between -1 and 1. The is due to the difference between rand and randn - distribution of the random figures returned.  \n",
    "  \n",
    "With the rand function, values are returned with a uniform distribution. This means that all numbers between 0 and 1 are equally likely to be returned.  \n",
    "\n",
    "With the randn function, the returned figures follow a normalised distribution. This means that the values around the 0.5 are the most likely and increasingly less likely the further from the midpoint the value is. \n",
    "\n",
    "_Example_ :"
   ]
  },
  {
   "cell_type": "code",
   "execution_count": 7,
   "metadata": {},
   "outputs": [
    {
     "name": "stdout",
     "output_type": "stream",
     "text": [
      "Here xn is a randomly generated list of 8000 numbers ranging from -3.808997253340333 to 3.6839379272486426\n"
     ]
    },
    {
     "data": {
      "image/png": "[encoded data removed]",
      "text/plain": [
       "<Figure size 720x432 with 1 Axes>"
      ]
     },
     "metadata": {
      "needs_background": "light"
     },
     "output_type": "display_data"
    }
   ],
   "source": [
    "# Here we are using np.random.randn based on your choice of number above\n",
    "xr = np.random.rand(yourChoice*1000)\n",
    "xn = np.random.randn(yourChoice*1000)\n",
    "plt.hist(xn, 20)\n",
    "print(\"Here xn is a randomly generated list of\", yourChoice * 1000, \"numbers ranging from\", min(xn), \"to\" , max(xn))"
   ]
  },
  {
   "cell_type": "code",
   "execution_count": 8,
   "metadata": {},
   "outputs": [
    {
     "data": {
      "image/png": "[encoded data removed]",
      "text/plain": [
       "<Figure size 720x432 with 2 Axes>"
      ]
     },
     "metadata": {
      "needs_background": "light"
     },
     "output_type": "display_data"
    }
   ],
   "source": [
    "# Lets compare the two figures\n",
    "fig, (ax1, ax2) = plt.subplots(1, 2, sharey=True)\n",
    "ax1.hist(xn,20)\n",
    "ax2.hist(xr,20)\n",
    "\n",
    "# Set labels\n",
    "ax1.set_xlabel(\"Number\")\n",
    "ax2.set_xlabel(\"Number\")\n",
    "ax1.set_ylabel(\"Frequency\")\n",
    "fig.suptitle('Comparison of rand and randn', fontsize=18)\n",
    "ax1.set_title('randn',fontsize=14)\n",
    "ax2.set_title('rand',fontsize=14)\n",
    "plt.show()"
   ]
  },
  {
   "cell_type": "markdown",
   "metadata": {},
   "source": [
    "**randint**  \n",
    "_Syntax_ :  \n",
    "np.random.randint(low[, high, size, dtype])  \n",
    "  \n",
    "_Description_ :  \n",
    "Randint returns randomly generated integers. You can specify the range limit of the values returned via the low and high variables. The value returned will include the \"low\" value, but will be up to but not including the \"high\" range value. This means that if you are looking for a number between 1 and 10 you need to specify that the low is 1 and the high is 11. If no high value is specified, the low value entered in fact acts as the high value and the low value is defaulted to 0. Interestingly enough, although the output is an or multiple integers, the low and high limits may be entered as floating point numbers.  \n",
    "  \n",
    "You may also specify the shape of the integers returned. This may be a single value, a list of numbers or multidimensional arrays via the size variable. This is not a mandatory field and if not specified, it is defaulted to a single number being returned.  \n",
    "\n",
    "Finally you may also specify the datatype of the integer returned. Numpy has a variety of integer datatypes, depending on the maximum value required. int8 for example is one byte in length and is capable of holding numbers in the range -128 to 127. int16 for integers -32768 to 32767 and so on for int32, int64 and unsigned integers too. Although the documentation states that the default value if not specified is int, the tests below show that it is in fact int32.  \n",
    "\n",
    "The numbers returned are randomly selected with a uniform distribution, see below about distributon.\n",
    "\n",
    "randint was the function used to play the initial guessing game above.\n",
    "  \n",
    "_Returns_ :\t\n",
    "a \"size-shaped\" array of random integers from the appropriate distribution, or a single such random int if size not provided.  \n",
    "\n",
    "_Example_ :"
   ]
  },
  {
   "cell_type": "code",
   "execution_count": 9,
   "metadata": {},
   "outputs": [
    {
     "name": "stdout",
     "output_type": "stream",
     "text": [
      "[99 77 39 99 72]\n",
      "Each of type: <class 'numpy.int8'>\n"
     ]
    }
   ],
   "source": [
    "# Here we are looking for a number between 1 and 100 inclusive (as we have chosen 101 as the high value)\n",
    "# The shape of the output will be an array of 5 integers, \n",
    "# and they will be of type int8's.\n",
    "x = np.random.randint(1, 101, 5, np.int8)\n",
    "print(x)\n",
    "print(\"Each of type:\", type(x[1]))"
   ]
  },
  {
   "cell_type": "code",
   "execution_count": 10,
   "metadata": {},
   "outputs": [
    {
     "data": {
      "text/plain": [
       "9"
      ]
     },
     "execution_count": 10,
     "metadata": {},
     "output_type": "execute_result"
    }
   ],
   "source": [
    "# Using floats as limits, size is defaulted to a single integer value returned.\n",
    "np.random.randint(3.2, 14.3)"
   ]
  },
  {
   "cell_type": "code",
   "execution_count": 11,
   "metadata": {},
   "outputs": [
    {
     "name": "stdout",
     "output_type": "stream",
     "text": [
      "The minimum is 0. The maximum is 0.\n",
      "When not specified, the output is of type: <class 'numpy.int32'>\n"
     ]
    }
   ],
   "source": [
    "# Here we are setting just one value of 1. \n",
    "# As there is not both a lower and an upper limit set, \n",
    "# numpy assumes the value entered is the upper limit and 0 is taken as the lower limit.\n",
    "# As the range does not include the upper limit in its output, the expect return is all 0's inthe case below.\n",
    "# You can make the size as large as you want, but max will not exceed 0.\n",
    "# The default type is also shown here too - as int32.\n",
    "\n",
    "# To show the default is taken to be the upper limit which is never reached:\n",
    "x = np.random.randint(1, size = 1000000000)\n",
    "print(f\"The minimum is {x.min()}. The maximum is {x.max(0)}.\")\n",
    "print(\"When not specified, the output is of type:\", type(x[1]))"
   ]
  },
  {
   "cell_type": "code",
   "execution_count": 12,
   "metadata": {},
   "outputs": [
    {
     "name": "stdout",
     "output_type": "stream",
     "text": [
      "[-8634742264505456205 -7595276821412278905  -820935268076301127\n",
      "  -515852371448693275 -8097683364771329853 -8676275493105223623\n",
      " -2060593530241546090 -5933494033372459226 -8131093202470372874\n",
      " -4676959341693699764]\n",
      "The output is of type: <class 'numpy.int64'>\n"
     ]
    }
   ],
   "source": [
    "# While the default type is int32 - here we are checking if that is automatically adusted to \n",
    "# take into account the range requested.\n",
    "# Here we are looking for a number between -9223372036854775800 and -1 inclusive. \n",
    "# The shape of the output will be an array of 2x4 array integers rather than a one dimensionsal array, \n",
    "# and they will be of type int64's.\n",
    "x = np.random.randint(-9223372036854775800 , 0, 10, np.int64)\n",
    "print(x)\n",
    "print(\"The output is of type:\", type(x[1]))"
   ]
  },
  {
   "cell_type": "code",
   "execution_count": 13,
   "metadata": {},
   "outputs": [
    {
     "ename": "ValueError",
     "evalue": "low is out of bounds for int32",
     "output_type": "error",
     "traceback": [
      "\u001b[1;31m---------------------------------------------------------------------------\u001b[0m",
      "\u001b[1;31mValueError\u001b[0m                                Traceback (most recent call last)",
      "\u001b[1;32m<ipython-input-13-fe3fb4e9a8fe>\u001b[0m in \u001b[0;36m<module>\u001b[1;34m\u001b[0m\n\u001b[0;32m      1\u001b[0m \u001b[1;31m# --------- Expected Error --------\u001b[0m\u001b[1;33m\u001b[0m\u001b[1;33m\u001b[0m\u001b[1;33m\u001b[0m\u001b[0m\n\u001b[0;32m      2\u001b[0m \u001b[1;31m# Let's try that again, this time without specifying the dtype:\u001b[0m\u001b[1;33m\u001b[0m\u001b[1;33m\u001b[0m\u001b[1;33m\u001b[0m\u001b[0m\n\u001b[1;32m----> 3\u001b[1;33m \u001b[0mx\u001b[0m \u001b[1;33m=\u001b[0m \u001b[0mnp\u001b[0m\u001b[1;33m.\u001b[0m\u001b[0mrandom\u001b[0m\u001b[1;33m.\u001b[0m\u001b[0mrandint\u001b[0m\u001b[1;33m(\u001b[0m\u001b[1;33m-\u001b[0m\u001b[1;36m9223372036854775800\u001b[0m \u001b[1;33m,\u001b[0m \u001b[1;36m0\u001b[0m\u001b[1;33m,\u001b[0m \u001b[1;36m10\u001b[0m\u001b[1;33m)\u001b[0m\u001b[1;33m\u001b[0m\u001b[1;33m\u001b[0m\u001b[0m\n\u001b[0m\u001b[0;32m      4\u001b[0m \u001b[0mprint\u001b[0m\u001b[1;33m(\u001b[0m\u001b[0mx\u001b[0m\u001b[1;33m)\u001b[0m\u001b[1;33m\u001b[0m\u001b[1;33m\u001b[0m\u001b[0m\n\u001b[0;32m      5\u001b[0m \u001b[0mprint\u001b[0m\u001b[1;33m(\u001b[0m\u001b[1;34m\"The output is of type:\"\u001b[0m\u001b[1;33m,\u001b[0m \u001b[0mtype\u001b[0m\u001b[1;33m(\u001b[0m\u001b[0mx\u001b[0m\u001b[1;33m[\u001b[0m\u001b[1;36m1\u001b[0m\u001b[1;33m]\u001b[0m\u001b[1;33m)\u001b[0m\u001b[1;33m)\u001b[0m\u001b[1;33m\u001b[0m\u001b[1;33m\u001b[0m\u001b[0m\n",
      "\u001b[1;32mmtrand.pyx\u001b[0m in \u001b[0;36mmtrand.RandomState.randint\u001b[1;34m()\u001b[0m\n",
      "\u001b[1;31mValueError\u001b[0m: low is out of bounds for int32"
     ]
    }
   ],
   "source": [
    "# --------- Expected Error --------\n",
    "# Let's try that again, this time without specifying the dtype:\n",
    "x = np.random.randint(-9223372036854775800 , 0, 10)\n",
    "print(x)\n",
    "print(\"The output is of type:\", type(x[1]))\n",
    "# --------- Expected Error --------"
   ]
  },
  {
   "cell_type": "markdown",
   "metadata": {},
   "source": [
    "The error thrown above shows that the size of the datatype is not dependent on the range requested and defaults to int32. This function therefore throws an error if the range exceeds the limits of the int32 datatype (-2147483648 to 2147483647).  \n",
    "\n",
    "Errors are also thrown in the high limit is lower than the low limit. This is true even when no high limit is specified if a negative number is inputted as the low variable."
   ]
  },
  {
   "cell_type": "code",
   "execution_count": 14,
   "metadata": {},
   "outputs": [
    {
     "ename": "ValueError",
     "evalue": "Range cannot be empty (low >= high) unless no samples are taken",
     "output_type": "error",
     "traceback": [
      "\u001b[1;31m---------------------------------------------------------------------------\u001b[0m",
      "\u001b[1;31mValueError\u001b[0m                                Traceback (most recent call last)",
      "\u001b[1;32m<ipython-input-14-4c82d00f1bbe>\u001b[0m in \u001b[0;36m<module>\u001b[1;34m\u001b[0m\n\u001b[0;32m      4\u001b[0m \u001b[1;31m# it assumes the entered value is the high value and defaults the low to 0.\u001b[0m\u001b[1;33m\u001b[0m\u001b[1;33m\u001b[0m\u001b[1;33m\u001b[0m\u001b[0m\n\u001b[0;32m      5\u001b[0m \u001b[1;31m# That means in this instance the low is higher than the high and will throw an error.\u001b[0m\u001b[1;33m\u001b[0m\u001b[1;33m\u001b[0m\u001b[1;33m\u001b[0m\u001b[0m\n\u001b[1;32m----> 6\u001b[1;33m \u001b[0mx\u001b[0m \u001b[1;33m=\u001b[0m \u001b[0mnp\u001b[0m\u001b[1;33m.\u001b[0m\u001b[0mrandom\u001b[0m\u001b[1;33m.\u001b[0m\u001b[0mrandint\u001b[0m\u001b[1;33m(\u001b[0m\u001b[1;33m-\u001b[0m\u001b[1;36m5\u001b[0m\u001b[1;33m)\u001b[0m\u001b[1;33m\u001b[0m\u001b[1;33m\u001b[0m\u001b[0m\n\u001b[0m\u001b[0;32m      7\u001b[0m \u001b[0mprint\u001b[0m\u001b[1;33m(\u001b[0m\u001b[0mx\u001b[0m\u001b[1;33m)\u001b[0m\u001b[1;33m\u001b[0m\u001b[1;33m\u001b[0m\u001b[0m\n\u001b[0;32m      8\u001b[0m \u001b[1;31m# --------- Expected Error --------\u001b[0m\u001b[1;33m\u001b[0m\u001b[1;33m\u001b[0m\u001b[1;33m\u001b[0m\u001b[0m\n",
      "\u001b[1;32mmtrand.pyx\u001b[0m in \u001b[0;36mmtrand.RandomState.randint\u001b[1;34m()\u001b[0m\n",
      "\u001b[1;31mValueError\u001b[0m: Range cannot be empty (low >= high) unless no samples are taken"
     ]
    }
   ],
   "source": [
    "# --------- Expected Error --------\n",
    "# Here we are specifying a \"low\" of -5. \n",
    "# Due to the way in which the function handles the defaults however, \n",
    "# it assumes the entered value is the high value and defaults the low to 0.\n",
    "# That means in this instance the low is higher than the high and will throw an error.\n",
    "x = np.random.randint(-5)\n",
    "print(x)\n",
    "# --------- Expected Error --------"
   ]
  },
  {
   "cell_type": "code",
   "execution_count": 15,
   "metadata": {},
   "outputs": [
    {
     "name": "stdout",
     "output_type": "stream",
     "text": [
      "[]\n"
     ]
    }
   ],
   "source": [
    "# As above but this time where the size is set to zero. \n",
    "# No error is thrown, but neither are numbers returned.\n",
    "x = np.random.randint(-5, size = 0)\n",
    "print(x)"
   ]
  },
  {
   "cell_type": "code",
   "execution_count": 16,
   "metadata": {
    "scrolled": true
   },
   "outputs": [
    {
     "data": {
      "text/plain": [
       "(array([2042., 2000., 2047., 1975., 2093., 1949., 2031., 1970., 1989.,\n",
       "        1922., 1919., 2043., 2151., 1929., 1948., 2014., 2047., 1950.,\n",
       "        2045., 2068., 2028., 1975., 2075., 1941., 2060., 2040., 2001.,\n",
       "        1959., 1991., 1912., 2045., 1996., 2007., 1968., 1991., 2013.,\n",
       "        1968., 1974., 1978., 1958., 1975., 2005., 1961., 1988., 2006.,\n",
       "        2026., 2015., 1997., 1993., 2022.]),\n",
       " array([ 0.  ,  1.98,  3.96,  5.94,  7.92,  9.9 , 11.88, 13.86, 15.84,\n",
       "        17.82, 19.8 , 21.78, 23.76, 25.74, 27.72, 29.7 , 31.68, 33.66,\n",
       "        35.64, 37.62, 39.6 , 41.58, 43.56, 45.54, 47.52, 49.5 , 51.48,\n",
       "        53.46, 55.44, 57.42, 59.4 , 61.38, 63.36, 65.34, 67.32, 69.3 ,\n",
       "        71.28, 73.26, 75.24, 77.22, 79.2 , 81.18, 83.16, 85.14, 87.12,\n",
       "        89.1 , 91.08, 93.06, 95.04, 97.02, 99.  ]),\n",
       " <a list of 50 Patch objects>)"
      ]
     },
     "execution_count": 16,
     "metadata": {},
     "output_type": "execute_result"
    },
    {
     "data": {
      "image/png": "[encoded data removed]",
      "text/plain": [
       "<Figure size 720x432 with 1 Axes>"
      ]
     },
     "metadata": {
      "needs_background": "light"
     },
     "output_type": "display_data"
    }
   ],
   "source": [
    "# Randint distribution - uniform\n",
    "x = np.random.randint(100, size = 100000)\n",
    "plt.hist(x,bins = 50)"
   ]
  },
  {
   "cell_type": "markdown",
   "metadata": {},
   "source": [
    "**random_integers**  \n",
    "\n",
    "_Syntax_ :\n",
    "random_integers(low[, high, size])\t\n",
    "\n",
    "\n",
    "**Note:**  \n",
    "The random_integers function is now deprecated. That means that this function is not recommended for use and will be withdrawn in the future. If you choose to use random_integers, your code may cease working in the future. Using the function now will result in a warning message being displayed. The randint function described above should be used instead to generate random integers. \n",
    "\n",
    "_Description_ :  \n",
    "This is an older and now deprecated function that has been replaced by randint. As such it is very similar to the randint function. The two main differences between the two functions are:\n",
    "* When specifying the limits with random_integers, the range INCLUDES both the high and low limits.\n",
    "* An int32 is always returned - you cannot specify it to be any other sort of int.\n",
    "\n",
    "_Examples_ :\n",
    "The results from the above test for randint would be the same for random_integers with the exception of the test where you specify the integer type to anything other than int32. "
   ]
  },
  {
   "cell_type": "markdown",
   "metadata": {},
   "source": [
    "**random_sample** / **random** / **ranf** / **sample**  \n",
    "_Syntax_ : random_sample([size]) / random([size]) / ranf([size]) / sample([size])   \n",
    "\n",
    "_Description_  \n",
    "random_sample may be called in numpy using a number of different aliases - \n",
    "* random_sample\n",
    "* random\n",
    "* ranf\n",
    "* sample\n",
    "\n",
    "All of the above actually call the same random_sample as shown below:"
   ]
  },
  {
   "cell_type": "code",
   "execution_count": 17,
   "metadata": {},
   "outputs": [
    {
     "name": "stdout",
     "output_type": "stream",
     "text": [
      "np.random.random_sample : <built-in method random_sample of mtrand.RandomState object at 0x000001CF6CD6A288>\n",
      "np.random.random : <built-in method random_sample of mtrand.RandomState object at 0x000001CF6CD6A288>\n",
      "np.random.randf : <built-in method random_sample of mtrand.RandomState object at 0x000001CF6CD6A288>\n",
      "np.random.sample : <built-in method random_sample of mtrand.RandomState object at 0x000001CF6CD6A288>\n"
     ]
    }
   ],
   "source": [
    "print(\"np.random.random_sample :\",np.random.random_sample)\n",
    "print(\"np.random.random :\",np.random.random)\n",
    "print(\"np.random.randf :\",np.random.ranf)\n",
    "print(\"np.random.sample :\",np.random.sample)"
   ]
  },
  {
   "cell_type": "markdown",
   "metadata": {},
   "source": [
    "Like rand, random_sample returns random floating point number in the range 0.0 up to but not including 1.0. The only difference between the two functions is the way you input the size of the array requested. In the rand functionit is assumed that an array is requested and you simply enter the size of each dimension of the array - a sinel number being one dimensional etc. For the random_sample if an array is wanted it myst be surrounded by additional brackets.\n",
    "\n",
    "Similarly the random_sample randomly takes values from the normal distribution.\n",
    "\n",
    "Returns:\t\n",
    "out : float or ndarray of floats\n",
    "Array of random floats of shape size (unless size=None, in which case a single float is returned)."
   ]
  },
  {
   "cell_type": "code",
   "execution_count": 18,
   "metadata": {},
   "outputs": [
    {
     "name": "stdout",
     "output_type": "stream",
     "text": [
      "random_sample: [0.22211175 0.03971594 0.84217935 0.33274237 0.45950841]\n",
      "rand: [0.70936838 0.19359885 0.22898897 0.1422399  0.77515961]\n"
     ]
    }
   ],
   "source": [
    "print(\"random_sample:\", np.random.random_sample(5))\n",
    "print(\"rand:\",np.random.rand(5))"
   ]
  },
  {
   "cell_type": "code",
   "execution_count": 19,
   "metadata": {},
   "outputs": [
    {
     "name": "stdout",
     "output_type": "stream",
     "text": [
      "random_sample: [[0.46418178 0.16814586 0.12924387]\n",
      " [0.13118915 0.01132708 0.2114214 ]]\n",
      "rand: [[0.47504437 0.96455603 0.59438671]\n",
      " [0.58167243 0.52604473 0.84111178]]\n"
     ]
    }
   ],
   "source": [
    "print(\"random_sample:\", np.random.random_sample((2,3)))\n",
    "print(\"rand:\",np.random.rand(2,3))"
   ]
  },
  {
   "cell_type": "markdown",
   "metadata": {},
   "source": [
    "**choice**  \n",
    "_Syntax:_\n",
    "choice(a[, size, replace, p])  \n",
    "\n",
    "_Description:_  \n",
    "Generates a random sample from a given 1-D array. Essentially this mean that it is the numpy equivalent of \"Pick a card, any card.\"  \n",
    "\n",
    "It requires a single parameter and this the list / tuple / array the selection must come from. It is possible to only put a single value in and in that scenario python will assume it to mean values from the range from 0 up to but not including a.  \n",
    "There are also three additional parameters you can specify, but these are optional. The first is the size of the return values. This is the number and shape of values you want returned. The default value is 1, where a single value is returned.\n",
    "\n",
    "You can also specify whether to replace a value after sampling too. By replacing we mean if for example you had a list containing numbers from 1 -10 and you asked to sample 5 numbers from that list. If you were to replace the number (replace parameter = true) then any number can come out every sampling opportunity, in this example up to five times. If the replace value is set to false however, once a value is chosen from the list it is not then returned to the list for the next sample. That means that you will always get five different numbers in the returned values. If not specified it is assumed that the values are to be replaced with the default replace setting being true.  \n",
    "\n",
    "Finally you may also specify the probabilities of each element in the selection list. If not specified, it is assumed a uniform distribution is used where (replacement aside) each number is equally likely to be chosen at each sample. If a specific probability is required, this must be entered in a list of the same length as the original list. The higher the value, the greater the chance of selecting the item in that list.\n",
    "\n",
    "_Returns:_  \n",
    "The generated random samples of the specified shape with the given probability.\n",
    "\n",
    "Raises:\t\n",
    "ValueError\n",
    "If a is an int and less than zero, if a or p are not 1-dimensional, if a is an array-like of size 0, if p is not a vector of probabilities, if a and p have different lengths, or if replace=False and the sample size is greater than the population size"
   ]
  },
  {
   "cell_type": "code",
   "execution_count": 20,
   "metadata": {},
   "outputs": [
    {
     "name": "stdout",
     "output_type": "stream",
     "text": [
      "a = [164, 25, 873, 45, 99, 45, 6452]\n",
      "Random choice from a = 164\n",
      "Another random choice from a (of size 2) = [6452 6452]\n",
      "Another random choice from a (of size 2*2) = [[873 873]\n",
      " [873  25]]\n"
     ]
    }
   ],
   "source": [
    "# a as numbers\n",
    "a = [164,25,873,45,99,45,6452]\n",
    "print(\"a =\",a)\n",
    "print(\"Random choice from a =\",np.random.choice(a))\n",
    "print(\"Another random choice from a (of size 2) =\",np.random.choice(a,2))\n",
    "print(\"Another random choice from a (of size 2*2) =\",np.random.choice(a,(2,2)))"
   ]
  },
  {
   "cell_type": "code",
   "execution_count": 21,
   "metadata": {},
   "outputs": [
    {
     "name": "stdout",
     "output_type": "stream",
     "text": [
      "a = 10\n",
      "Random choice from a = 8\n",
      "Another random choice from a (of size 5) = [7 7 6 3 2]\n"
     ]
    }
   ],
   "source": [
    "# a as a single number\n",
    "a = 10\n",
    "print(\"a =\", a)\n",
    "print(\"Random choice from a =\",np.random.choice(a))\n",
    "print(\"Another random choice from a (of size 5) =\",np.random.choice(a, 5))"
   ]
  },
  {
   "cell_type": "code",
   "execution_count": 22,
   "metadata": {
    "scrolled": true
   },
   "outputs": [
    {
     "name": "stdout",
     "output_type": "stream",
     "text": [
      "a = ['Monday', 'Tuesday', 'September', 'April', 'bananas']\n",
      "Random choice from a = April\n",
      "Another random choice from a (of size 3) = ['Tuesday' 'bananas' 'bananas']\n"
     ]
    }
   ],
   "source": [
    "# a as strings\n",
    "a = [\"Monday\", \"Tuesday\", \"September\", \"April\", \"bananas\"]\n",
    "print(\"a =\",a)\n",
    "print(\"Random choice from a =\",np.random.choice(a))\n",
    "print(\"Another random choice from a (of size 3) =\",np.random.choice(a, 3))"
   ]
  },
  {
   "cell_type": "code",
   "execution_count": 23,
   "metadata": {},
   "outputs": [
    {
     "name": "stdout",
     "output_type": "stream",
     "text": [
      "a = 10\n",
      "Random choice from a (of size 10, with uniform probability) = [4 7 0 6 5 6 3 7 6 6]\n",
      "Another random choice from a (of size 10 with weighted probabilities) = [6 6 2 6 6 6 6 2 6 6]\n"
     ]
    }
   ],
   "source": [
    "# Skewing the results\n",
    "a = 10\n",
    "print(\"a =\", a)\n",
    "print(\"Random choice from a (of size 10, with uniform probability) =\",np.random.choice(a, 10))\n",
    "print(\"Another random choice from a (of size 10 with weighted probabilities) =\",np.random.choice(a, 10, p =[0, 0, 0.1,0,0.1, 0, 0.8, 0, 0,0]))"
   ]
  },
  {
   "cell_type": "markdown",
   "metadata": {},
   "source": [
    "**random.bytes**  \n",
    "_Syntax:_  \n",
    "np.random.bytes(length)  \n",
    "\n",
    "_Description_  \n",
    "random.bytes as the name would suggest returns a randomly generated series of bytes of the defined length. Randomly generated bytes may be used in cryptography, but not the numpy generated version as it is not cryptographically secure. See below.  \n",
    "\n",
    "It takes a single parameter, an integer that defines the number of bytes returned.  \n",
    " \n",
    "_Returns:_  \n",
    "random.bytes returns the number of bytes as requested. This is actually a series of bytes but is represented in a string like manner prefaced with a \"b\"."
   ]
  },
  {
   "cell_type": "code",
   "execution_count": 24,
   "metadata": {},
   "outputs": [
    {
     "name": "stdout",
     "output_type": "stream",
     "text": [
      "Returns: b'\\x04'\n",
      "Type of x = <class 'bytes'>\n"
     ]
    }
   ],
   "source": [
    "x = np.random.bytes(1)\n",
    "print(\"Returns:\",x)\n",
    "print(\"Type of x =\",type(x))"
   ]
  },
  {
   "cell_type": "code",
   "execution_count": 25,
   "metadata": {},
   "outputs": [
    {
     "name": "stdout",
     "output_type": "stream",
     "text": [
      "Length = 1 Result = b'l' String length = 1\n",
      "Length = 2 Result = b'7\\x95' String length = 2\n",
      "Length = 3 Result = b'&\\xb4J' String length = 3\n",
      "Length = 4 Result = b'\\x84\\xda\\xc5\\xe9' String length = 4\n",
      "Length = 5 Result = b'\\xcdT\\xed\\x16\\x13' String length = 5\n",
      "Length = 6 Result = b':\\xbav=\\x1bg' String length = 6\n",
      "Length = 7 Result = b'\\xfe\\x84+\\x0c\\xd6k2' String length = 7\n",
      "Length = 8 Result = b'P\\xe8~$\\xd979\\x9a' String length = 8\n",
      "Length = 9 Result = b'\\xc1JB\\xcf\\xd0:\\xb2\\xeb+' String length = 9\n",
      "Length = 10 Result = b'\\xac\\x88\\x9a\\xa1v\\xde|\\xb1\\x91\\x80' String length = 10\n"
     ]
    }
   ],
   "source": [
    "for i in range (1,11):\n",
    "    x = np.random.bytes(i)\n",
    "    print(\"Length =\",i ,\"Result =\", x, \"String length =\", len(x))"
   ]
  },
  {
   "cell_type": "code",
   "execution_count": 26,
   "metadata": {},
   "outputs": [
    {
     "data": {
      "text/plain": [
       "(array([485., 531., 498., 491., 482., 488., 486., 471., 529., 468., 500.,\n",
       "        517., 510., 530., 482., 497., 521., 511., 484., 505., 506., 522.,\n",
       "        495., 482., 518., 513., 497., 498., 461., 500., 458., 455., 520.,\n",
       "        473., 477., 535., 492., 479., 454., 504., 476., 504., 507., 508.,\n",
       "        505., 535., 454., 483., 491., 483., 470., 501., 546., 504., 499.,\n",
       "        510., 530., 484., 494., 498., 497., 476., 539., 481., 510., 476.,\n",
       "        476., 501., 486., 505., 533., 485., 505., 554., 498., 490., 499.,\n",
       "        496., 499., 509., 562., 498., 527., 552., 504., 535., 466., 515.,\n",
       "        496., 482., 491., 482., 510., 513., 487., 519., 526., 496., 510.,\n",
       "        507.]),\n",
       " array([  0.  ,   9.99,  19.98,  29.97,  39.96,  49.95,  59.94,  69.93,\n",
       "         79.92,  89.91,  99.9 , 109.89, 119.88, 129.87, 139.86, 149.85,\n",
       "        159.84, 169.83, 179.82, 189.81, 199.8 , 209.79, 219.78, 229.77,\n",
       "        239.76, 249.75, 259.74, 269.73, 279.72, 289.71, 299.7 , 309.69,\n",
       "        319.68, 329.67, 339.66, 349.65, 359.64, 369.63, 379.62, 389.61,\n",
       "        399.6 , 409.59, 419.58, 429.57, 439.56, 449.55, 459.54, 469.53,\n",
       "        479.52, 489.51, 499.5 , 509.49, 519.48, 529.47, 539.46, 549.45,\n",
       "        559.44, 569.43, 579.42, 589.41, 599.4 , 609.39, 619.38, 629.37,\n",
       "        639.36, 649.35, 659.34, 669.33, 679.32, 689.31, 699.3 , 709.29,\n",
       "        719.28, 729.27, 739.26, 749.25, 759.24, 769.23, 779.22, 789.21,\n",
       "        799.2 , 809.19, 819.18, 829.17, 839.16, 849.15, 859.14, 869.13,\n",
       "        879.12, 889.11, 899.1 , 909.09, 919.08, 929.07, 939.06, 949.05,\n",
       "        959.04, 969.03, 979.02, 989.01, 999.  ]),\n",
       " <a list of 100 Patch objects>)"
      ]
     },
     "execution_count": 26,
     "metadata": {},
     "output_type": "execute_result"
    },
    {
     "data": {
      "image/png": "[encoded data removed]",
      "text/plain": [
       "<Figure size 720x432 with 1 Axes>"
      ]
     },
     "metadata": {
      "needs_background": "light"
     },
     "output_type": "display_data"
    }
   ],
   "source": [
    "# When converted to int values - the random.bytes generate byte data in the uniform distribution\n",
    "uint16_max = np.iinfo(np.uint16).max \n",
    "k=np.frombuffer(np.random.bytes(100000),dtype=np.uint16) \n",
    "x = np.uint16((1000)*(k/float(uint16_max)))\n",
    "plt.hist(x,100)"
   ]
  },
  {
   "cell_type": "code",
   "execution_count": 27,
   "metadata": {},
   "outputs": [
    {
     "name": "stdout",
     "output_type": "stream",
     "text": [
      "31.7 µs ± 178 ns per loop (mean ± std. dev. of 7 runs, 10000 loops each)\n"
     ]
    }
   ],
   "source": [
    "%timeit np.random.randint(0,1000, 10000)"
   ]
  },
  {
   "cell_type": "code",
   "execution_count": 28,
   "metadata": {},
   "outputs": [],
   "source": [
    "%timeit "
   ]
  },
  {
   "cell_type": "markdown",
   "metadata": {},
   "source": [
    "\n"
   ]
  },
  {
   "cell_type": "markdown",
   "metadata": {},
   "source": [
    "## Permutations ##"
   ]
  },
  {
   "cell_type": "markdown",
   "metadata": {},
   "source": [
    "A permutation is an arrangement of elements in a list, set, tuple or array. For example the list 1, 2, 3 could appear like this:  \n",
    "Permutation 1: 1, 2, 3.  \n",
    "Permutation 2: 1, 3, 2.  \n",
    "Permutation 3: 2, 1, 3.  \n",
    "Permutation 4: 2, 3, 1.  \n",
    "Permutation 5: 3, 1, 2.  \n",
    "Permutation 6: 3, 2, 1.  \n",
    "\n",
    "In fact the number of permutations is governed by the length of the list and is calculated by the designation n factorial represented as n! where n is the list length. This is simply a shorthand way of writing:  \n",
    "$n! = n * (n-1) * (n-2) * ... * 3 * 2 * 1$\n",
    "\n",
    "In the case of the list 1, 2, 3 above this translates to $3 * 2 * 1 = 6$ possible permutations of that list.  \n",
    "\n",
    "The concept of permutation is very important in data analytics as when applying any kind of machine learning techniques to a dataset, the original dataset is divided into training and testing datasets to fit the desired model. This division of the dataset must be done in a random manner as opposed to for example taking the first x number of rows as the data may have been entered in a specific ordered manner. Each dataset (training and testing) should be representative of the dataset in its entirety to ensure an accurate model generation and validation of that model thereafter.  \n",
    "\n",
    "There are two kinds of permutations available with numpy as shown in the table below. \n",
    "\n",
    "\n",
    "| Name           | Description                                              |\n",
    "|----------------|----------------------------------------------------------|\n",
    "| shuffle(x)     | Modify a sequence in-place by shuffling its contents.    |\n",
    "| permutation(x) | Randomly permute a sequence, or return a permuted range. |\n",
    "\n",
    "Both permutation methods work in the same way - by randomly rearranging the elements in the list. The main difference between the two is the fact that the shuffle method re-arranges the elements within the input array itself. This means that the array is then forever changed. The function shuffle itself does not return anything.  \n",
    "\n",
    "The permutation returns the rearranged array / list as a new array / list and the original array / list remains untouched. This is a very important distinction between the two. As shown below:"
   ]
  },
  {
   "cell_type": "code",
   "execution_count": 29,
   "metadata": {},
   "outputs": [
    {
     "name": "stdout",
     "output_type": "stream",
     "text": [
      "This is the original list: [0 1 2 3 4 5 6 7 8 9]\n",
      "This is performing a permutation on the list: [2 4 9 6 1 3 8 0 7 5]\n",
      "This is the list after performing the permutation: [0 1 2 3 4 5 6 7 8 9]\n",
      "This is performing a shuffle: None\n",
      "This is the list after performing a shuffle: [8 5 0 2 4 9 1 7 6 3]\n"
     ]
    }
   ],
   "source": [
    "# Difference between permutation and shuffle\n",
    "x = np.arange(10)\n",
    "print(\"This is the original list:\",x)\n",
    "print(\"This is performing a permutation on the list:\",np.random.permutation(x))\n",
    "print(\"This is the list after performing the permutation:\",x)\n",
    "print(\"This is performing a shuffle:\",np.random.shuffle(x))\n",
    "print(\"This is the list after performing a shuffle:\",x)"
   ]
  },
  {
   "cell_type": "markdown",
   "metadata": {},
   "source": [
    "Both functions may take in multi-dimensional arrays. In both cases the function only shuffles the array along the first axis of a multi-dimensional array. The order of sub-arrays is changed but their contents remains the same."
   ]
  },
  {
   "cell_type": "code",
   "execution_count": 30,
   "metadata": {},
   "outputs": [
    {
     "name": "stdout",
     "output_type": "stream",
     "text": [
      "This is the original x:\n",
      " [[ 0  1  2  3  4]\n",
      " [ 5  6  7  8  9]\n",
      " [10 11 12 13 14]\n",
      " [15 16 17 18 19]\n",
      " [20 21 22 23 24]] \n",
      "\n",
      "This is after permuation:\n",
      " [[15 16 17 18 19]\n",
      " [10 11 12 13 14]\n",
      " [ 0  1  2  3  4]\n",
      " [ 5  6  7  8  9]\n",
      " [20 21 22 23 24]] \n",
      "\n",
      "This is the original x:\n",
      " [[ 0  1  2  3  4]\n",
      " [ 5  6  7  8  9]\n",
      " [10 11 12 13 14]\n",
      " [15 16 17 18 19]\n",
      " [20 21 22 23 24]] \n",
      "\n",
      "This is after shuffle:\n",
      " [[20 21 22 23 24]\n",
      " [15 16 17 18 19]\n",
      " [ 0  1  2  3  4]\n",
      " [10 11 12 13 14]\n",
      " [ 5  6  7  8  9]] \n",
      "\n"
     ]
    }
   ],
   "source": [
    "# Handling of 2-dimenstional arrays\n",
    "x = np.arange(25).reshape(5,5)\n",
    "print (\"This is the original x:\\n\",x, \"\\n\")\n",
    "print (\"This is after permuation:\\n\", np.random.permutation(x), \"\\n\")\n",
    "print (\"This is the original x:\\n\",x, \"\\n\")\n",
    "np.random.shuffle(x)\n",
    "print (\"This is after shuffle:\\n\", x, \"\\n\")\n"
   ]
  },
  {
   "cell_type": "code",
   "execution_count": 31,
   "metadata": {},
   "outputs": [
    {
     "name": "stdout",
     "output_type": "stream",
     "text": [
      "This is the original x:\n",
      " [[[ 0  1  2]\n",
      "  [ 3  4  5]\n",
      "  [ 6  7  8]]\n",
      "\n",
      " [[ 9 10 11]\n",
      "  [12 13 14]\n",
      "  [15 16 17]]\n",
      "\n",
      " [[18 19 20]\n",
      "  [21 22 23]\n",
      "  [24 25 26]]] \n",
      "\n",
      "This is after permuation:\n",
      " [[[18 19 20]\n",
      "  [21 22 23]\n",
      "  [24 25 26]]\n",
      "\n",
      " [[ 0  1  2]\n",
      "  [ 3  4  5]\n",
      "  [ 6  7  8]]\n",
      "\n",
      " [[ 9 10 11]\n",
      "  [12 13 14]\n",
      "  [15 16 17]]] \n",
      "\n",
      "This is the original x:\n",
      " [[[ 0  1  2]\n",
      "  [ 3  4  5]\n",
      "  [ 6  7  8]]\n",
      "\n",
      " [[ 9 10 11]\n",
      "  [12 13 14]\n",
      "  [15 16 17]]\n",
      "\n",
      " [[18 19 20]\n",
      "  [21 22 23]\n",
      "  [24 25 26]]] \n",
      "\n",
      "This is after shuffle:\n",
      " [[[18 19 20]\n",
      "  [21 22 23]\n",
      "  [24 25 26]]\n",
      "\n",
      " [[ 9 10 11]\n",
      "  [12 13 14]\n",
      "  [15 16 17]]\n",
      "\n",
      " [[ 0  1  2]\n",
      "  [ 3  4  5]\n",
      "  [ 6  7  8]]] \n",
      "\n"
     ]
    }
   ],
   "source": [
    "# Handling of 3-dimenstional arrays\n",
    "x = np.arange(27).reshape(3,3,3)\n",
    "print (\"This is the original x:\\n\",x, \"\\n\")\n",
    "print (\"This is after permuation:\\n\", np.random.permutation(x), \"\\n\")\n",
    "print (\"This is the original x:\\n\",x, \"\\n\")\n",
    "np.random.shuffle(x)\n",
    "print (\"This is after shuffle:\\n\", x, \"\\n\")\n"
   ]
  },
  {
   "cell_type": "markdown",
   "metadata": {},
   "source": [
    "### Distribution Functions ###\n",
    "\n",
    "A range of data can be spread out or distributed in different ways. A distribution is the pattern in which values are spread across a range. There are many patterns which they may take for example the age of children in Ireland when starting school would be likely to be where most of the children would be about 5 years old, but pretty much all the children would fall between 4 and 6. This would be called a _normal_ distribution, see below. Conversely, the population of a town would be expected to be distributed more evenly across all age ranges from newborn to old age.  \n",
    "\n",
    "The type data itself can vary. It can be discrete for example voting patterns, there are a finite number of parties that are available to vote for. Another example of discrete data is rolling of a dice - there are only six possible outcomes with each roll. In contrast to the discrete data, data may be _continuous_ instead. This is where the data may be any value n a range, for example the heights of a population.\n",
    "\n",
    "Knowing your data is key to knowing which distribution to use. \n",
    "* What kind of data would you expect?\n",
    "* Would the data be expected to centre about a particular value for example?\n",
    "* Are there defined values or is the data continuous in nature?\n",
    "* Are the time / date values to take into consideration?\n",
    "\n",
    "When you know the answers to these questions, you may chose a distribution model that best fits your needs. There are 35 different distributions available with numpy random. We shall discuss 5 distributions in particular:  \n",
    "\n",
    "1. Binomial Distribution  \n",
    "2. Normal Distribution\n",
    "3. Uniform Distribution\n",
    "4.  \n",
    "5.  "
   ]
  },
  {
   "cell_type": "markdown",
   "metadata": {},
   "source": [
    "| Dsitribution Function                        | Description                                                                                                           |\n",
    "|----------------------------------------------|-----------------------------------------------------------------------------------------------------------------------|\n",
    "| beta(a, b[, size])                           | Draw samples from a Beta distribution.                                                                                |\n",
    "| binomial(n, p[, size])                       | Draw samples from a binomial distribution.                                                                            |\n",
    "| chisquare(df[, size])                        | Draw samples from a chi-square distribution.                                                                          |\n",
    "| dirichlet(alpha[, size])                     | Draw samples from the Dirichlet distribution.                                                                         |\n",
    "| exponential([scale, size])                   | Draw samples from an exponential distribution.                                                                        |\n",
    "| f(dfnum, dfden[, size])                      | Draw samples from an F distribution.                                                                                  |\n",
    "| gamma(shape[, scale, size])                  | Draw samples from a Gamma distribution.                                                                               |\n",
    "| geometric(p[, size])                         | Draw samples from the geometric distribution.                                                                         |\n",
    "| gumbel([loc, scale, size])                   | Draw samples from a Gumbel distribution.                                                                              |\n",
    "| hypergeometric(ngood, nbad, nsample[, size]) | Draw samples from a Hypergeometric distribution.                                                                      |\n",
    "| laplace([loc, scale, size])                  | Draw samples from the Laplace or double exponential distribution with specified location (or mean) and scale (decay). |\n",
    "| logistic([loc, scale, size])                 | Draw samples from a logistic distribution.                                                                            |\n",
    "| lognormal([mean, sigma, size])               | Draw samples from a log-normal distribution.                                                                          |\n",
    "| logseries(p[, size])                         | Draw samples from a logarithmic series distribution.                                                                  |\n",
    "| multinomial(n, pvals[, size])                | Draw samples from a multinomial distribution.                                                                         |\n",
    "| multivariate_normal(mean, cov[, size, ...)   | Draw random samples from a multivariate normal distribution.                                                          |\n",
    "| negative_binomial(n, p[, size])              | Draw samples from a negative binomial distribution.                                                                   |\n",
    "| noncentral_chisquare(df, nonc[, size])       | Draw samples from a noncentral chi-square distribution.                                                               |\n",
    "| noncentral_f(dfnum, dfden, nonc[, size])     | Draw samples from the noncentral F distribution.                                                                      |\n",
    "| normal([loc, scale, size])                   | Draw random samples from a normal (Gaussian) distribution.                                                            |\n",
    "| pareto(a[, size])                            | Draw samples from a Pareto II or Lomax distribution with specified shape.                                             |\n",
    "| poisson([lam, size])                         | Draw samples from a Poisson distribution.                                                                             |\n",
    "| power(a[, size])                             | Draws samples in [0, 1] from a power distribution with positive exponent a - 1.                                       |\n",
    "| rayleigh([scale, size])                      | Draw samples from a Rayleigh distribution.                                                                            |\n",
    "| standard_cauchy([size])                      | Draw samples from a standard Cauchy distribution with mode = 0.                                                       |\n",
    "| standard_exponential([size])                 | Draw samples from the standard exponential distribution.                                                              |\n",
    "| standard_gamma(shape[, size])                | Draw samples from a standard Gamma distribution.                                                                      |\n",
    "| standard_normal([size])                      | Draw samples from a standard Normal distribution (mean=0, stdev=1).                                                   |\n",
    "| standard_t(df[, size])                       | Draw samples from a standard Student’s t distribution with df degrees of freedom.                                     |\n",
    "| triangular(left, mode, right[, size])        | Draw samples from the triangular distribution over the interval [left, right].                                        |\n",
    "| uniform([low, high, size])                   | Draw samples from a uniform distribution.                                                                             |\n",
    "| vonmises(mu, kappa[, size])                  | Draw samples from a von Mises distribution.                                                                           |\n",
    "| wald(mean, scale[, size])                    | Draw samples from a Wald, or inverse Gaussian, distribution.                                                          |\n",
    "| weibull(a[, size])                           | Draw samples from a Weibull distribution.                                                                             |\n",
    "| zipf(a[, size])                              | Draw samples from a Zipf distribution.                                                                                |"
   ]
  },
  {
   "cell_type": "markdown",
   "metadata": {},
   "source": [
    "**1. Distribution Function 1 - Binomial Distribution**  \n",
    "Binomial Distribution, as the \"bi-\" part of the name suggests concerns only two possible results. Consider for example a toss of a coin, there are two possible outcomes - heads or tails. In this case (assuming the coin is not weighted), the two outcomes are equally likely. It could however be whether a candidate in an election of 5 candidates is voted in or not. Campaigning, policies, track-records etc aside, the probability of any one of the candidates being elected is 1 in 5 and not being elected in 4/5.  \n",
    "\n",
    "Take for example tossing a coin three times. These are the outcomes\n",
    "\n",
    "1. Heads - Heads - Heads = 3H; 0T  \n",
    "2. Heads - Heads - Tails = 2H; 1T  \n",
    "3. Heads - Tails - Heads = 2H; 1T  \n",
    "4. Heads - Tails - Tails = 1H; 2T  \n",
    "5. Tails - Heads - Heads = 2H; 1T  \n",
    "6. Tails - Heads - Tails = 1H; 2T  \n",
    "7. Tails - Tails - Heads = 1H; 2T  \n",
    "8. Tails - Tails - Tails = 0H; 3T  \n",
    "\n",
    "Each of these outcomes is as likely as each other giving a probability of 1/8 for each. If the order did not matter however, we can see there are only four possible combinations:  \n",
    "* 3 Heads & 0 Tails (1/8 chance)\n",
    "* 2 Heads & 1 Tail (3/8 chance)\n",
    "* 1 Head & 2 Tails (3/8 chance)\n",
    "* 0 Heads & 3 Tails (1/8 chance)\n",
    "\n",
    "If we plotted this out it would look like this:"
   ]
  },
  {
   "cell_type": "code",
   "execution_count": 62,
   "metadata": {},
   "outputs": [
    {
     "data": {
      "image/png": "[encoded data removed]",
      "text/plain": [
       "<Figure size 720x432 with 1 Axes>"
      ]
     },
     "metadata": {
      "needs_background": "light"
     },
     "output_type": "display_data"
    }
   ],
   "source": [
    "# PLotting the results\n",
    "fig, ax = plt.subplots()\n",
    "ax.bar(np.arange(4),[1,3,3,1])\n",
    "ax.plot(np.arange(4),[1,3,3,1], \"r-\")\n",
    "ax.set_xlabel(\"No of Heads\")\n",
    "ax.set_ylabel(\"Probability (x/8)\")\n",
    "plt.show()"
   ]
  },
  {
   "cell_type": "markdown",
   "metadata": {},
   "source": [
    "As can be seen, this graph shows the distribution of probabilities is symmetrical. In fact is has been determined that any binomial probability outcome can be determined by the formula:  \n",
    "$${N \\choose x} = \\frac{N!}{x!(N-x)!}$$\n",
    "\n",
    "Where $N$ is the total number of possible combinations and $x$ is the number we want. This ${N \\choose x}$ representation is called N choose x.  \n",
    "\n",
    "So in the example above, N would be 3 for three coin flips. If we wanted to find out the probability of getting 2 heads in this scenario, the equation would be as follows:\n",
    "\n",
    "$$ N = 3; x = 2$$  \n",
    "$${3 \\choose 2} = \\frac{3!}{2!(3-2)!}$$  \n",
    "\n",
    "$$= \\frac{6}{2}$$  \n",
    "\n",
    "$$= 3$$\n",
    "\n",
    "This is as we had already worked out above 3 out of 8 possible outcomes.  \n",
    "\n",
    "Sometimes however the result of any particular binomial experiment are not equally likely. For example in any given football match, draws excluded, there are two possible outcomes for each team - they either win or lose. Now supposing Team A is made up of the best football players that have ever existed and Team B is made up of whoever happened to be in the local bar at the time. In this scenario, while there are still two possible outcomes for Team A it is far more likely that they will win rather than lose. This is represented as a bias.  \n",
    "\n",
    "Suppose we decided that Team A has a 90% chance of winning. What would the probability be of Team B winning a match if they played three times?"
   ]
  },
  {
   "cell_type": "markdown",
   "metadata": {},
   "source": [
    "<img align = \"center\" src=\"images/Binomial.png\" alt=\"Binomial Probabilities with Bias\"/> "
   ]
  },
  {
   "cell_type": "markdown",
   "metadata": {},
   "source": [
    "We can see here that as before with three \"experiments\" there are three ways in which we can achieve the outcome of two positives and one negative result. The probability of any one of those outcomes however is  \n",
    "$$ 0.9 * 0.9 * 0.1 = 0.081 $$  \n",
    "\n",
    "This can be expressed in a formula as:  \n",
    "Probability of a defined outcome over a number of experiments $$=  \\pp^{x}(1-\\pi)^{N-x}$$\n",
    "\n",
    "Where $\\pi$ is the probability of the outcome in question and $N$ is the total number of experiments. As the sum of all possible probabilities is always 1 the probability of the inverse outcome _ie_ Team A losing, is $(1 - \\pi)$. Using this generic formula we get:  \n",
    "\n",
    "$$\\pi^{x}(1-\\pi)^{N-x}= 0.9^{2}(1-0.9)^{3-2}$$\n",
    "\n",
    "$$ = 0.9^{2}(0.1)^{1}$$\n",
    "\n",
    "$$= 0.9 * 0.9 * 0.1$$\n",
    "\n",
    "$$ = 0.081$$  \n",
    "\n",
    "The same result as above. By putting the two formulae we have used together we can calculate how many outcomes and the probability of each. We can put these together to get P(x) the probability of x positive results out of N experiments:  \n",
    "\n",
    "$$P(x) = \\frac{N!}{x!(N-x)!} \\pi^{x}(1-\\pi)^{N-x}$$\n",
    "\n",
    "$$ = \\frac{3!}{2!(3-2)!} 0.9^{2}(1-0.9)^{3-2}$$\n",
    "\n",
    "$$= \\frac{6}/{2}(0.81)(0.1)$$\n",
    "\n",
    "$$ = (3)(0.081)$$\n",
    "\n",
    "$$ = 0.243$$\n",
    "\n",
    "**Mean, Variance and Standard Deviation of Binomial Distributions**\n",
    "The mean ($\\mu$) of a binomial distribution of N number of experiments with a probability of a positive outcome of $\\pi$ is:\n",
    "$$\\mu = N\\pi$$\n",
    "\n",
    "The variance ($\\sigma ^{2}$) is:\n",
    "$$\\sigma ^{2} = N \\pi (1-\\pi)$$\n",
    "\n",
    "And the standard deviation ($\\sigma$) of:\n",
    "$$ \\sigma = \\sqrt{N\\pi(1-\\pi)}$$"
   ]
  },
  {
   "cell_type": "markdown",
   "metadata": {},
   "source": [
    "**2. Distribution Function 2  - Normal or Gaussian Distribution**"
   ]
  },
  {
   "cell_type": "code",
   "execution_count": null,
   "metadata": {},
   "outputs": [],
   "source": []
  },
  {
   "cell_type": "markdown",
   "metadata": {},
   "source": [
    "**3. Distribution Function 3 - Uniform Distribution**"
   ]
  },
  {
   "cell_type": "markdown",
   "metadata": {},
   "source": [
    "**4. Distribution Function 4**"
   ]
  },
  {
   "cell_type": "markdown",
   "metadata": {},
   "source": [
    "**5. Distribution Function 5**"
   ]
  },
  {
   "cell_type": "markdown",
   "metadata": {},
   "source": [
    "### Seeds ###"
   ]
  },
  {
   "cell_type": "markdown",
   "metadata": {},
   "source": [
    "While the name suggests that the output of numpy.random is random, it is however pseudorandom in nature, meaning that data / functions generated from this library element has all the appearance of randomness, but in fact is generated in a specific deterministic manner. This via a pseudorandom number generator (PRNG) and for all intents and purposes is fully sufficient for all our data analytics (and many other) needs.  \n",
    "\n",
    "The whole randomness generation is based on two components:\n",
    "* **_BitGenerators_**: Objects that generate random numbers. These are typically unsigned integer words filled with sequences of either 32 or 64 random bits.\n",
    "* **_Generators_**: Objects that transform sequences of random bits from a BitGenerator into sequences of numbers that follow a specific probability distribution (such as uniform, Normal or Binomial) within a specified interval.\n",
    "    "
   ]
  },
  {
   "cell_type": "markdown",
   "metadata": {},
   "source": [
    "## References ##\n",
    "1. NumPy Site http://www.numpy.org/\n",
    "2. Project Jupyter http://jupyter.org/  \n",
    "3. NumPy Wikipedia Page https://en.wikipedia.org/wiki/NumPy  \n",
    "4. Python for Data Analysis Book  \n",
    "5. https://docs.scipy.org/doc/numpy-1.14.0/reference/routines.random.html  \n",
    "6. https://realpython.com/python-random/  \n",
    "7. https://stackoverflow.com/questions/18829185/difference-between-various-numpy-random-functions  \n",
    "8. https://www.sharpsightlabs.com/blog/numpy-random-choice/  \n",
    "9. https://www.reddit.com/r/Python/comments/jn0bb/randomrandint_vs_randomrandom_why_is_one_15x/  \n",
    "10. http://onlinestatbook.com/2/probability/binomial.html  \n",
    "11. https://www.mathsisfun.com/data/binomial-distribution.html  \n",
    "12. \n"
   ]
  },
  {
   "cell_type": "code",
   "execution_count": null,
   "metadata": {},
   "outputs": [],
   "source": []
  }
 ],
 "metadata": {
  "kernelspec": {
   "display_name": "Python 3",
   "language": "python",
   "name": "python3"
  },
  "language_info": {
   "codemirror_mode": {
    "name": "ipython",
    "version": 3
   },
   "file_extension": ".py",
   "mimetype": "text/x-python",
   "name": "python",
   "nbconvert_exporter": "python",
   "pygments_lexer": "ipython3",
   "version": "3.7.3"
  }
 },
 "nbformat": 4,
 "nbformat_minor": 2
}
