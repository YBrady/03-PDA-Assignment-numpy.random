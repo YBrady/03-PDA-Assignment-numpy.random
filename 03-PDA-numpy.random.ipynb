{
 "cells": [
  {
   "cell_type": "markdown",
   "metadata": {},
   "source": [
    "<img align=\"left\" src=\"images/GMIT-logo.png\" alt=\"GMIT\" width=\"220\"/>                                                      <img align=\"right\" src=\"images/data-analytics.png\" alt=\"HDipDA\" width=\"250\"/>  \n",
    "\n",
    "# <center>Programming for Data Analysis 2019 Assignment: numpy.random</center>  #"
   ]
  },
  {
   "cell_type": "markdown",
   "metadata": {},
   "source": [
    "***\n",
    "**Module Name**: Programming for Data Analysis  \n",
    "**Module Number**: 52465  \n",
    "**Student Name**: Yvonne Brady  \n",
    "**Student ID**: G00376355  \n",
    "***"
   ]
  },
  {
   "cell_type": "markdown",
   "metadata": {},
   "source": [
    "**Problem statement**\n",
    "The following assignment concerns the numpy.random package in Python. You are\n",
    "required to create a Jupyter notebook explaining the use of the package, including\n",
    "detailed explanations of at least five of the distributions provided for in the package.\n",
    "There are four distinct tasks to be carried out in your Jupyter notebook.\n",
    "1. Explain the overall purpose of the package.\n",
    "2. Explain the use of the “Simple random data” and “Permutations” functions.\n",
    "3. Explain the use and purpose of at least five “Distributions” functions.\n",
    "4. Explain the use of seeds in generating pseudorandom numbers."
   ]
  },
  {
   "cell_type": "markdown",
   "metadata": {},
   "source": [
    "## Introduction ##\n",
    "This assignment is completed in part fulfillment of the Programming for Data Analysis module of the Higher Diploma in Data Analytics awarded in GMIT. The goal of this assignment is to explain in lay terms the importance and use of the Python package NumPy, with particular focus on numpy.random."
   ]
  },
  {
   "cell_type": "markdown",
   "metadata": {},
   "source": [
    "## Purpose of NumPy ##\n",
    "Numpy is one of the core packages used in data analytics on the Python platform. It comprises a series of functions and methods that allow for easier data storage, retrieval and manipulation. It is centered on arrays, which are in essence what each dataset is made up of.  \n",
    "\n",
    "NumPy has been around since 2005, when Travis Oliphant managed to merge the previously two competing numerical packagesin Python, Numeric and NumArray,  into one package, NumPy. It is a contraction of the phrease Numerical Python and is the basis of most if not all Python packages with scientific functionality.  \n",
    "  \n",
    "Some of the main parts of NumPy include:  \n",
    "* ndarray - a multidimensional array  \n",
    "* functions - that perform mathematical operations quickly and efficiently. \n",
    "\n",
    "NumPy library of algorithms is written in the C language, a compiled rather than interpreted language which allows faster processing times. Its operations make it possible to perform complex calculations on entire arrays without the need for looping through each element in Python. NumPy algorithms are generally at least 10 to 100 times faster than their Python scripted alternatives.\n",
    "\n",
    "NumPy is an external package that must be imported into python for use. Convention has it that it is imported as \"np\". Each numpy function etc can then be called by prefacing it with np."
   ]
  },
  {
   "cell_type": "code",
   "execution_count": 1,
   "metadata": {},
   "outputs": [],
   "source": [
    "%matplotlib inline\n",
    "import numpy as np # Importing the NumPy library\n",
    "import matplotlib.pyplot as plt # Importing matplotlib for plotting\n",
    "plt.rcParams['figure.figsize'] = [20, 10] # Setting the plot size"
   ]
  },
  {
   "cell_type": "markdown",
   "metadata": {},
   "source": [
    "### Purpose of numpy.random ##\n",
    "numpy.random is the source of \"randomness\" in python. Whenever you need random data, be it random numbers, random sample of data, random placement of known values in an array, numpy.random provides all this functionality and more.  \n",
    "\n",
    "Random numbers are often used to generate random series of numbers, for testing programs in various scenarios, for random sampling of datasets, for many games, gamblings, for determination of probabilities of risks etc. One such sample is given below in the simple game below:"
   ]
  },
  {
   "cell_type": "code",
   "execution_count": 2,
   "metadata": {},
   "outputs": [
    {
     "name": "stdout",
     "output_type": "stream",
     "text": [
      "Pick a number between 1 and 10: 6\n"
     ]
    }
   ],
   "source": [
    "# Generate a random integer between 1 and 10\n",
    "compChoice = np.random.randint(1,11)\n",
    "# Ask the player to pick a number\n",
    "yourChoice = int(input(\"Pick a number between 1 and 10: \"))"
   ]
  },
  {
   "cell_type": "code",
   "execution_count": 3,
   "metadata": {},
   "outputs": [
    {
     "name": "stdout",
     "output_type": "stream",
     "text": [
      "Hard luck. You guessed 6 and I picked 7\n"
     ]
    }
   ],
   "source": [
    "if compChoice == yourChoice:\n",
    "    # If the player guessed right, tell them\n",
    "    print(\"Congrats - you guessed\", yourChoice, \"and I picked\", compChoice)\n",
    "else:\n",
    "    # If the player guessed incorrectly, tell them too\n",
    "    print(\"Hard luck. You guessed\", yourChoice, \"and I picked\", compChoice)"
   ]
  },
  {
   "cell_type": "markdown",
   "metadata": {},
   "source": [
    "There are a number of functions available to generate simple random data as shown in Table 1 below. We will have a look at each of these in turn."
   ]
  },
  {
   "cell_type": "markdown",
   "metadata": {},
   "source": [
    "| Function                           \t| Use                                                                   \t|\n",
    "|------------------------------------\t|-----------------------------------------------------------------------\t|\n",
    "| rand(d0, d1, …, dn)                \t| Random values in a given shape.                                       \t|\n",
    "| randn(d0, d1, …, dn)               \t| Return a sample (or samples) from the “standard normal” distribution. \t|\n",
    "| randint(low[, high, size, dtype])  \t| Return random integers from low (inclusive) to high (exclusive).      \t|\n",
    "| random_integers(low[, high, size]) \t| Random integers of type np.int between low and high, inclusive.       \t|\n",
    "| random_sample([size])              \t| Return random floats in the half-open interval [0.0, 1.0).            \t|\n",
    "| random([size])                     \t| Return random floats in the half-open interval [0.0, 1.0).            \t|\n",
    "| ranf([size])                       \t| Return random floats in the half-open interval [0.0, 1.0).            \t|\n",
    "| sample([size])                     \t| Return random floats in the half-open interval [0.0, 1.0).            \t|\n",
    "| choice(a[, size, replace, p])      \t| Generates a random sample from a given 1-D array                      \t|\n",
    "| bytes(length)                      \t| Return random bytes.                                                  \t|\n",
    "  \n",
    "**<center>Table 1: Simple Random Data</center>**"
   ]
  },
  {
   "cell_type": "markdown",
   "metadata": {},
   "source": [
    "**rand**  \n",
    "_Syntax_ :  \n",
    "np.random.rand(a, b, ....z)  \n",
    "  \n",
    "_Returns_ :  \n",
    "Rand returns a randomly generated array of size specified in the the brackets, for example if only one number was specified it would return that many numbers in a list. All the numbers returned are between 0 and 1.  \n",
    "The numbers returned are randomly selected with a uniform distribution, see below about distributon\n",
    "  \n",
    "_Example_ :"
   ]
  },
  {
   "cell_type": "code",
   "execution_count": 17,
   "metadata": {},
   "outputs": [
    {
     "name": "stdout",
     "output_type": "stream",
     "text": [
      "Here x is a randomly generated list of 6000 numbers ranging from 0.00010849191805117897 to 0.9993996303683398\n"
     ]
    },
    {
     "data": {
      "image/png": "[encoded data removed]",
      "text/plain": [
       "<Figure size 720x432 with 1 Axes>"
      ]
     },
     "metadata": {
      "needs_background": "light"
     },
     "output_type": "display_data"
    }
   ],
   "source": [
    "# Here we are using np.random.rand based on your choice of number above\n",
    "x = np.random.rand(yourChoice*1000)\n",
    "plt.rcParams['figure.figsize'] = [10, 6] # Setting the plot size\n",
    "plt.hist(x, 20)\n",
    "print(\"Here x is a randomly generated list of\", yourChoice * 1000, \"numbers ranging from\", min(x), \"to\" , max(x))"
   ]
  },
  {
   "cell_type": "code",
   "execution_count": 18,
   "metadata": {},
   "outputs": [
    {
     "name": "stdout",
     "output_type": "stream",
     "text": [
      "Here x is a randomly generated list of 6 x 7 numbers\n"
     ]
    },
    {
     "data": {
      "text/plain": [
       "array([[0.69047527, 0.75136537, 0.19003923, 0.00654396, 0.17068089,\n",
       "        0.94756939, 0.21852549],\n",
       "       [0.61275434, 0.7690817 , 0.43848374, 0.95519736, 0.65118027,\n",
       "        0.9821717 , 0.06324108],\n",
       "       [0.87293897, 0.18124675, 0.29612311, 0.62160097, 0.98440735,\n",
       "        0.53689262, 0.28623488],\n",
       "       [0.59426093, 0.00283437, 0.01396915, 0.15612774, 0.6174454 ,\n",
       "        0.35791422, 0.2616991 ],\n",
       "       [0.26082538, 0.2298972 , 0.58211003, 0.07264556, 0.76592681,\n",
       "        0.30878014, 0.03487928],\n",
       "       [0.96002102, 0.70510077, 0.70437794, 0.16711311, 0.46692397,\n",
       "        0.2392631 , 0.23106318]])"
      ]
     },
     "execution_count": 18,
     "metadata": {},
     "output_type": "execute_result"
    },
    {
     "data": {
      "image/png": "[encoded data removed]",
      "text/plain": [
       "<Figure size 720x432 with 1 Axes>"
      ]
     },
     "metadata": {
      "needs_background": "light"
     },
     "output_type": "display_data"
    }
   ],
   "source": [
    "# Here we are using np.random.rand based on an array of size chosn by the game above.\n",
    "x = np.random.rand(yourChoice, compChoice)\n",
    "plt.hist(x, 20)\n",
    "print(\"Here x is a randomly generated list of\", yourChoice, \"x\", compChoice, \"numbers\")\n",
    "x"
   ]
  },
  {
   "cell_type": "code",
   "execution_count": 6,
   "metadata": {},
   "outputs": [
    {
     "name": "stdout",
     "output_type": "stream",
     "text": [
      " a 4D array:\n",
      "[[[[0.9304458  0.57456439 0.61187725 0.57172125 0.82725091]\n",
      "   [0.28722845 0.03936972 0.23378545 0.36187302 0.86757762]\n",
      "   [0.74684152 0.64422626 0.45419725 0.03497293 0.5175664 ]\n",
      "   [0.17405658 0.61303489 0.41898816 0.69062725 0.55693589]]\n",
      "\n",
      "  [[0.02446781 0.91029518 0.35203625 0.99216376 0.64171559]\n",
      "   [0.44138743 0.31600418 0.920916   0.91633715 0.30600113]\n",
      "   [0.89508421 0.29708114 0.93134058 0.94633417 0.91359605]\n",
      "   [0.08605861 0.89274793 0.98164477 0.93731514 0.41514352]]\n",
      "\n",
      "  [[0.32979818 0.32119865 0.23477118 0.33713432 0.84715686]\n",
      "   [0.8589446  0.98462373 0.10314278 0.91153081 0.92519602]\n",
      "   [0.43779438 0.87924683 0.93930052 0.93945316 0.64813758]\n",
      "   [0.11893017 0.51338489 0.11348256 0.30148359 0.50069827]]]\n",
      "\n",
      "\n",
      " [[[0.10750552 0.25934154 0.82777636 0.84169495 0.20415832]\n",
      "   [0.24766073 0.41736797 0.53987255 0.0667477  0.68058638]\n",
      "   [0.54438977 0.07428262 0.19248875 0.82899372 0.93901462]\n",
      "   [0.13147866 0.78648119 0.29165366 0.46548356 0.66211453]]\n",
      "\n",
      "  [[0.65247027 0.30217786 0.96063446 0.41575579 0.13708456]\n",
      "   [0.86109019 0.37819578 0.0541614  0.62914926 0.25554072]\n",
      "   [0.79878226 0.91526699 0.59758804 0.49701944 0.74853027]\n",
      "   [0.09767633 0.46469947 0.44339463 0.21966288 0.20249299]]\n",
      "\n",
      "  [[0.17928895 0.07298882 0.2645717  0.3916931  0.86056166]\n",
      "   [0.33311677 0.00443269 0.74895838 0.73610128 0.51693806]\n",
      "   [0.91472697 0.92891183 0.72343518 0.77047792 0.05528725]\n",
      "   [0.88519363 0.76797691 0.51940903 0.1960445  0.48956836]]]]\n"
     ]
    }
   ],
   "source": [
    "# Other random number arrays:\n",
    "print(\" a 4D array:\")\n",
    "print(np.random.rand(2,3,4,5))"
   ]
  },
  {
   "cell_type": "markdown",
   "metadata": {},
   "source": [
    "While we have shown above that the random functions can generate arrays of data, for the rest of this notebook we will only look at single dimensional arrays."
   ]
  },
  {
   "cell_type": "markdown",
   "metadata": {},
   "source": [
    "**randn**  \n",
    "_Syntax_ :  \n",
    "np.random.randn(a, b, ....z)  \n",
    "  \n",
    "_Returns_ :  \n",
    "randn returns a randomly generated array of size specified in the the brackets, just like the rand function. Unlike the rand function, the values returned centered on 0 with the majority falling between -1 and 1. The is due to the difference between rand and randn - distribution of the random figures returned.  \n",
    "  \n",
    "With the rand function, values are returned with a uniform distribution. This means that all numbers between 0 and 1 are equally likely to be returned.  \n",
    "\n",
    "With the randn function, the returned figures follow a normalised distribution. This means that the values around the 0.5 are the most likely and increasingly less likely the further from the midpoint the value is. \n",
    "\n",
    "_Example_ :"
   ]
  },
  {
   "cell_type": "code",
   "execution_count": 19,
   "metadata": {},
   "outputs": [
    {
     "name": "stdout",
     "output_type": "stream",
     "text": [
      "Here xn is a randomly generated list of 6000 numbers ranging from -3.9254567412227495 to 3.6753461558826355\n"
     ]
    },
    {
     "data": {
      "image/png": "[encoded data removed]",
      "text/plain": [
       "<Figure size 720x432 with 1 Axes>"
      ]
     },
     "metadata": {
      "needs_background": "light"
     },
     "output_type": "display_data"
    }
   ],
   "source": [
    "# Here we are using np.random.randn based on your choice of number above\n",
    "xr = np.random.rand(yourChoice*1000)\n",
    "xn = np.random.randn(yourChoice*1000)\n",
    "plt.hist(xn, 20)\n",
    "print(\"Here xn is a randomly generated list of\", yourChoice * 1000, \"numbers ranging from\", min(xn), \"to\" , max(xn))"
   ]
  },
  {
   "cell_type": "code",
   "execution_count": 20,
   "metadata": {},
   "outputs": [
    {
     "data": {
      "image/png": "[encoded data removed]",
      "text/plain": [
       "<Figure size 720x432 with 2 Axes>"
      ]
     },
     "metadata": {
      "needs_background": "light"
     },
     "output_type": "display_data"
    }
   ],
   "source": [
    "# Lets compare the two figures\n",
    "fig, (ax1, ax2) = plt.subplots(1, 2, sharey=True)\n",
    "ax1.hist(xn,20)\n",
    "ax2.hist(xr,20)\n",
    "\n",
    "# Set labels\n",
    "ax1.set_xlabel(\"Number\")\n",
    "ax2.set_xlabel(\"Number\")\n",
    "ax1.set_ylabel(\"Frequency\")\n",
    "fig.suptitle('Comparison of rand and randn', fontsize=18)\n",
    "ax1.set_title('randn',fontsize=14)\n",
    "ax2.set_title('rand',fontsize=14)\n",
    "plt.show()"
   ]
  },
  {
   "cell_type": "markdown",
   "metadata": {},
   "source": [
    "**randint**  \n",
    "_Syntax_ :  \n",
    "np.random.randint(low[, high, size, dtype])  \n",
    "  \n",
    "_Description_ :  \n",
    "Randint returns randomly generated integers. You can specify the range limit of the values returned via the low and high variables. The value returned will include the \"low\" value, but will be up to but not including the \"high\" range value. This means that if you are looking for a number between 1 and 10 you need to specify that the low is 1 and the high is 11. If no high value is specified, the low value entered in fact acts as the high value and the low value is defaulted to 0. Interestingly enough, although the output is an or multiple integers, the low and high limits may be entered as floating point numbers.  \n",
    "  \n",
    "You may also specify the shape of the integers returned. This may be a single value, a list of numbers or multidimensional arrays via the size variable. This is not a mandatory field and if not specified, it is defaulted to a single number being returned.  \n",
    "\n",
    "Finally you may also specify the datatype of the integer returned. Numpy has a variety of integer datatypes, depending on the maximum value required. int8 for example is one byte in length and is capable of holding numbers in the range -128 to 127. int16 for integers -32768 to 32767 and so on for int32, int64 and unsigned integers too. Although the documentation states that the default value if not specified is int, the tests below show that it is in fact int32.  \n",
    "\n",
    "The numbers returned are randomly selected with a uniform distribution, see below about distributon.\n",
    "\n",
    "randint was the function used to play the initial guessing game above.\n",
    "  \n",
    "_Returns_ :\t\n",
    "a \"size-shaped\" array of random integers from the appropriate distribution, or a single such random int if size not provided.  \n",
    "\n",
    "_Example_ :"
   ]
  },
  {
   "cell_type": "code",
   "execution_count": 24,
   "metadata": {},
   "outputs": [
    {
     "name": "stdout",
     "output_type": "stream",
     "text": [
      "[ 46  62 100  75   5]\n",
      "Each of type: <class 'numpy.int8'>\n"
     ]
    }
   ],
   "source": [
    "# Here we are looking for a number between 1 and 100 inclusive (as we have chosen 101 as the high value)\n",
    "# The shape of the output will be an array of 5 integers, \n",
    "# and they will be of type int8's.\n",
    "x = np.random.randint(1, 101, 5, np.int8)\n",
    "print(x)\n",
    "print(\"Each of type:\", type(x[1]))"
   ]
  },
  {
   "cell_type": "code",
   "execution_count": 26,
   "metadata": {},
   "outputs": [
    {
     "data": {
      "text/plain": [
       "4"
      ]
     },
     "execution_count": 26,
     "metadata": {},
     "output_type": "execute_result"
    }
   ],
   "source": [
    "# Using floats as limits, size is defaulted to a single integer value returned.\n",
    "np.random.randint(3.2, 14.3)"
   ]
  },
  {
   "cell_type": "code",
   "execution_count": 28,
   "metadata": {},
   "outputs": [
    {
     "name": "stdout",
     "output_type": "stream",
     "text": [
      "The minimum is 0. The maximum is 0.\n",
      "When not specified, the output is of type: <class 'numpy.int32'>\n"
     ]
    }
   ],
   "source": [
    "# Here we are setting just one value of 1. \n",
    "# As there is not both a lower and an upper limit set, \n",
    "# numpy assumes the value entered is the upper limit and 0 is taken as the lower limit.\n",
    "# As the range does not include the upper limit in its output, the expect return is all 0's inthe case below.\n",
    "# You can make the size as large as you want, but max will not exceed 0.\n",
    "# The default type is also shown here too - as int32.\n",
    "\n",
    "# To show the default is taken to be the upper limit which is never reached:\n",
    "x = np.random.randint(1, size = 1000000000)\n",
    "print(f\"The minimum is {x.min()}. The maximum is {x.max(0)}.\")\n",
    "print(\"When not specified, the output is of type:\", type(x[1]))"
   ]
  },
  {
   "cell_type": "code",
   "execution_count": 30,
   "metadata": {},
   "outputs": [
    {
     "name": "stdout",
     "output_type": "stream",
     "text": [
      "[-8216521927524874143 -4923360569390805557 -7703454586905140748\n",
      " -4026088498936576996 -9162767387727530972 -5021396120048037094\n",
      " -1015173192725780183 -4850603513870486848  -698590382411279899\n",
      " -3778332200830586721]\n",
      "The output is of type: <class 'numpy.int64'>\n"
     ]
    }
   ],
   "source": [
    "# While the default type is int32 - here we are checking if that is automatically adusted to \n",
    "# take into account the range requested.\n",
    "# Here we are looking for a number between -9223372036854775800 and -1 inclusive. \n",
    "# The shape of the output will be an array of 2x4 array integers rather than a one dimensionsal array, \n",
    "# and they will be of type int64's.\n",
    "x = np.random.randint(-9223372036854775800 , 0, 10, np.int64)\n",
    "print(x)\n",
    "print(\"The output is of type:\", type(x[1]))"
   ]
  },
  {
   "cell_type": "code",
   "execution_count": 13,
   "metadata": {},
   "outputs": [
    {
     "ename": "ValueError",
     "evalue": "low is out of bounds for int32",
     "output_type": "error",
     "traceback": [
      "\u001b[1;31m---------------------------------------------------------------------------\u001b[0m",
      "\u001b[1;31mValueError\u001b[0m                                Traceback (most recent call last)",
      "\u001b[1;32m<ipython-input-13-fe3fb4e9a8fe>\u001b[0m in \u001b[0;36m<module>\u001b[1;34m\u001b[0m\n\u001b[0;32m      1\u001b[0m \u001b[1;31m# --------- Expected Error --------\u001b[0m\u001b[1;33m\u001b[0m\u001b[1;33m\u001b[0m\u001b[1;33m\u001b[0m\u001b[0m\n\u001b[0;32m      2\u001b[0m \u001b[1;31m# Let's try that again, this time without specifying the dtype:\u001b[0m\u001b[1;33m\u001b[0m\u001b[1;33m\u001b[0m\u001b[1;33m\u001b[0m\u001b[0m\n\u001b[1;32m----> 3\u001b[1;33m \u001b[0mx\u001b[0m \u001b[1;33m=\u001b[0m \u001b[0mnp\u001b[0m\u001b[1;33m.\u001b[0m\u001b[0mrandom\u001b[0m\u001b[1;33m.\u001b[0m\u001b[0mrandint\u001b[0m\u001b[1;33m(\u001b[0m\u001b[1;33m-\u001b[0m\u001b[1;36m9223372036854775800\u001b[0m \u001b[1;33m,\u001b[0m \u001b[1;36m0\u001b[0m\u001b[1;33m,\u001b[0m \u001b[1;36m10\u001b[0m\u001b[1;33m)\u001b[0m\u001b[1;33m\u001b[0m\u001b[1;33m\u001b[0m\u001b[0m\n\u001b[0m\u001b[0;32m      4\u001b[0m \u001b[0mprint\u001b[0m\u001b[1;33m(\u001b[0m\u001b[0mx\u001b[0m\u001b[1;33m)\u001b[0m\u001b[1;33m\u001b[0m\u001b[1;33m\u001b[0m\u001b[0m\n\u001b[0;32m      5\u001b[0m \u001b[0mprint\u001b[0m\u001b[1;33m(\u001b[0m\u001b[1;34m\"The output is of type:\"\u001b[0m\u001b[1;33m,\u001b[0m \u001b[0mtype\u001b[0m\u001b[1;33m(\u001b[0m\u001b[0mx\u001b[0m\u001b[1;33m[\u001b[0m\u001b[1;36m1\u001b[0m\u001b[1;33m]\u001b[0m\u001b[1;33m)\u001b[0m\u001b[1;33m)\u001b[0m\u001b[1;33m\u001b[0m\u001b[1;33m\u001b[0m\u001b[0m\n",
      "\u001b[1;32mmtrand.pyx\u001b[0m in \u001b[0;36mmtrand.RandomState.randint\u001b[1;34m()\u001b[0m\n",
      "\u001b[1;31mValueError\u001b[0m: low is out of bounds for int32"
     ]
    }
   ],
   "source": [
    "# --------- Expected Error --------\n",
    "# Let's try that again, this time without specifying the dtype:\n",
    "x = np.random.randint(-9223372036854775800 , 0, 10)\n",
    "print(x)\n",
    "print(\"The output is of type:\", type(x[1]))\n",
    "# --------- Expected Error --------"
   ]
  },
  {
   "cell_type": "markdown",
   "metadata": {},
   "source": [
    "The error thrown above shows that the size of the datatype is not dependent on the range requested and defaults to int32. This function therefore throws an error if the range exceeds the limits of the int32 datatype (-2147483648 to 2147483647).  \n",
    "\n",
    "Errors are also thrown in the high limit is lower than the low limit. This is true even when no high limit is specified if a negative number is inputted as the low variable."
   ]
  },
  {
   "cell_type": "code",
   "execution_count": 32,
   "metadata": {},
   "outputs": [
    {
     "ename": "ValueError",
     "evalue": "Range cannot be empty (low >= high) unless no samples are taken",
     "output_type": "error",
     "traceback": [
      "\u001b[1;31m---------------------------------------------------------------------------\u001b[0m",
      "\u001b[1;31mValueError\u001b[0m                                Traceback (most recent call last)",
      "\u001b[1;32m<ipython-input-32-4c82d00f1bbe>\u001b[0m in \u001b[0;36m<module>\u001b[1;34m\u001b[0m\n\u001b[0;32m      4\u001b[0m \u001b[1;31m# it assumes the entered value is the high value and defaults the low to 0.\u001b[0m\u001b[1;33m\u001b[0m\u001b[1;33m\u001b[0m\u001b[1;33m\u001b[0m\u001b[0m\n\u001b[0;32m      5\u001b[0m \u001b[1;31m# That means in this instance the low is higher than the high and will throw an error.\u001b[0m\u001b[1;33m\u001b[0m\u001b[1;33m\u001b[0m\u001b[1;33m\u001b[0m\u001b[0m\n\u001b[1;32m----> 6\u001b[1;33m \u001b[0mx\u001b[0m \u001b[1;33m=\u001b[0m \u001b[0mnp\u001b[0m\u001b[1;33m.\u001b[0m\u001b[0mrandom\u001b[0m\u001b[1;33m.\u001b[0m\u001b[0mrandint\u001b[0m\u001b[1;33m(\u001b[0m\u001b[1;33m-\u001b[0m\u001b[1;36m5\u001b[0m\u001b[1;33m)\u001b[0m\u001b[1;33m\u001b[0m\u001b[1;33m\u001b[0m\u001b[0m\n\u001b[0m\u001b[0;32m      7\u001b[0m \u001b[0mprint\u001b[0m\u001b[1;33m(\u001b[0m\u001b[0mx\u001b[0m\u001b[1;33m)\u001b[0m\u001b[1;33m\u001b[0m\u001b[1;33m\u001b[0m\u001b[0m\n\u001b[0;32m      8\u001b[0m \u001b[1;31m# --------- Expected Error --------\u001b[0m\u001b[1;33m\u001b[0m\u001b[1;33m\u001b[0m\u001b[1;33m\u001b[0m\u001b[0m\n",
      "\u001b[1;32mmtrand.pyx\u001b[0m in \u001b[0;36mmtrand.RandomState.randint\u001b[1;34m()\u001b[0m\n",
      "\u001b[1;31mValueError\u001b[0m: Range cannot be empty (low >= high) unless no samples are taken"
     ]
    }
   ],
   "source": [
    "# --------- Expected Error --------\n",
    "# Here we are specifying a \"low\" of -5. \n",
    "# Due to the way in which the function handles the defaults however, \n",
    "# it assumes the entered value is the high value and defaults the low to 0.\n",
    "# That means in this instance the low is higher than the high and will throw an error.\n",
    "x = np.random.randint(-5)\n",
    "print(x)\n",
    "# --------- Expected Error --------"
   ]
  },
  {
   "cell_type": "code",
   "execution_count": 35,
   "metadata": {},
   "outputs": [
    {
     "name": "stdout",
     "output_type": "stream",
     "text": [
      "[]\n"
     ]
    }
   ],
   "source": [
    "# As above but this time where the size is set to zero. \n",
    "# No error is thrown, but neither are numbers returned.\n",
    "x = np.random.randint(-5, size = 0)\n",
    "print(x)"
   ]
  },
  {
   "cell_type": "code",
   "execution_count": 37,
   "metadata": {
    "scrolled": true
   },
   "outputs": [
    {
     "data": {
      "text/plain": [
       "(array([1971., 2014., 2007., 2031., 1997., 1931., 2056., 1943., 1995.,\n",
       "        2056., 1986., 2027., 2031., 2078., 2038., 2122., 2018., 2030.,\n",
       "        1960., 2042., 2070., 2005., 1935., 1958., 1983., 1973., 1975.,\n",
       "        1921., 1935., 1985., 1994., 2028., 2014., 1945., 2067., 1997.,\n",
       "        1977., 1866., 2024., 1987., 2024., 2048., 1983., 2030., 1925.,\n",
       "        2032., 1926., 2008., 2047., 2005.]),\n",
       " array([ 0.  ,  1.98,  3.96,  5.94,  7.92,  9.9 , 11.88, 13.86, 15.84,\n",
       "        17.82, 19.8 , 21.78, 23.76, 25.74, 27.72, 29.7 , 31.68, 33.66,\n",
       "        35.64, 37.62, 39.6 , 41.58, 43.56, 45.54, 47.52, 49.5 , 51.48,\n",
       "        53.46, 55.44, 57.42, 59.4 , 61.38, 63.36, 65.34, 67.32, 69.3 ,\n",
       "        71.28, 73.26, 75.24, 77.22, 79.2 , 81.18, 83.16, 85.14, 87.12,\n",
       "        89.1 , 91.08, 93.06, 95.04, 97.02, 99.  ]),\n",
       " <a list of 50 Patch objects>)"
      ]
     },
     "execution_count": 37,
     "metadata": {},
     "output_type": "execute_result"
    },
    {
     "data": {
      "image/png": "[encoded data removed]",
      "text/plain": [
       "<Figure size 720x432 with 1 Axes>"
      ]
     },
     "metadata": {
      "needs_background": "light"
     },
     "output_type": "display_data"
    }
   ],
   "source": [
    "# Randint distribution - uniform\n",
    "x = np.random.randint(100, size = 100000)\n",
    "plt.hist(x,bins = 50)"
   ]
  },
  {
   "cell_type": "code",
   "execution_count": null,
   "metadata": {},
   "outputs": [],
   "source": []
  },
  {
   "cell_type": "markdown",
   "metadata": {},
   "source": [
    "**random_integers**  \n",
    "\n",
    "_Syntax_ :\n",
    "random_integers(low[, high, size])\t\n",
    "\n",
    "\n",
    "**Note:**  \n",
    "The random_integers function is now deprecated. That means that this function is not recommended for use and will be withdrawn in the future. If you choose to use random_integers, your code may cease working in the future. Using the function now will result in a warning message being displayed. The randint function described above should be used instead to generate random integers. \n",
    "\n",
    "_Description_ :  \n",
    "Is very similar to the randint function. The two main differences between the two functions are:\n",
    "* When specifying the limits with random_integers, the range INCLUDES both the high and low limits.\n",
    "* An int32 is always returned - you cannot specify it to be any other sort of int.\n",
    "\n",
    "_Examples_ :\n",
    "The results from the above test for randint would be the same for random_integers with the exception of the test where you specify the integer type to anything other than int32. "
   ]
  },
  {
   "cell_type": "markdown",
   "metadata": {},
   "source": [
    "random_sample([size])\tReturn random floats in the half-open interval [0.0, 1.0).\n",
    "\n",
    "numpy.random.random_sample\n",
    "numpy.random.random_sample(size=None)\n",
    "Return random floats in the half-open interval [0.0, 1.0).\n",
    "\n",
    "Results are from the “continuous uniform” distribution over the stated interval. To sample Unif[a, b), b > a multiply the output of random_sample by (b-a) and add a:\n",
    "\n",
    "(b - a) * random_sample() + a\n",
    "Parameters:\t\n",
    "size : int or tuple of ints, optional\n",
    "Output shape. If the given shape is, e.g., (m, n, k), then m * n * k samples are drawn. Default is None, in which case a single value is returned.\n",
    "\n",
    "Returns:\t\n",
    "out : float or ndarray of floats\n",
    "Array of random floats of shape size (unless size=None, in which case a single float is returned).\n",
    "\n"
   ]
  },
  {
   "cell_type": "markdown",
   "metadata": {},
   "source": [
    "random([size])\tReturn random floats in the half-open interval [0.0, 1.0).\n",
    "\n",
    "numpy.random.random(size=None)\n",
    "Return random floats in the half-open interval [0.0, 1.0).\n",
    "\n",
    "Results are from the “continuous uniform” distribution over the stated interval. To sample Unif[a, b), b > a multiply the output of random_sample by (b-a) and add a:\n",
    "\n",
    "(b - a) * random_sample() + a\n",
    "Parameters:\t\n",
    "size : int or tuple of ints, optional\n",
    "Output shape. If the given shape is, e.g., (m, n, k), then m * n * k samples are drawn. Default is None, in which case a single value is returned.\n",
    "\n",
    "Returns:\t\n",
    "out : float or ndarray of floats\n",
    "Array of random floats of shape size (unless size=None, in which case a single float is returned)."
   ]
  },
  {
   "cell_type": "markdown",
   "metadata": {},
   "source": [
    "ranf([size])\tReturn random floats in the half-open interval [0.0, 1.0).\n",
    "numpy.random.ranf(size=None)\n",
    "Return random floats in the half-open interval [0.0, 1.0).\n",
    "\n",
    "Results are from the “continuous uniform” distribution over the stated interval. To sample Unif[a, b), b > a multiply the output of random_sample by (b-a) and add a:\n",
    "\n",
    "(b - a) * random_sample() + a\n",
    "Parameters:\t\n",
    "size : int or tuple of ints, optional\n",
    "Output shape. If the given shape is, e.g., (m, n, k), then m * n * k samples are drawn. Default is None, in which case a single value is returned.\n",
    "\n",
    "Returns:\t\n",
    "out : float or ndarray of floats\n",
    "Array of random floats of shape size (unless size=None, in which case a single float is returned)."
   ]
  },
  {
   "cell_type": "markdown",
   "metadata": {},
   "source": [
    "sample([size])\tReturn random floats in the half-open interval [0.0, 1.0).\n",
    "numpy.random.sample(size=None)\n",
    "Return random floats in the half-open interval [0.0, 1.0).\n",
    "\n",
    "Results are from the “continuous uniform” distribution over the stated interval. To sample Unif[a, b), b > a multiply the output of random_sample by (b-a) and add a:\n",
    "\n",
    "(b - a) * random_sample() + a\n",
    "Parameters:\t\n",
    "size : int or tuple of ints, optional\n",
    "Output shape. If the given shape is, e.g., (m, n, k), then m * n * k samples are drawn. Default is None, in which case a single value is returned.\n",
    "\n",
    "Returns:\t\n",
    "out : float or ndarray of floats\n",
    "Array of random floats of shape size (unless size=None, in which case a single float is returned)."
   ]
  },
  {
   "cell_type": "markdown",
   "metadata": {},
   "source": [
    "choice(a[, size, replace, p])\tGenerates a random sample from a given 1-D array\n",
    "numpy.random.choice(a, size=None, replace=True, p=None)\n",
    "Generates a random sample from a given 1-D array\n",
    "\n",
    "New in version 1.7.0.\n",
    "\n",
    "Parameters:\t\n",
    "a : 1-D array-like or int\n",
    "If an ndarray, a random sample is generated from its elements. If an int, the random sample is generated as if a were np.arange(a)\n",
    "\n",
    "size : int or tuple of ints, optional\n",
    "Output shape. If the given shape is, e.g., (m, n, k), then m * n * k samples are drawn. Default is None, in which case a single value is returned.\n",
    "\n",
    "replace : boolean, optional\n",
    "Whether the sample is with or without replacement\n",
    "\n",
    "p : 1-D array-like, optional\n",
    "The probabilities associated with each entry in a. If not given the sample assumes a uniform distribution over all entries in a.\n",
    "\n",
    "Returns:\t\n",
    "samples : single item or ndarray\n",
    "The generated random samples\n",
    "\n",
    "Raises:\t\n",
    "ValueError\n",
    "If a is an int and less than zero, if a or p are not 1-dimensional, if a is an array-like of size 0, if p is not a vector of probabilities, if a and p have different lengths, or if replace=False and the sample size is greater than the population size"
   ]
  },
  {
   "cell_type": "markdown",
   "metadata": {},
   "source": [
    "bytes(length)\tReturn random bytes.\n",
    "numpy.random.bytes(length)\n",
    "Return random bytes.\n",
    "\n",
    "Parameters:\t\n",
    "length : int\n",
    "Number of random bytes.\n",
    "\n",
    "Returns:\t\n",
    "out : str\n",
    "String of length length."
   ]
  },
  {
   "cell_type": "markdown",
   "metadata": {},
   "source": [
    "While the name suggests that the output of numpy.random is random, it is however pseudorandom in nature, meaning that data / functions generated from this library element has all the appearance of randomness, but in fact is generated in a specific deterministic manner. This via a pseudorandom number generator (PRNG) and for all intents and purposes is fully sufficient for all our data analytics (and many other) needs.  \n",
    "\n",
    "The whole randomness generation is based on two components:\n",
    "* **_BitGenerators_**: Objects that generate random numbers. These are typically unsigned integer words filled with sequences of either 32 or 64 random bits.\n",
    "* **_Generators_**: Objects that transform sequences of random bits from a BitGenerator into sequences of numbers that follow a specific probability distribution (such as uniform, Normal or Binomial) within a specified interval.\n"
   ]
  },
  {
   "cell_type": "markdown",
   "metadata": {},
   "source": [
    "## Functions ##"
   ]
  },
  {
   "cell_type": "markdown",
   "metadata": {},
   "source": [
    "### Simple Random Data ##"
   ]
  },
  {
   "cell_type": "markdown",
   "metadata": {},
   "source": [
    "### Permutations ###"
   ]
  },
  {
   "cell_type": "markdown",
   "metadata": {},
   "source": [
    "### Distribution Functions ###"
   ]
  },
  {
   "cell_type": "markdown",
   "metadata": {},
   "source": [
    "**1. Distribution Function 1**"
   ]
  },
  {
   "cell_type": "markdown",
   "metadata": {},
   "source": [
    "**2. Distribution Function 2**"
   ]
  },
  {
   "cell_type": "markdown",
   "metadata": {},
   "source": [
    "**3. Distribution Function 3**"
   ]
  },
  {
   "cell_type": "markdown",
   "metadata": {},
   "source": [
    "**4. Distribution Function 4**"
   ]
  },
  {
   "cell_type": "markdown",
   "metadata": {},
   "source": [
    "**5. Distribution Function 5**"
   ]
  },
  {
   "cell_type": "markdown",
   "metadata": {},
   "source": [
    "### Seeds ###"
   ]
  },
  {
   "cell_type": "markdown",
   "metadata": {},
   "source": [
    "## References ##\n",
    "1. NumPy Site http://www.numpy.org/\n",
    "2. Project Jupyter http://jupyter.org/  \n",
    "3. NumPy Wikipedia Page https://en.wikipedia.org/wiki/NumPy  \n",
    "4. Python for Data Analysis Book  \n",
    "5. https://realpython.com/python-random/  \n"
   ]
  },
  {
   "cell_type": "code",
   "execution_count": null,
   "metadata": {},
   "outputs": [],
   "source": []
  }
 ],
 "metadata": {
  "kernelspec": {
   "display_name": "Python 3",
   "language": "python",
   "name": "python3"
  },
  "language_info": {
   "codemirror_mode": {
    "name": "ipython",
    "version": 3
   },
   "file_extension": ".py",
   "mimetype": "text/x-python",
   "name": "python",
   "nbconvert_exporter": "python",
   "pygments_lexer": "ipython3",
   "version": "3.7.3"
  }
 },
 "nbformat": 4,
 "nbformat_minor": 2
}
