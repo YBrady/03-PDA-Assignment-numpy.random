{
 "cells": [
  {
   "cell_type": "markdown",
   "metadata": {},
   "source": [
    "<img align=\"left\" src=\"images/GMIT-logo.png\" alt=\"GMIT\" width=\"220\"/>                                                      <img align=\"right\" src=\"images/data-analytics.png\" alt=\"HDipDA\" width=\"250\"/>  \n",
    "\n",
    "# <center>Programming for Data Analysis 2019 Assignment: numpy.random</center>  #"
   ]
  },
  {
   "cell_type": "markdown",
   "metadata": {},
   "source": [
    "***\n",
    "**Module Name**: Programming for Data Analysis  \n",
    "**Module Number**: 52465  \n",
    "**Student Name**: Yvonne Brady  \n",
    "**Student ID**: G00376355  \n",
    "***"
   ]
  },
  {
   "cell_type": "markdown",
   "metadata": {},
   "source": [
    "**Problem statement**\n",
    "The following assignment concerns the numpy.random package in Python. You are\n",
    "required to create a Jupyter notebook explaining the use of the package, including\n",
    "detailed explanations of at least five of the distributions provided for in the package.\n",
    "There are four distinct tasks to be carried out in your Jupyter notebook.\n",
    "1. Explain the overall purpose of the package.\n",
    "2. Explain the use of the “Simple random data” and “Permutations” functions.\n",
    "3. Explain the use and purpose of at least five “Distributions” functions.\n",
    "4. Explain the use of seeds in generating pseudorandom numbers."
   ]
  },
  {
   "cell_type": "markdown",
   "metadata": {},
   "source": [
    "## Introduction ##\n",
    "This assignment is completed in part fulfillment of the Programming for Data Analysis module of the Higher Diploma in Data Analytics awarded in GMIT. The goal of this assignment is to explain in lay terms the importance and use of the Python package NumPy, with particular focus on numpy.random."
   ]
  },
  {
   "cell_type": "markdown",
   "metadata": {},
   "source": [
    "## Purpose of NumPy ##\n",
    "Numpy is one of the core packages used in data analytics on the Python platform. It comprises a series of functions and methods that allow for easier data storage, retrieval and manipulation. It is centered on arrays, which are in essence what each dataset is made up of.  \n",
    "\n",
    "NumPy has been around since 2005, when Travis Oliphant managed to merge the previously two competing numerical packagesin Python, Numeric and NumArray,  into one package, NumPy. It is a contraction of the phrease Numerical Python and is the basis of most if not all Python packages with scientific functionality.  \n",
    "  \n",
    "Some of the main parts of NumPy include:  \n",
    "* ndarray - a multidimensional array  \n",
    "* functions - that perform mathematical operations quickly and efficiently. \n",
    "\n",
    "NumPy library of algorithms is written in the C language, a compiled rather than interpreted language which allows faster processing times. Its operations make it possible to perform complex calculations on entire arrays without the need for looping through each element in Python. NumPy algorithms are generally at least 10 to 100 times faster than their Python scripted alternatives.\n",
    "\n",
    "NumPy is an external package that must be imported into python for use. Convention has it that it is imported as \"np\". Each numpy function etc can then be called by prefacing it with np."
   ]
  },
  {
   "cell_type": "code",
   "execution_count": 1,
   "metadata": {},
   "outputs": [],
   "source": [
    "import numpy as np"
   ]
  },
  {
   "cell_type": "markdown",
   "metadata": {},
   "source": [
    "### Purpose of numpy.random ##"
   ]
  },
  {
   "cell_type": "markdown",
   "metadata": {},
   "source": [
    "## Functions ##"
   ]
  },
  {
   "cell_type": "markdown",
   "metadata": {},
   "source": [
    "### Simple Random Data ##"
   ]
  },
  {
   "cell_type": "markdown",
   "metadata": {},
   "source": [
    "### Permutations ###"
   ]
  },
  {
   "cell_type": "markdown",
   "metadata": {},
   "source": [
    "### Distribution Functions ###"
   ]
  },
  {
   "cell_type": "markdown",
   "metadata": {},
   "source": [
    "**1. Distribution Function 1**"
   ]
  },
  {
   "cell_type": "markdown",
   "metadata": {},
   "source": [
    "**2. Distribution Function 2**"
   ]
  },
  {
   "cell_type": "markdown",
   "metadata": {},
   "source": [
    "**3. Distribution Function 3**"
   ]
  },
  {
   "cell_type": "markdown",
   "metadata": {},
   "source": [
    "**4. Distribution Function 4**"
   ]
  },
  {
   "cell_type": "markdown",
   "metadata": {},
   "source": [
    "**5. Distribution Function 5**"
   ]
  },
  {
   "cell_type": "markdown",
   "metadata": {},
   "source": [
    "### Seeds ###"
   ]
  },
  {
   "cell_type": "markdown",
   "metadata": {},
   "source": [
    "## References ##\n",
    "1. NumPy Site http://www.numpy.org/\n",
    "2. Project Jupyter http://jupyter.org/  \n",
    "3. NumPy Wikipedia Page https://en.wikipedia.org/wiki/NumPy  \n",
    "4. Python for Data Analysis Book  \n",
    "5. "
   ]
  },
  {
   "cell_type": "code",
   "execution_count": null,
   "metadata": {},
   "outputs": [],
   "source": []
  }
 ],
 "metadata": {
  "kernelspec": {
   "display_name": "Python 3",
   "language": "python",
   "name": "python3"
  },
  "language_info": {
   "codemirror_mode": {
    "name": "ipython",
    "version": 3
   },
   "file_extension": ".py",
   "mimetype": "text/x-python",
   "name": "python",
   "nbconvert_exporter": "python",
   "pygments_lexer": "ipython3",
   "version": "3.7.3"
  }
 },
 "nbformat": 4,
 "nbformat_minor": 2
}
