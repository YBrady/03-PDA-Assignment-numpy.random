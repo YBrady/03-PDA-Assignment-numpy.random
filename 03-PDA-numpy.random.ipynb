{
 "cells": [
  {
   "cell_type": "markdown",
   "metadata": {},
   "source": [
    "<img align=\"left\" src=\"images/GMIT-logo.png\" alt=\"GMIT\" width=\"220\"/>                                                      <img align=\"right\" src=\"images/data-analytics.png\" alt=\"HDipDA\" width=\"250\"/>  \n",
    "\n",
    "# <center>Programming for Data Analysis 2019 Assignment: numpy.random</center>  #"
   ]
  },
  {
   "cell_type": "markdown",
   "metadata": {},
   "source": [
    "***\n",
    "**Module Name**: Programming for Data Analysis  \n",
    "**Module Number**: 52465  \n",
    "**Student Name**: Yvonne Brady  \n",
    "**Student ID**: G00376355  \n",
    "***"
   ]
  },
  {
   "cell_type": "markdown",
   "metadata": {},
   "source": [
    "**Problem statement**\n",
    "The following assignment concerns the numpy.random package in Python. You are\n",
    "required to create a Jupyter notebook explaining the use of the package, including\n",
    "detailed explanations of at least five of the distributions provided for in the package.\n",
    "There are four distinct tasks to be carried out in your Jupyter notebook.\n",
    "1. Explain the overall purpose of the package.\n",
    "2. Explain the use of the “Simple random data” and “Permutations” functions.\n",
    "3. Explain the use and purpose of at least five “Distributions” functions.\n",
    "4. Explain the use of seeds in generating pseudorandom numbers."
   ]
  },
  {
   "cell_type": "markdown",
   "metadata": {},
   "source": [
    "## Introduction ##\n",
    "This assignment is completed in part fulfillment of the Programming for Data Analysis module of the Higher Diploma in Data Analytics awarded in GMIT. The goal of this assignment is to explain in lay terms the importance and use of the Python package NumPy, with particular focus on numpy.random."
   ]
  },
  {
   "cell_type": "markdown",
   "metadata": {},
   "source": [
    "## Purpose of NumPy ##\n",
    "Numpy is one of the core packages used in data analytics on the Python platform. It comprises a series of functions and methods that allow for easier data storage, retrieval and manipulation. It is centered on arrays, which are in essence what each dataset is made up of.  \n",
    "\n",
    "NumPy has been around since 2005, when Travis Oliphant managed to merge the previously two competing numerical packagesin Python, Numeric and NumArray,  into one package, NumPy. It is a contraction of the phrease Numerical Python and is the basis of most if not all Python packages with scientific functionality.  \n",
    "  \n",
    "Some of the main parts of NumPy include:  \n",
    "* ndarray - a multidimensional array  \n",
    "* functions - that perform mathematical operations quickly and efficiently. \n",
    "\n",
    "NumPy library of algorithms is written in the C language, a compiled rather than interpreted language which allows faster processing times. Its operations make it possible to perform complex calculations on entire arrays without the need for looping through each element in Python. NumPy algorithms are generally at least 10 to 100 times faster than their Python scripted alternatives.\n",
    "\n",
    "NumPy is an external package that must be imported into python for use. Convention has it that it is imported as \"np\". Each numpy function etc can then be called by prefacing it with np."
   ]
  },
  {
   "cell_type": "code",
   "execution_count": 1,
   "metadata": {},
   "outputs": [],
   "source": [
    "%matplotlib inline\n",
    "import numpy as np # Importing the NumPy library\n",
    "import matplotlib.pyplot as plt # Importing matplotlib for plotting\n",
    "plt.rcParams['figure.figsize'] = [20, 10] # Setting the plot size"
   ]
  },
  {
   "cell_type": "markdown",
   "metadata": {},
   "source": [
    "### Purpose of numpy.random ##\n",
    "numpy.random is the source of \"randomness\" in python. Whenever you need random data, be it random numbers, random sample of data, random placement of known values in an array, numpy.random provides all this functionality and more.  \n",
    "\n",
    "Random numbers are often used to generate random series of numbers, for testing programs in various scenarios, for random sampling of datasets, for many games, gamblings, for determination of probabilities of risks etc. One such sample is given below in the simple game below:"
   ]
  },
  {
   "cell_type": "code",
   "execution_count": null,
   "metadata": {},
   "outputs": [],
   "source": [
    "# Generate a random integer between 1 and 10\n",
    "compChoice = np.random.randint(1,11)\n",
    "# Ask the player to pick a number\n",
    "yourChoice = int(input(\"Pick a number between 1 and 10: \"))"
   ]
  },
  {
   "cell_type": "code",
   "execution_count": null,
   "metadata": {},
   "outputs": [],
   "source": [
    "if compChoice == yourChoice:\n",
    "    # If the player guessed right, tell them\n",
    "    print(\"Congrats - you guessed\", yourChoice, \"and I picked\", compChoice)\n",
    "else:\n",
    "    # If the player guessed incorrectly, tell them too\n",
    "    print(\"Hard luck. You guessed\", yourChoice, \"and I picked\", compChoice)"
   ]
  },
  {
   "cell_type": "markdown",
   "metadata": {},
   "source": [
    "## Functions: Simple Random Data##"
   ]
  },
  {
   "cell_type": "markdown",
   "metadata": {},
   "source": [
    "There are a number of functions available to generate simple random data as shown in Table 1 below. We will have a look at each of these in turn."
   ]
  },
  {
   "cell_type": "markdown",
   "metadata": {},
   "source": [
    "| Function                           \t| Use                                                                   \t|\n",
    "|------------------------------------\t|-----------------------------------------------------------------------\t|\n",
    "| rand(d0, d1, …, dn)                \t| Random values in a given shape.                                       \t|\n",
    "| randn(d0, d1, …, dn)               \t| Return a sample (or samples) from the “standard normal” distribution. \t|\n",
    "| randint(low[, high, size, dtype])  \t| Return random integers from low (inclusive) to high (exclusive).      \t|\n",
    "| random_integers(low[, high, size]) \t| Random integers of type np.int between low and high, inclusive.       \t|\n",
    "| random_sample([size])              \t| Return random floats in the half-open interval [0.0, 1.0).            \t|\n",
    "| random([size])                     \t| Return random floats in the half-open interval [0.0, 1.0).            \t|\n",
    "| ranf([size])                       \t| Return random floats in the half-open interval [0.0, 1.0).            \t|\n",
    "| sample([size])                     \t| Return random floats in the half-open interval [0.0, 1.0).            \t|\n",
    "| choice(a[, size, replace, p])      \t| Generates a random sample from a given 1-D array                      \t|\n",
    "| bytes(length)                      \t| Return random bytes.                                                  \t|\n",
    "  \n",
    "**<center>Table 1: Simple Random Data</center>**"
   ]
  },
  {
   "cell_type": "markdown",
   "metadata": {},
   "source": [
    "**rand**  \n",
    "_Syntax_ :  \n",
    "np.random.rand(a, b, ....z)  \n",
    "  \n",
    "_Returns_ :  \n",
    "Rand returns a randomly generated array of size specified in the the brackets, for example if only one number was specified it would return that many numbers in a list. All the numbers returned are between 0 and 1.  \n",
    "The numbers returned are randomly selected with a uniform distribution, see below about distributon\n",
    "  \n",
    "_Example_ :"
   ]
  },
  {
   "cell_type": "code",
   "execution_count": null,
   "metadata": {},
   "outputs": [],
   "source": [
    "# Here we are using np.random.rand based on your choice of number above\n",
    "x = np.random.rand(yourChoice*1000)\n",
    "plt.rcParams['figure.figsize'] = [10, 6] # Setting the plot size\n",
    "plt.hist(x, 20)\n",
    "print(\"Here x is a randomly generated list of\", yourChoice * 1000, \"numbers ranging from\", min(x), \"to\" , max(x))"
   ]
  },
  {
   "cell_type": "code",
   "execution_count": null,
   "metadata": {},
   "outputs": [],
   "source": [
    "# Here we are using np.random.rand based on an array of size chosn by the game above.\n",
    "x = np.random.rand(yourChoice, compChoice)\n",
    "plt.hist(x, 20)\n",
    "print(\"Here x is a randomly generated list of\", yourChoice, \"x\", compChoice, \"numbers\")\n",
    "x"
   ]
  },
  {
   "cell_type": "code",
   "execution_count": null,
   "metadata": {},
   "outputs": [],
   "source": [
    "# Other random number arrays:\n",
    "print(\" a 4D array:\")\n",
    "print(np.random.rand(2,3,4,5))"
   ]
  },
  {
   "cell_type": "markdown",
   "metadata": {},
   "source": [
    "While we have shown above that the random functions can generate arrays of data, for the rest of this notebook we will only look at single dimensional arrays."
   ]
  },
  {
   "cell_type": "markdown",
   "metadata": {},
   "source": [
    "**randn**  \n",
    "_Syntax_ :  \n",
    "np.random.randn(a, b, ....z)  \n",
    "  \n",
    "_Returns_ :  \n",
    "randn returns a randomly generated array of size specified in the the brackets, just like the rand function. Unlike the rand function, the values returned centered on 0 with the majority falling between -1 and 1. The is due to the difference between rand and randn - distribution of the random figures returned.  \n",
    "  \n",
    "With the rand function, values are returned with a uniform distribution. This means that all numbers between 0 and 1 are equally likely to be returned.  \n",
    "\n",
    "With the randn function, the returned figures follow a normalised distribution. This means that the values around the 0.5 are the most likely and increasingly less likely the further from the midpoint the value is. \n",
    "\n",
    "_Example_ :"
   ]
  },
  {
   "cell_type": "code",
   "execution_count": null,
   "metadata": {},
   "outputs": [],
   "source": [
    "# Here we are using np.random.randn based on your choice of number above\n",
    "xr = np.random.rand(yourChoice*1000)\n",
    "xn = np.random.randn(yourChoice*1000)\n",
    "plt.hist(xn, 20)\n",
    "print(\"Here xn is a randomly generated list of\", yourChoice * 1000, \"numbers ranging from\", min(xn), \"to\" , max(xn))"
   ]
  },
  {
   "cell_type": "code",
   "execution_count": null,
   "metadata": {},
   "outputs": [],
   "source": [
    "# Lets compare the two figures\n",
    "fig, (ax1, ax2) = plt.subplots(1, 2, sharey=True)\n",
    "ax1.hist(xn,20)\n",
    "ax2.hist(xr,20)\n",
    "\n",
    "# Set labels\n",
    "ax1.set_xlabel(\"Number\")\n",
    "ax2.set_xlabel(\"Number\")\n",
    "ax1.set_ylabel(\"Frequency\")\n",
    "fig.suptitle('Comparison of rand and randn', fontsize=18)\n",
    "ax1.set_title('randn',fontsize=14)\n",
    "ax2.set_title('rand',fontsize=14)\n",
    "plt.show()"
   ]
  },
  {
   "cell_type": "markdown",
   "metadata": {},
   "source": [
    "**randint**  \n",
    "_Syntax_ :  \n",
    "np.random.randint(low[, high, size, dtype])  \n",
    "  \n",
    "_Description_ :  \n",
    "Randint returns randomly generated integers. You can specify the range limit of the values returned via the low and high variables. The value returned will include the \"low\" value, but will be up to but not including the \"high\" range value. This means that if you are looking for a number between 1 and 10 you need to specify that the low is 1 and the high is 11. If no high value is specified, the low value entered in fact acts as the high value and the low value is defaulted to 0. Interestingly enough, although the output is an or multiple integers, the low and high limits may be entered as floating point numbers.  \n",
    "  \n",
    "You may also specify the shape of the integers returned. This may be a single value, a list of numbers or multidimensional arrays via the size variable. This is not a mandatory field and if not specified, it is defaulted to a single number being returned.  \n",
    "\n",
    "Finally you may also specify the datatype of the integer returned. Numpy has a variety of integer datatypes, depending on the maximum value required. int8 for example is one byte in length and is capable of holding numbers in the range -128 to 127. int16 for integers -32768 to 32767 and so on for int32, int64 and unsigned integers too. Although the documentation states that the default value if not specified is int, the tests below show that it is in fact int32.  \n",
    "\n",
    "The numbers returned are randomly selected with a uniform distribution, see below about distributon.\n",
    "\n",
    "randint was the function used to play the initial guessing game above.\n",
    "  \n",
    "_Returns_ :\t\n",
    "a \"size-shaped\" array of random integers from the appropriate distribution, or a single such random int if size not provided.  \n",
    "\n",
    "_Example_ :"
   ]
  },
  {
   "cell_type": "code",
   "execution_count": null,
   "metadata": {},
   "outputs": [],
   "source": [
    "# Here we are looking for a number between 1 and 100 inclusive (as we have chosen 101 as the high value)\n",
    "# The shape of the output will be an array of 5 integers, \n",
    "# and they will be of type int8's.\n",
    "x = np.random.randint(1, 101, 5, np.int8)\n",
    "print(x)\n",
    "print(\"Each of type:\", type(x[1]))"
   ]
  },
  {
   "cell_type": "code",
   "execution_count": null,
   "metadata": {},
   "outputs": [],
   "source": [
    "# Using floats as limits, size is defaulted to a single integer value returned.\n",
    "np.random.randint(3.2, 14.3)"
   ]
  },
  {
   "cell_type": "code",
   "execution_count": null,
   "metadata": {},
   "outputs": [],
   "source": [
    "# Here we are setting just one value of 1. \n",
    "# As there is not both a lower and an upper limit set, \n",
    "# numpy assumes the value entered is the upper limit and 0 is taken as the lower limit.\n",
    "# As the range does not include the upper limit in its output, the expect return is all 0's inthe case below.\n",
    "# You can make the size as large as you want, but max will not exceed 0.\n",
    "# The default type is also shown here too - as int32.\n",
    "\n",
    "# To show the default is taken to be the upper limit which is never reached:\n",
    "x = np.random.randint(1, size = 1000000000)\n",
    "print(f\"The minimum is {x.min()}. The maximum is {x.max(0)}.\")\n",
    "print(\"When not specified, the output is of type:\", type(x[1]))"
   ]
  },
  {
   "cell_type": "code",
   "execution_count": null,
   "metadata": {},
   "outputs": [],
   "source": [
    "# While the default type is int32 - here we are checking if that is automatically adusted to \n",
    "# take into account the range requested.\n",
    "# Here we are looking for a number between -9223372036854775800 and -1 inclusive. \n",
    "# The shape of the output will be an array of 2x4 array integers rather than a one dimensionsal array, \n",
    "# and they will be of type int64's.\n",
    "x = np.random.randint(-9223372036854775800 , 0, 10, np.int64)\n",
    "print(x)\n",
    "print(\"The output is of type:\", type(x[1]))"
   ]
  },
  {
   "cell_type": "code",
   "execution_count": null,
   "metadata": {},
   "outputs": [],
   "source": [
    "# --------- Expected Error --------\n",
    "# Let's try that again, this time without specifying the dtype:\n",
    "x = np.random.randint(-9223372036854775800 , 0, 10)\n",
    "print(x)\n",
    "print(\"The output is of type:\", type(x[1]))\n",
    "# --------- Expected Error --------"
   ]
  },
  {
   "cell_type": "markdown",
   "metadata": {},
   "source": [
    "The error thrown above shows that the size of the datatype is not dependent on the range requested and defaults to int32. This function therefore throws an error if the range exceeds the limits of the int32 datatype (-2147483648 to 2147483647).  \n",
    "\n",
    "Errors are also thrown in the high limit is lower than the low limit. This is true even when no high limit is specified if a negative number is inputted as the low variable."
   ]
  },
  {
   "cell_type": "code",
   "execution_count": null,
   "metadata": {},
   "outputs": [],
   "source": [
    "# --------- Expected Error --------\n",
    "# Here we are specifying a \"low\" of -5. \n",
    "# Due to the way in which the function handles the defaults however, \n",
    "# it assumes the entered value is the high value and defaults the low to 0.\n",
    "# That means in this instance the low is higher than the high and will throw an error.\n",
    "x = np.random.randint(-5)\n",
    "print(x)\n",
    "# --------- Expected Error --------"
   ]
  },
  {
   "cell_type": "code",
   "execution_count": null,
   "metadata": {},
   "outputs": [],
   "source": [
    "# As above but this time where the size is set to zero. \n",
    "# No error is thrown, but neither are numbers returned.\n",
    "x = np.random.randint(-5, size = 0)\n",
    "print(x)"
   ]
  },
  {
   "cell_type": "code",
   "execution_count": null,
   "metadata": {
    "scrolled": true
   },
   "outputs": [],
   "source": [
    "# Randint distribution - uniform\n",
    "x = np.random.randint(100, size = 100000)\n",
    "plt.hist(x,bins = 50)"
   ]
  },
  {
   "cell_type": "markdown",
   "metadata": {},
   "source": [
    "**random_integers**  \n",
    "\n",
    "_Syntax_ :\n",
    "random_integers(low[, high, size])\t\n",
    "\n",
    "\n",
    "**Note:**  \n",
    "The random_integers function is now deprecated. That means that this function is not recommended for use and will be withdrawn in the future. If you choose to use random_integers, your code may cease working in the future. Using the function now will result in a warning message being displayed. The randint function described above should be used instead to generate random integers. \n",
    "\n",
    "_Description_ :  \n",
    "This is an older and now deprecated function that has been replaced by randint. As such it is very similar to the randint function. The two main differences between the two functions are:\n",
    "* When specifying the limits with random_integers, the range INCLUDES both the high and low limits.\n",
    "* An int32 is always returned - you cannot specify it to be any other sort of int.\n",
    "\n",
    "_Examples_ :\n",
    "The results from the above test for randint would be the same for random_integers with the exception of the test where you specify the integer type to anything other than int32. "
   ]
  },
  {
   "cell_type": "markdown",
   "metadata": {},
   "source": [
    "**random_sample** / **random** / **ranf** / **sample**  \n",
    "_Syntax_ : random_sample([size]) / random([size]) / ranf([size]) / sample([size])   \n",
    "\n",
    "_Description_  \n",
    "random_sample may be called in numpy using a number of different aliases - \n",
    "* random_sample\n",
    "* random\n",
    "* ranf\n",
    "* sample\n",
    "\n",
    "All of the above actually call the same random_sample as shown below:"
   ]
  },
  {
   "cell_type": "code",
   "execution_count": null,
   "metadata": {},
   "outputs": [],
   "source": [
    "print(\"np.random.random_sample :\",np.random.random_sample)\n",
    "print(\"np.random.random :\",np.random.random)\n",
    "print(\"np.random.randf :\",np.random.ranf)\n",
    "print(\"np.random.sample :\",np.random.sample)"
   ]
  },
  {
   "cell_type": "markdown",
   "metadata": {},
   "source": [
    "Like rand, random_sample returns random floating point number in the range 0.0 up to but not including 1.0. The only difference between the two functions is the way you input the size of the array requested. In the rand functionit is assumed that an array is requested and you simply enter the size of each dimension of the array - a sinel number being one dimensional etc. For the random_sample if an array is wanted it myst be surrounded by additional brackets.\n",
    "\n",
    "Similarly the random_sample randomly takes values from the normal distribution.\n",
    "\n",
    "Returns:\t\n",
    "out : float or ndarray of floats\n",
    "Array of random floats of shape size (unless size=None, in which case a single float is returned)."
   ]
  },
  {
   "cell_type": "code",
   "execution_count": null,
   "metadata": {},
   "outputs": [],
   "source": [
    "print(\"random_sample:\", np.random.random_sample(5))\n",
    "print(\"rand:\",np.random.rand(5))"
   ]
  },
  {
   "cell_type": "code",
   "execution_count": null,
   "metadata": {},
   "outputs": [],
   "source": [
    "print(\"random_sample:\", np.random.random_sample((2,3)))\n",
    "print(\"rand:\",np.random.rand(2,3))"
   ]
  },
  {
   "cell_type": "markdown",
   "metadata": {},
   "source": [
    "**choice**  \n",
    "_Syntax:_\n",
    "choice(a[, size, replace, p])  \n",
    "\n",
    "_Description:_  \n",
    "Generates a random sample from a given 1-D array. Essentially this mean that it is the numpy equivalent of \"Pick a card, any card.\"  \n",
    "\n",
    "It requires a single parameter and this the list / tuple / array the selection must come from. It is possible to only put a single value in and in that scenario python will assume it to mean values from the range from 0 up to but not including a.  \n",
    "There are also three additional parameters you can specify, but these are optional. The first is the size of the return values. This is the number and shape of values you want returned. The default value is 1, where a single value is returned.\n",
    "\n",
    "You can also specify whether to replace a value after sampling too. By replacing we mean if for example you had a list containing numbers from 1 -10 and you asked to sample 5 numbers from that list. If you were to replace the number (replace parameter = true) then any number can come out every sampling opportunity, in this example up to five times. If the replace value is set to false however, once a value is chosen from the list it is not then returned to the list for the next sample. That means that you will always get five different numbers in the returned values. If not specified it is assumed that the values are to be replaced with the default replace setting being true.  \n",
    "\n",
    "Finally you may also specify the probabilities of each element in the selection list. If not specified, it is assumed a uniform distribution is used where (replacement aside) each number is equally likely to be chosen at each sample. If a specific probability is required, this must be entered in a list of the same length as the original list. The higher the value, the greater the chance of selecting the item in that list.\n",
    "\n",
    "_Returns:_  \n",
    "The generated random samples of the specified shape with the given probability.\n",
    "\n",
    "Raises:\t\n",
    "ValueError\n",
    "If a is an int and less than zero, if a or p are not 1-dimensional, if a is an array-like of size 0, if p is not a vector of probabilities, if a and p have different lengths, or if replace=False and the sample size is greater than the population size"
   ]
  },
  {
   "cell_type": "code",
   "execution_count": null,
   "metadata": {},
   "outputs": [],
   "source": [
    "# a as numbers\n",
    "a = [164,25,873,45,99,45,6452]\n",
    "print(\"a =\",a)\n",
    "print(\"Random choice from a =\",np.random.choice(a))\n",
    "print(\"Another random choice from a (of size 2) =\",np.random.choice(a,2))\n",
    "print(\"Another random choice from a (of size 2*2) =\",np.random.choice(a,(2,2)))"
   ]
  },
  {
   "cell_type": "code",
   "execution_count": null,
   "metadata": {},
   "outputs": [],
   "source": [
    "# a as a single number\n",
    "a = 10\n",
    "print(\"a =\", a)\n",
    "print(\"Random choice from a =\",np.random.choice(a))\n",
    "print(\"Another random choice from a (of size 5) =\",np.random.choice(a, 5))"
   ]
  },
  {
   "cell_type": "code",
   "execution_count": null,
   "metadata": {
    "scrolled": true
   },
   "outputs": [],
   "source": [
    "# a as strings\n",
    "a = [\"Monday\", \"Tuesday\", \"September\", \"April\", \"bananas\"]\n",
    "print(\"a =\",a)\n",
    "print(\"Random choice from a =\",np.random.choice(a))\n",
    "print(\"Another random choice from a (of size 3) =\",np.random.choice(a, 3))"
   ]
  },
  {
   "cell_type": "code",
   "execution_count": null,
   "metadata": {},
   "outputs": [],
   "source": [
    "# Skewing the results\n",
    "a = 10\n",
    "print(\"a =\", a)\n",
    "print(\"Random choice from a (of size 10, with uniform probability) =\",np.random.choice(a, 10))\n",
    "print(\"Another random choice from a (of size 10 with weighted probabilities) =\",np.random.choice(a, 10, p =[0, 0, 0.1,0,0.1, 0, 0.8, 0, 0,0]))"
   ]
  },
  {
   "cell_type": "markdown",
   "metadata": {},
   "source": [
    "**random.bytes**  \n",
    "_Syntax:_  \n",
    "np.random.bytes(length)  \n",
    "\n",
    "_Description_  \n",
    "random.bytes as the name would suggest returns a randomly generated series of bytes of the defined length. Randomly generated bytes may be used in cryptography, but not the numpy generated version as it is not cryptographically secure. See below.  \n",
    "\n",
    "It takes a single parameter, an integer that defines the number of bytes returned.  \n",
    " \n",
    "_Returns:_  \n",
    "random.bytes returns the number of bytes as requested. This is actually a series of bytes but is represented in a string like manner prefaced with a \"b\"."
   ]
  },
  {
   "cell_type": "code",
   "execution_count": null,
   "metadata": {},
   "outputs": [],
   "source": [
    "x = np.random.bytes(1)\n",
    "print(\"Returns:\",x)\n",
    "print(\"Type of x =\",type(x))"
   ]
  },
  {
   "cell_type": "code",
   "execution_count": null,
   "metadata": {},
   "outputs": [],
   "source": [
    "for i in range (1,11):\n",
    "    x = np.random.bytes(i)\n",
    "    print(\"Length =\",i ,\"Result =\", x, \"String length =\", len(x))"
   ]
  },
  {
   "cell_type": "code",
   "execution_count": null,
   "metadata": {},
   "outputs": [],
   "source": [
    "# When converted to int values - the random.bytes generate byte data in the uniform distribution\n",
    "uint16_max = np.iinfo(np.uint16).max \n",
    "k=np.frombuffer(np.random.bytes(100000),dtype=np.uint16) \n",
    "x = np.uint16((1000)*(k/float(uint16_max)))\n",
    "plt.hist(x,100)"
   ]
  },
  {
   "cell_type": "code",
   "execution_count": null,
   "metadata": {},
   "outputs": [],
   "source": [
    "%timeit np.random.randint(0,1000, 10000)"
   ]
  },
  {
   "cell_type": "code",
   "execution_count": null,
   "metadata": {},
   "outputs": [],
   "source": [
    "%timeit "
   ]
  },
  {
   "cell_type": "markdown",
   "metadata": {},
   "source": [
    "\n"
   ]
  },
  {
   "cell_type": "markdown",
   "metadata": {},
   "source": [
    "## Permutations ##"
   ]
  },
  {
   "cell_type": "markdown",
   "metadata": {},
   "source": [
    "A permutation is an arrangement of elements in a list, set, tuple or array. For example the list 1, 2, 3 could appear like this:  \n",
    "Permutation 1: 1, 2, 3.  \n",
    "Permutation 2: 1, 3, 2.  \n",
    "Permutation 3: 2, 1, 3.  \n",
    "Permutation 4: 2, 3, 1.  \n",
    "Permutation 5: 3, 1, 2.  \n",
    "Permutation 6: 3, 2, 1.  \n",
    "\n",
    "In fact the number of permutations is governed by the length of the list and is calculated by the designation n factorial represented as n! where n is the list length. This is simply a shorthand way of writing:  \n",
    "$n! = n * (n-1) * (n-2) * ... * 3 * 2 * 1$\n",
    "\n",
    "In the case of the list 1, 2, 3 above this translates to $3 * 2 * 1 = 6$ possible permutations of that list.  \n",
    "\n",
    "The concept of permutation is very important in data analytics as when applying any kind of machine learning techniques to a dataset, the original dataset is divided into training and testing datasets to fit the desired model. This division of the dataset must be done in a random manner as opposed to for example taking the first x number of rows as the data may have been entered in a specific ordered manner. Each dataset (training and testing) should be representative of the dataset in its entirety to ensure an accurate model generation and validation of that model thereafter.  \n",
    "\n",
    "There are two kinds of permutations available with numpy as shown in the table below. \n",
    "\n",
    "\n",
    "| Name           | Description                                              |\n",
    "|----------------|----------------------------------------------------------|\n",
    "| shuffle(x)     | Modify a sequence in-place by shuffling its contents.    |\n",
    "| permutation(x) | Randomly permute a sequence, or return a permuted range. |\n",
    "\n",
    "Both permutation methods work in the same way - by randomly rearranging the elements in the list. The main difference between the two is the fact that the shuffle method re-arranges the elements within the input array itself. This means that the array is then forever changed. The function shuffle itself does not return anything.  \n",
    "\n",
    "The permutation returns the rearranged array / list as a new array / list and the original array / list remains untouched. This is a very important distinction between the two. As shown below:"
   ]
  },
  {
   "cell_type": "code",
   "execution_count": null,
   "metadata": {},
   "outputs": [],
   "source": [
    "# Difference between permutation and shuffle\n",
    "x = np.arange(10)\n",
    "print(\"This is the original list:\",x)\n",
    "print(\"This is performing a permutation on the list:\",np.random.permutation(x))\n",
    "print(\"This is the list after performing the permutation:\",x)\n",
    "print(\"This is performing a shuffle:\",np.random.shuffle(x))\n",
    "print(\"This is the list after performing a shuffle:\",x)"
   ]
  },
  {
   "cell_type": "markdown",
   "metadata": {},
   "source": [
    "Both functions may take in multi-dimensional arrays. In both cases the function only shuffles the array along the first axis of a multi-dimensional array. The order of sub-arrays is changed but their contents remains the same."
   ]
  },
  {
   "cell_type": "code",
   "execution_count": null,
   "metadata": {},
   "outputs": [],
   "source": [
    "# Handling of 2-dimenstional arrays\n",
    "x = np.arange(25).reshape(5,5)\n",
    "print (\"This is the original x:\\n\",x, \"\\n\")\n",
    "print (\"This is after permuation:\\n\", np.random.permutation(x), \"\\n\")\n",
    "print (\"This is the original x:\\n\",x, \"\\n\")\n",
    "np.random.shuffle(x)\n",
    "print (\"This is after shuffle:\\n\", x, \"\\n\")\n"
   ]
  },
  {
   "cell_type": "code",
   "execution_count": null,
   "metadata": {},
   "outputs": [],
   "source": [
    "# Handling of 3-dimenstional arrays\n",
    "x = np.arange(27).reshape(3,3,3)\n",
    "print (\"This is the original x:\\n\",x, \"\\n\")\n",
    "print (\"This is after permuation:\\n\", np.random.permutation(x), \"\\n\")\n",
    "print (\"This is the original x:\\n\",x, \"\\n\")\n",
    "np.random.shuffle(x)\n",
    "print (\"This is after shuffle:\\n\", x, \"\\n\")\n"
   ]
  },
  {
   "cell_type": "markdown",
   "metadata": {},
   "source": [
    "### Distribution Functions ###\n",
    "\n",
    "A range of data can be spread out or distributed in different ways. A distribution is the pattern in which values are spread across a range. There are many patterns which they may take for example the age of children in Ireland when starting school would be likely to be where most of the children would be about 5 years old, but pretty much all the children would fall between 4 and 6. This would be called a _normal_ distribution, see below. Conversely, the population of a town would be expected to be distributed more evenly across all age ranges from newborn to old age.  \n",
    "\n",
    "The type data itself can vary. It can be discrete for example voting patterns, there are a finite number of parties that are available to vote for. Another example of discrete data is rolling of a dice - there are only six possible outcomes with each roll. In contrast to the discrete data, data may be _continuous_ instead. This is where the data may be any value n a range, for example the heights of a population.\n",
    "\n",
    "Knowing your data is key to knowing which distribution to use. \n",
    "* What kind of data would you expect?\n",
    "* Would the data be expected to centre about a particular value for example?\n",
    "* Are there defined values or is the data continuous in nature?\n",
    "* Are the time / date values to take into consideration?\n",
    "\n",
    "When you know the answers to these questions, you may chose a distribution model that best fits your needs. There are 35 different distributions available with numpy random. We shall discuss 5 distributions in particular:  \n",
    "\n",
    "1. Binomial Distribution  \n",
    "2. Normal Distribution\n",
    "3. Uniform Distribution\n",
    "4.  \n",
    "5.  "
   ]
  },
  {
   "cell_type": "markdown",
   "metadata": {},
   "source": [
    "| Dsitribution Function                        | Description                                                                                                           |\n",
    "|----------------------------------------------|-----------------------------------------------------------------------------------------------------------------------|\n",
    "| beta(a, b[, size])                           | Draw samples from a Beta distribution.                                                                                |\n",
    "| binomial(n, p[, size])                       | Draw samples from a binomial distribution.                                                                            |\n",
    "| chisquare(df[, size])                        | Draw samples from a chi-square distribution.                                                                          |\n",
    "| dirichlet(alpha[, size])                     | Draw samples from the Dirichlet distribution.                                                                         |\n",
    "| exponential([scale, size])                   | Draw samples from an exponential distribution.                                                                        |\n",
    "| f(dfnum, dfden[, size])                      | Draw samples from an F distribution.                                                                                  |\n",
    "| gamma(shape[, scale, size])                  | Draw samples from a Gamma distribution.                                                                               |\n",
    "| geometric(p[, size])                         | Draw samples from the geometric distribution.                                                                         |\n",
    "| gumbel([loc, scale, size])                   | Draw samples from a Gumbel distribution.                                                                              |\n",
    "| hypergeometric(ngood, nbad, nsample[, size]) | Draw samples from a Hypergeometric distribution.                                                                      |\n",
    "| laplace([loc, scale, size])                  | Draw samples from the Laplace or double exponential distribution with specified location (or mean) and scale (decay). |\n",
    "| logistic([loc, scale, size])                 | Draw samples from a logistic distribution.                                                                            |\n",
    "| lognormal([mean, sigma, size])               | Draw samples from a log-normal distribution.                                                                          |\n",
    "| logseries(p[, size])                         | Draw samples from a logarithmic series distribution.                                                                  |\n",
    "| multinomial(n, pvals[, size])                | Draw samples from a multinomial distribution.                                                                         |\n",
    "| multivariate_normal(mean, cov[, size, ...)   | Draw random samples from a multivariate normal distribution.                                                          |\n",
    "| negative_binomial(n, p[, size])              | Draw samples from a negative binomial distribution.                                                                   |\n",
    "| noncentral_chisquare(df, nonc[, size])       | Draw samples from a noncentral chi-square distribution.                                                               |\n",
    "| noncentral_f(dfnum, dfden, nonc[, size])     | Draw samples from the noncentral F distribution.                                                                      |\n",
    "| normal([loc, scale, size])                   | Draw random samples from a normal (Gaussian) distribution.                                                            |\n",
    "| pareto(a[, size])                            | Draw samples from a Pareto II or Lomax distribution with specified shape.                                             |\n",
    "| poisson([lam, size])                         | Draw samples from a Poisson distribution.                                                                             |\n",
    "| power(a[, size])                             | Draws samples in [0, 1] from a power distribution with positive exponent a - 1.                                       |\n",
    "| rayleigh([scale, size])                      | Draw samples from a Rayleigh distribution.                                                                            |\n",
    "| standard_cauchy([size])                      | Draw samples from a standard Cauchy distribution with mode = 0.                                                       |\n",
    "| standard_exponential([size])                 | Draw samples from the standard exponential distribution.                                                              |\n",
    "| standard_gamma(shape[, size])                | Draw samples from a standard Gamma distribution.                                                                      |\n",
    "| standard_normal([size])                      | Draw samples from a standard Normal distribution (mean=0, stdev=1).                                                   |\n",
    "| standard_t(df[, size])                       | Draw samples from a standard Student’s t distribution with df degrees of freedom.                                     |\n",
    "| triangular(left, mode, right[, size])        | Draw samples from the triangular distribution over the interval [left, right].                                        |\n",
    "| uniform([low, high, size])                   | Draw samples from a uniform distribution.                                                                             |\n",
    "| vonmises(mu, kappa[, size])                  | Draw samples from a von Mises distribution.                                                                           |\n",
    "| wald(mean, scale[, size])                    | Draw samples from a Wald, or inverse Gaussian, distribution.                                                          |\n",
    "| weibull(a[, size])                           | Draw samples from a Weibull distribution.                                                                             |\n",
    "| zipf(a[, size])                              | Draw samples from a Zipf distribution.                                                                                |"
   ]
  },
  {
   "cell_type": "markdown",
   "metadata": {},
   "source": [
    "**1. Distribution Function 1 - Binomial Distribution**  \n",
    "Binomial Distribution, as the \"bi-\" part of the name suggests concerns only two possible results. Consider for example a toss of a coin, there are two possible outcomes - heads or tails. In this case (assuming the coin is not weighted), the two outcomes are equally likely. It could however be whether a candidate in an election of 5 candidates is voted in or not. Campaigning, policies, track-records etc aside, the probability of any one of the candidates being elected is 1 in 5 and not being elected in 4/5.  \n",
    "\n",
    "Take for example tossing a coin three times. These are the outcomes\n",
    "\n",
    "1. Heads - Heads - Heads = 3H; 0T  \n",
    "2. Heads - Heads - Tails = 2H; 1T  \n",
    "3. Heads - Tails - Heads = 2H; 1T  \n",
    "4. Heads - Tails - Tails = 1H; 2T  \n",
    "5. Tails - Heads - Heads = 2H; 1T  \n",
    "6. Tails - Heads - Tails = 1H; 2T  \n",
    "7. Tails - Tails - Heads = 1H; 2T  \n",
    "8. Tails - Tails - Tails = 0H; 3T  \n",
    "\n",
    "Each of these outcomes is as likely as each other giving a probability of 1/8 for each. If the order did not matter however, we can see there are only four possible combinations:  \n",
    "* 3 Heads & 0 Tails (1/8 chance)\n",
    "* 2 Heads & 1 Tail (3/8 chance)\n",
    "* 1 Head & 2 Tails (3/8 chance)\n",
    "* 0 Heads & 3 Tails (1/8 chance)\n",
    "\n",
    "If we plotted this out it would look like this:"
   ]
  },
  {
   "cell_type": "code",
   "execution_count": null,
   "metadata": {},
   "outputs": [],
   "source": [
    "plt.hist(1,3,3,1)"
   ]
  },
  {
   "cell_type": "markdown",
   "metadata": {},
   "source": [
    "**2. Distribution Function 2  - Normal or Gaussian Distribution**"
   ]
  },
  {
   "cell_type": "markdown",
   "metadata": {},
   "source": [
    "**3. Distribution Function 3 - Uniform Distribution**"
   ]
  },
  {
   "cell_type": "markdown",
   "metadata": {},
   "source": [
    "**4. Distribution Function 4**"
   ]
  },
  {
   "cell_type": "markdown",
   "metadata": {},
   "source": [
    "**5. Distribution Function 5**"
   ]
  },
  {
   "cell_type": "markdown",
   "metadata": {},
   "source": [
    "### Seeds ###"
   ]
  },
  {
   "cell_type": "markdown",
   "metadata": {},
   "source": [
    "While the name suggests that the output of numpy.random is random, it is however pseudorandom in nature, meaning that data / functions generated from this library element has all the appearance of randomness, but in fact is generated in a specific deterministic manner. This via a pseudorandom number generator (PRNG) and for all intents and purposes is fully sufficient for all our data analytics (and many other) needs.  \n",
    "\n",
    "The whole randomness generation is based on two components:\n",
    "* **_BitGenerators_**: Objects that generate random numbers. These are typically unsigned integer words filled with sequences of either 32 or 64 random bits.\n",
    "* **_Generators_**: Objects that transform sequences of random bits from a BitGenerator into sequences of numbers that follow a specific probability distribution (such as uniform, Normal or Binomial) within a specified interval.\n",
    "    "
   ]
  },
  {
   "cell_type": "markdown",
   "metadata": {},
   "source": [
    "## References ##\n",
    "1. NumPy Site http://www.numpy.org/\n",
    "2. Project Jupyter http://jupyter.org/  \n",
    "3. NumPy Wikipedia Page https://en.wikipedia.org/wiki/NumPy  \n",
    "4. Python for Data Analysis Book  \n",
    "5. https://docs.scipy.org/doc/numpy-1.14.0/reference/routines.random.html  \n",
    "6. https://realpython.com/python-random/  \n",
    "7. https://stackoverflow.com/questions/18829185/difference-between-various-numpy-random-functions  \n",
    "8. https://www.sharpsightlabs.com/blog/numpy-random-choice/  \n",
    "9. https://www.reddit.com/r/Python/comments/jn0bb/randomrandint_vs_randomrandom_why_is_one_15x/  \n",
    "10. \n"
   ]
  },
  {
   "cell_type": "code",
   "execution_count": null,
   "metadata": {},
   "outputs": [],
   "source": []
  }
 ],
 "metadata": {
  "kernelspec": {
   "display_name": "Python 3",
   "language": "python",
   "name": "python3"
  },
  "language_info": {
   "codemirror_mode": {
    "name": "ipython",
    "version": 3
   },
   "file_extension": ".py",
   "mimetype": "text/x-python",
   "name": "python",
   "nbconvert_exporter": "python",
   "pygments_lexer": "ipython3",
   "version": "3.7.3"
  }
 },
 "nbformat": 4,
 "nbformat_minor": 2
}
