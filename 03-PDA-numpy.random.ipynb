{
 "cells": [
  {
   "cell_type": "markdown",
   "metadata": {},
   "source": [
    "<img align=\"left\" src=\"images/GMIT-logo.png\" alt=\"GMIT\" width=\"220\"/>                                                      <img align=\"right\" src=\"images/data-analytics.png\" alt=\"HDipDA\" width=\"250\"/>  \n",
    "\n",
    "# <center>Programming for Data Analysis 2019 Assignment: numpy.random</center>  #"
   ]
  },
  {
   "cell_type": "markdown",
   "metadata": {},
   "source": [
    "***\n",
    "**Module Name**: Programming for Data Analysis  \n",
    "**Module Number**: 52465  \n",
    "**Student Name**: Yvonne Brady  \n",
    "**Student ID**: G00376355  \n",
    "***"
   ]
  },
  {
   "cell_type": "markdown",
   "metadata": {},
   "source": [
    "**Problem statement**\n",
    "The following assignment concerns the numpy.random package in Python. You are\n",
    "required to create a Jupyter notebook explaining the use of the package, including\n",
    "detailed explanations of at least five of the distributions provided for in the package.\n",
    "There are four distinct tasks to be carried out in your Jupyter notebook.\n",
    "1. Explain the overall purpose of the package.\n",
    "2. Explain the use of the “Simple random data” and “Permutations” functions.\n",
    "3. Explain the use and purpose of at least five “Distributions” functions.\n",
    "4. Explain the use of seeds in generating pseudorandom numbers."
   ]
  },
  {
   "cell_type": "markdown",
   "metadata": {},
   "source": [
    "## Introduction ##\n",
    "This assignment is completed in part fulfillment of the Programming for Data Analysis module of the Higher Diploma in Data Analytics awarded in GMIT. The goal of this assignment is to explain in lay terms the importance and use of the Python package NumPy, with particular focus on numpy.random."
   ]
  },
  {
   "cell_type": "markdown",
   "metadata": {},
   "source": [
    "## Purpose of NumPy ##\n",
    "Numpy is one of the core packages used in data analytics on the Python platform. It comprises a series of functions and methods that allow for easier data storage, retrieval and manipulation. It is centered on arrays, which are in essence what each dataset is made up of.  \n",
    "\n",
    "NumPy has been around since 2005, when Travis Oliphant managed to merge the previously two competing numerical packagesin Python, Numeric and NumArray,  into one package, NumPy. It is a contraction of the phrease Numerical Python and is the basis of most if not all Python packages with scientific functionality.  \n",
    "  \n",
    "Some of the main parts of NumPy include:  \n",
    "* ndarray - a multidimensional array  \n",
    "* functions - that perform mathematical operations quickly and efficiently. \n",
    "\n",
    "NumPy library of algorithms is written in the C language, a compiled rather than interpreted language which allows faster processing times. Its operations make it possible to perform complex calculations on entire arrays without the need for looping through each element in Python. NumPy algorithms are generally at least 10 to 100 times faster than their Python scripted alternatives.\n",
    "\n",
    "NumPy is an external package that must be imported into python for use. Convention has it that it is imported as \"np\". Each numpy function etc can then be called by prefacing it with np."
   ]
  },
  {
   "cell_type": "code",
   "execution_count": 1,
   "metadata": {},
   "outputs": [],
   "source": [
    "%matplotlib inline\n",
    "import numpy as np # Importing the NumPy library\n",
    "import matplotlib.pyplot as plt # Importing matplotlib for plotting\n",
    "plt.rcParams['figure.figsize'] = [20, 10] # Setting the plot size"
   ]
  },
  {
   "cell_type": "markdown",
   "metadata": {},
   "source": [
    "### Purpose of numpy.random ##\n",
    "numpy.random is the source of \"randomness\" in python. Whenever you need random data, be it random numbers, random sample of data, random placement of known values in an array, numpy.random provides all this functionality and more.  \n",
    "\n",
    "Random numbers are often used to generate random series of numbers, for testing programs in various scenarios, for random sampling of datasets, for many games, gamblings, for determination of probabilities of risks etc. One such sample is given below in the simple game below:"
   ]
  },
  {
   "cell_type": "code",
   "execution_count": 2,
   "metadata": {},
   "outputs": [
    {
     "name": "stdout",
     "output_type": "stream",
     "text": [
      "Pick a number between 1 and 10: 3\n"
     ]
    }
   ],
   "source": [
    "# Generate a random integer between 1 and 10\n",
    "compChoice = np.random.randint(1,11)\n",
    "# Ask the player to pick a number\n",
    "yourChoice = int(input(\"Pick a number between 1 and 10: \"))"
   ]
  },
  {
   "cell_type": "code",
   "execution_count": 3,
   "metadata": {},
   "outputs": [
    {
     "name": "stdout",
     "output_type": "stream",
     "text": [
      "Hard luck. You guessed 3 and I picked 9\n"
     ]
    }
   ],
   "source": [
    "if compChoice == yourChoice:\n",
    "    # If the player guessed right, tell them\n",
    "    print(\"Congrats - you guessed\", yourChoice, \"and I picked\", compChoice)\n",
    "else:\n",
    "    # If the player guessed incorrectly, tell them too\n",
    "    print(\"Hard luck. You guessed\", yourChoice, \"and I picked\", compChoice)"
   ]
  },
  {
   "cell_type": "markdown",
   "metadata": {},
   "source": [
    "There are a number of functions available to generate simple random data as shown in Table 1 below. We will have a look at each of these in turn."
   ]
  },
  {
   "cell_type": "markdown",
   "metadata": {},
   "source": [
    "| Function                           \t| Use                                                                   \t|\n",
    "|------------------------------------\t|-----------------------------------------------------------------------\t|\n",
    "| rand(d0, d1, …, dn)                \t| Random values in a given shape.                                       \t|\n",
    "| randn(d0, d1, …, dn)               \t| Return a sample (or samples) from the “standard normal” distribution. \t|\n",
    "| randint(low[, high, size, dtype])  \t| Return random integers from low (inclusive) to high (exclusive).      \t|\n",
    "| random_integers(low[, high, size]) \t| Random integers of type np.int between low and high, inclusive.       \t|\n",
    "| random_sample([size])              \t| Return random floats in the half-open interval [0.0, 1.0).            \t|\n",
    "| random([size])                     \t| Return random floats in the half-open interval [0.0, 1.0).            \t|\n",
    "| ranf([size])                       \t| Return random floats in the half-open interval [0.0, 1.0).            \t|\n",
    "| sample([size])                     \t| Return random floats in the half-open interval [0.0, 1.0).            \t|\n",
    "| choice(a[, size, replace, p])      \t| Generates a random sample from a given 1-D array                      \t|\n",
    "| bytes(length)                      \t| Return random bytes.                                                  \t|\n",
    "  \n",
    "**<center>Table 1: Simple Random Data</center>**"
   ]
  },
  {
   "cell_type": "markdown",
   "metadata": {},
   "source": [
    "**rand**  \n",
    "_Syntax_ :  \n",
    "np.random.rand(a, b, ....z)  \n",
    "  \n",
    "_Returns_ :  \n",
    "Rand returns a randomly generated array of size specified in the the brackets, for example if only one number was specified it would return that many numbers in a list. All the numbers returned are between 0 and 1.  \n",
    "The numbers returned are randomly selected with a uniform distribution, see below about distributon\n",
    "  \n",
    "_Example_ :"
   ]
  },
  {
   "cell_type": "code",
   "execution_count": 4,
   "metadata": {},
   "outputs": [
    {
     "name": "stdout",
     "output_type": "stream",
     "text": [
      "Here x is a randomly generated list of 3000 numbers ranging from 0.0006494260100667892 to 0.9991557590046071\n"
     ]
    },
    {
     "data": {
      "image/png": "[encoded data removed]",
      "text/plain": [
       "<Figure size 720x432 with 1 Axes>"
      ]
     },
     "metadata": {
      "needs_background": "light"
     },
     "output_type": "display_data"
    }
   ],
   "source": [
    "# Here we are using np.random.rand based on your choice of number above\n",
    "x = np.random.rand(yourChoice*1000)\n",
    "plt.rcParams['figure.figsize'] = [10, 6] # Setting the plot size\n",
    "plt.hist(x, 20)\n",
    "print(\"Here x is a randomly generated list of\", yourChoice * 1000, \"numbers ranging from\", min(x), \"to\" , max(x))"
   ]
  },
  {
   "cell_type": "code",
   "execution_count": 5,
   "metadata": {},
   "outputs": [
    {
     "name": "stdout",
     "output_type": "stream",
     "text": [
      "Here x is a randomly generated list of 3 x 9 numbers\n"
     ]
    },
    {
     "data": {
      "text/plain": [
       "array([[0.21392239, 0.01815725, 0.52738772, 0.92624313, 0.66755824,\n",
       "        0.57961847, 0.26696981, 0.10711177, 0.40225604],\n",
       "       [0.33385527, 0.42686267, 0.08816319, 0.49135167, 0.71988489,\n",
       "        0.92100512, 0.55961724, 0.44550557, 0.4171404 ],\n",
       "       [0.78935017, 0.24155481, 0.34848881, 0.39037776, 0.3161755 ,\n",
       "        0.04519661, 0.22156235, 0.60858572, 0.45773624]])"
      ]
     },
     "execution_count": 5,
     "metadata": {},
     "output_type": "execute_result"
    },
    {
     "data": {
      "image/png": "[encoded data removed]",
      "text/plain": [
       "<Figure size 720x432 with 1 Axes>"
      ]
     },
     "metadata": {
      "needs_background": "light"
     },
     "output_type": "display_data"
    }
   ],
   "source": [
    "# Here we are using np.random.rand based on an array of size chosn by the game above.\n",
    "x = np.random.rand(yourChoice, compChoice)\n",
    "plt.hist(x, 20)\n",
    "print(\"Here x is a randomly generated list of\", yourChoice, \"x\", compChoice, \"numbers\")\n",
    "x"
   ]
  },
  {
   "cell_type": "code",
   "execution_count": 6,
   "metadata": {},
   "outputs": [
    {
     "name": "stdout",
     "output_type": "stream",
     "text": [
      " a 4D array:\n",
      "[[[[0.48248348 0.99640089 0.47051812 0.21891391 0.43974617]\n",
      "   [0.48051344 0.60063308 0.63069023 0.30262791 0.33861762]\n",
      "   [0.35857292 0.44171861 0.53054587 0.50723521 0.98389601]\n",
      "   [0.62745676 0.32222554 0.09885925 0.23060401 0.352298  ]]\n",
      "\n",
      "  [[0.52616405 0.29286414 0.50834012 0.12542661 0.30364973]\n",
      "   [0.09133142 0.39130939 0.56619023 0.40021692 0.12660598]\n",
      "   [0.50595287 0.52096977 0.32908765 0.90025125 0.87815075]\n",
      "   [0.80788114 0.86502085 0.08254851 0.55226511 0.57090823]]\n",
      "\n",
      "  [[0.99416752 0.03382689 0.82779789 0.70327044 0.11887485]\n",
      "   [0.62177518 0.77083099 0.48669588 0.85101591 0.55534971]\n",
      "   [0.41435007 0.05374752 0.17840749 0.97254357 0.71794353]\n",
      "   [0.6667502  0.68960174 0.31770289 0.24429844 0.69808174]]]\n",
      "\n",
      "\n",
      " [[[0.18995229 0.0990868  0.52873661 0.57915043 0.20427793]\n",
      "   [0.71711443 0.72896689 0.68293311 0.29547847 0.01034583]\n",
      "   [0.6119563  0.57641614 0.73400866 0.44807476 0.03062061]\n",
      "   [0.94500817 0.48520468 0.31350697 0.44412824 0.2809972 ]]\n",
      "\n",
      "  [[0.13961357 0.5895294  0.34001229 0.95262252 0.58478621]\n",
      "   [0.55343903 0.60786527 0.29045077 0.98051517 0.89516396]\n",
      "   [0.39627725 0.3811415  0.77441303 0.36274915 0.07212822]\n",
      "   [0.25664241 0.22061965 0.05483792 0.8122827  0.84507976]]\n",
      "\n",
      "  [[0.8458067  0.34307734 0.38667578 0.099235   0.1324275 ]\n",
      "   [0.52117814 0.49335224 0.50699069 0.31655702 0.38230108]\n",
      "   [0.04211482 0.03796244 0.57282656 0.20901089 0.13207757]\n",
      "   [0.92438347 0.19146264 0.89078959 0.93556787 0.07789234]]]]\n"
     ]
    }
   ],
   "source": [
    "# Other random number arrays:\n",
    "print(\" a 4D array:\")\n",
    "print(np.random.rand(2,3,4,5))"
   ]
  },
  {
   "cell_type": "markdown",
   "metadata": {},
   "source": [
    "While we have shown above that the random functions can generate arrays of data, for the rest of this notebook we will only look at single dimensional arrays."
   ]
  },
  {
   "cell_type": "markdown",
   "metadata": {},
   "source": [
    "**randn**  \n",
    "_Syntax_ :  \n",
    "np.random.randn(a, b, ....z)  \n",
    "  \n",
    "_Returns_ :  \n",
    "randn returns a randomly generated array of size specified in the the brackets, just like the rand function. Unlike the rand function, the values returned centered on 0 with the majority falling between -1 and 1. The is due to the difference between rand and randn - distribution of the random figures returned.  \n",
    "  \n",
    "With the rand function, values are returned with a uniform distribution. This means that all numbers between 0 and 1 are equally likely to be returned.  \n",
    "\n",
    "With the randn function, the returned figures follow a normalised distribution. This means that the values around the 0.5 are the most likely and increasingly less likely the further from the midpoint the value is. \n",
    "\n",
    "_Example_ :"
   ]
  },
  {
   "cell_type": "code",
   "execution_count": 7,
   "metadata": {},
   "outputs": [
    {
     "name": "stdout",
     "output_type": "stream",
     "text": [
      "Here xn is a randomly generated list of 3000 numbers ranging from -3.2158259029557437 to 3.029338377952973\n"
     ]
    },
    {
     "data": {
      "image/png": "[encoded data removed]",
      "text/plain": [
       "<Figure size 720x432 with 1 Axes>"
      ]
     },
     "metadata": {
      "needs_background": "light"
     },
     "output_type": "display_data"
    }
   ],
   "source": [
    "# Here we are using np.random.randn based on your choice of number above\n",
    "xr = np.random.rand(yourChoice*1000)\n",
    "xn = np.random.randn(yourChoice*1000)\n",
    "plt.hist(xn, 20)\n",
    "print(\"Here xn is a randomly generated list of\", yourChoice * 1000, \"numbers ranging from\", min(xn), \"to\" , max(xn))"
   ]
  },
  {
   "cell_type": "code",
   "execution_count": 8,
   "metadata": {},
   "outputs": [
    {
     "data": {
      "image/png": "[encoded data removed]",
      "text/plain": [
       "<Figure size 720x432 with 2 Axes>"
      ]
     },
     "metadata": {
      "needs_background": "light"
     },
     "output_type": "display_data"
    }
   ],
   "source": [
    "# Lets compare the two figures\n",
    "fig, (ax1, ax2) = plt.subplots(1, 2, sharey=True)\n",
    "ax1.hist(xn,20)\n",
    "ax2.hist(xr,20)\n",
    "\n",
    "# Set labels\n",
    "ax1.set_xlabel(\"Number\")\n",
    "ax2.set_xlabel(\"Number\")\n",
    "ax1.set_ylabel(\"Frequency\")\n",
    "fig.suptitle('Comparison of rand and randn', fontsize=18)\n",
    "ax1.set_title('randn',fontsize=14)\n",
    "ax2.set_title('rand',fontsize=14)\n",
    "plt.show()"
   ]
  },
  {
   "cell_type": "markdown",
   "metadata": {},
   "source": [
    "**randint**  \n",
    "_Syntax_ :  \n",
    "np.random.randint(low[, high, size, dtype])  \n",
    "  \n",
    "_Description_ :  \n",
    "Randint returns randomly generated integers. You can specify the range limit of the values returned via the low and high variables. The value returned will include the \"low\" value, but will be up to but not including the \"high\" range value. This means that if you are looking for a number between 1 and 10 you need to specify that the low is 1 and the high is 11. If no high value is specified, the low value entered in fact acts as the high value and the low value is defaulted to 0. Interestingly enough, although the output is an or multiple integers, the low and high limits may be entered as floating point numbers.  \n",
    "  \n",
    "You may also specify the shape of the integers returned. This may be a single value, a list of numbers or multidimensional arrays via the size variable. This is not a mandatory field and if not specified, it is defaulted to a single number being returned.  \n",
    "\n",
    "Finally you may also specify the datatype of the integer returned. Numpy has a variety of integer datatypes, depending on the maximum value required. int8 for example is one byte in length and is capable of holding numbers in the range -128 to 127. int16 for integers -32768 to 32767 and so on for int32, int64 and unsigned integers too. Although the documentation states that the default value if not specified is int, the tests below show that it is in fact int32.  \n",
    "\n",
    "The numbers returned are randomly selected with a uniform distribution, see below about distributon.\n",
    "\n",
    "randint was the function used to play the initial guessing game above.\n",
    "  \n",
    "_Returns_ :\t\n",
    "a \"size-shaped\" array of random integers from the appropriate distribution, or a single such random int if size not provided.  \n",
    "\n",
    "_Example_ :"
   ]
  },
  {
   "cell_type": "code",
   "execution_count": 9,
   "metadata": {},
   "outputs": [
    {
     "name": "stdout",
     "output_type": "stream",
     "text": [
      "[74 16 95 16  1]\n",
      "Each of type: <class 'numpy.int8'>\n"
     ]
    }
   ],
   "source": [
    "# Here we are looking for a number between 1 and 100 inclusive (as we have chosen 101 as the high value)\n",
    "# The shape of the output will be an array of 5 integers, \n",
    "# and they will be of type int8's.\n",
    "x = np.random.randint(1, 101, 5, np.int8)\n",
    "print(x)\n",
    "print(\"Each of type:\", type(x[1]))"
   ]
  },
  {
   "cell_type": "code",
   "execution_count": 10,
   "metadata": {},
   "outputs": [
    {
     "data": {
      "text/plain": [
       "5"
      ]
     },
     "execution_count": 10,
     "metadata": {},
     "output_type": "execute_result"
    }
   ],
   "source": [
    "# Using floats as limits, size is defaulted to a single integer value returned.\n",
    "np.random.randint(3.2, 14.3)"
   ]
  },
  {
   "cell_type": "code",
   "execution_count": 11,
   "metadata": {},
   "outputs": [
    {
     "name": "stdout",
     "output_type": "stream",
     "text": [
      "The minimum is 0. The maximum is 0.\n",
      "When not specified, the output is of type: <class 'numpy.int32'>\n"
     ]
    }
   ],
   "source": [
    "# Here we are setting just one value of 1. \n",
    "# As there is not both a lower and an upper limit set, \n",
    "# numpy assumes the value entered is the upper limit and 0 is taken as the lower limit.\n",
    "# As the range does not include the upper limit in its output, the expect return is all 0's inthe case below.\n",
    "# You can make the size as large as you want, but max will not exceed 0.\n",
    "# The default type is also shown here too - as int32.\n",
    "\n",
    "# To show the default is taken to be the upper limit which is never reached:\n",
    "x = np.random.randint(1, size = 1000000000)\n",
    "print(f\"The minimum is {x.min()}. The maximum is {x.max(0)}.\")\n",
    "print(\"When not specified, the output is of type:\", type(x[1]))"
   ]
  },
  {
   "cell_type": "code",
   "execution_count": 12,
   "metadata": {},
   "outputs": [
    {
     "name": "stdout",
     "output_type": "stream",
     "text": [
      "[-3297258514994415083 -4015671069139073550 -6431636131788611459\n",
      " -6772202031560146888 -3671190050396656744 -8739624250381538608\n",
      " -8079985279535133882 -3259443016705628684 -6129874077453692223\n",
      " -4158868876384222615]\n",
      "The output is of type: <class 'numpy.int64'>\n"
     ]
    }
   ],
   "source": [
    "# While the default type is int32 - here we are checking if that is automatically adusted to \n",
    "# take into account the range requested.\n",
    "# Here we are looking for a number between -9223372036854775800 and -1 inclusive. \n",
    "# The shape of the output will be an array of 2x4 array integers rather than a one dimensionsal array, \n",
    "# and they will be of type int64's.\n",
    "x = np.random.randint(-9223372036854775800 , 0, 10, np.int64)\n",
    "print(x)\n",
    "print(\"The output is of type:\", type(x[1]))"
   ]
  },
  {
   "cell_type": "code",
   "execution_count": 13,
   "metadata": {},
   "outputs": [
    {
     "ename": "ValueError",
     "evalue": "low is out of bounds for int32",
     "output_type": "error",
     "traceback": [
      "\u001b[1;31m---------------------------------------------------------------------------\u001b[0m",
      "\u001b[1;31mValueError\u001b[0m                                Traceback (most recent call last)",
      "\u001b[1;32m<ipython-input-13-fe3fb4e9a8fe>\u001b[0m in \u001b[0;36m<module>\u001b[1;34m\u001b[0m\n\u001b[0;32m      1\u001b[0m \u001b[1;31m# --------- Expected Error --------\u001b[0m\u001b[1;33m\u001b[0m\u001b[1;33m\u001b[0m\u001b[1;33m\u001b[0m\u001b[0m\n\u001b[0;32m      2\u001b[0m \u001b[1;31m# Let's try that again, this time without specifying the dtype:\u001b[0m\u001b[1;33m\u001b[0m\u001b[1;33m\u001b[0m\u001b[1;33m\u001b[0m\u001b[0m\n\u001b[1;32m----> 3\u001b[1;33m \u001b[0mx\u001b[0m \u001b[1;33m=\u001b[0m \u001b[0mnp\u001b[0m\u001b[1;33m.\u001b[0m\u001b[0mrandom\u001b[0m\u001b[1;33m.\u001b[0m\u001b[0mrandint\u001b[0m\u001b[1;33m(\u001b[0m\u001b[1;33m-\u001b[0m\u001b[1;36m9223372036854775800\u001b[0m \u001b[1;33m,\u001b[0m \u001b[1;36m0\u001b[0m\u001b[1;33m,\u001b[0m \u001b[1;36m10\u001b[0m\u001b[1;33m)\u001b[0m\u001b[1;33m\u001b[0m\u001b[1;33m\u001b[0m\u001b[0m\n\u001b[0m\u001b[0;32m      4\u001b[0m \u001b[0mprint\u001b[0m\u001b[1;33m(\u001b[0m\u001b[0mx\u001b[0m\u001b[1;33m)\u001b[0m\u001b[1;33m\u001b[0m\u001b[1;33m\u001b[0m\u001b[0m\n\u001b[0;32m      5\u001b[0m \u001b[0mprint\u001b[0m\u001b[1;33m(\u001b[0m\u001b[1;34m\"The output is of type:\"\u001b[0m\u001b[1;33m,\u001b[0m \u001b[0mtype\u001b[0m\u001b[1;33m(\u001b[0m\u001b[0mx\u001b[0m\u001b[1;33m[\u001b[0m\u001b[1;36m1\u001b[0m\u001b[1;33m]\u001b[0m\u001b[1;33m)\u001b[0m\u001b[1;33m)\u001b[0m\u001b[1;33m\u001b[0m\u001b[1;33m\u001b[0m\u001b[0m\n",
      "\u001b[1;32mmtrand.pyx\u001b[0m in \u001b[0;36mmtrand.RandomState.randint\u001b[1;34m()\u001b[0m\n",
      "\u001b[1;31mValueError\u001b[0m: low is out of bounds for int32"
     ]
    }
   ],
   "source": [
    "# --------- Expected Error --------\n",
    "# Let's try that again, this time without specifying the dtype:\n",
    "x = np.random.randint(-9223372036854775800 , 0, 10)\n",
    "print(x)\n",
    "print(\"The output is of type:\", type(x[1]))\n",
    "# --------- Expected Error --------"
   ]
  },
  {
   "cell_type": "markdown",
   "metadata": {},
   "source": [
    "The error thrown above shows that the size of the datatype is not dependent on the range requested and defaults to int32. This function therefore throws an error if the range exceeds the limits of the int32 datatype (-2147483648 to 2147483647).  \n",
    "\n",
    "Errors are also thrown in the high limit is lower than the low limit. This is true even when no high limit is specified if a negative number is inputted as the low variable."
   ]
  },
  {
   "cell_type": "code",
   "execution_count": 14,
   "metadata": {},
   "outputs": [
    {
     "ename": "ValueError",
     "evalue": "Range cannot be empty (low >= high) unless no samples are taken",
     "output_type": "error",
     "traceback": [
      "\u001b[1;31m---------------------------------------------------------------------------\u001b[0m",
      "\u001b[1;31mValueError\u001b[0m                                Traceback (most recent call last)",
      "\u001b[1;32m<ipython-input-14-4c82d00f1bbe>\u001b[0m in \u001b[0;36m<module>\u001b[1;34m\u001b[0m\n\u001b[0;32m      4\u001b[0m \u001b[1;31m# it assumes the entered value is the high value and defaults the low to 0.\u001b[0m\u001b[1;33m\u001b[0m\u001b[1;33m\u001b[0m\u001b[1;33m\u001b[0m\u001b[0m\n\u001b[0;32m      5\u001b[0m \u001b[1;31m# That means in this instance the low is higher than the high and will throw an error.\u001b[0m\u001b[1;33m\u001b[0m\u001b[1;33m\u001b[0m\u001b[1;33m\u001b[0m\u001b[0m\n\u001b[1;32m----> 6\u001b[1;33m \u001b[0mx\u001b[0m \u001b[1;33m=\u001b[0m \u001b[0mnp\u001b[0m\u001b[1;33m.\u001b[0m\u001b[0mrandom\u001b[0m\u001b[1;33m.\u001b[0m\u001b[0mrandint\u001b[0m\u001b[1;33m(\u001b[0m\u001b[1;33m-\u001b[0m\u001b[1;36m5\u001b[0m\u001b[1;33m)\u001b[0m\u001b[1;33m\u001b[0m\u001b[1;33m\u001b[0m\u001b[0m\n\u001b[0m\u001b[0;32m      7\u001b[0m \u001b[0mprint\u001b[0m\u001b[1;33m(\u001b[0m\u001b[0mx\u001b[0m\u001b[1;33m)\u001b[0m\u001b[1;33m\u001b[0m\u001b[1;33m\u001b[0m\u001b[0m\n\u001b[0;32m      8\u001b[0m \u001b[1;31m# --------- Expected Error --------\u001b[0m\u001b[1;33m\u001b[0m\u001b[1;33m\u001b[0m\u001b[1;33m\u001b[0m\u001b[0m\n",
      "\u001b[1;32mmtrand.pyx\u001b[0m in \u001b[0;36mmtrand.RandomState.randint\u001b[1;34m()\u001b[0m\n",
      "\u001b[1;31mValueError\u001b[0m: Range cannot be empty (low >= high) unless no samples are taken"
     ]
    }
   ],
   "source": [
    "# --------- Expected Error --------\n",
    "# Here we are specifying a \"low\" of -5. \n",
    "# Due to the way in which the function handles the defaults however, \n",
    "# it assumes the entered value is the high value and defaults the low to 0.\n",
    "# That means in this instance the low is higher than the high and will throw an error.\n",
    "x = np.random.randint(-5)\n",
    "print(x)\n",
    "# --------- Expected Error --------"
   ]
  },
  {
   "cell_type": "code",
   "execution_count": 15,
   "metadata": {},
   "outputs": [
    {
     "name": "stdout",
     "output_type": "stream",
     "text": [
      "[]\n"
     ]
    }
   ],
   "source": [
    "# As above but this time where the size is set to zero. \n",
    "# No error is thrown, but neither are numbers returned.\n",
    "x = np.random.randint(-5, size = 0)\n",
    "print(x)"
   ]
  },
  {
   "cell_type": "code",
   "execution_count": 16,
   "metadata": {
    "scrolled": true
   },
   "outputs": [
    {
     "data": {
      "text/plain": [
       "(array([1998., 2003., 2085., 1980., 2122., 2022., 1938., 2030., 2062.,\n",
       "        1914., 1919., 1947., 2000., 2055., 1995., 1949., 2011., 1995.,\n",
       "        2006., 2046., 1996., 2033., 1927., 2053., 2011., 2008., 1976.,\n",
       "        1893., 1911., 1960., 2013., 1962., 2039., 1910., 1915., 2028.,\n",
       "        1987., 1958., 2015., 1994., 1991., 2033., 2012., 2065., 2110.,\n",
       "        2059., 2034., 1980., 2041., 2009.]),\n",
       " array([ 0.  ,  1.98,  3.96,  5.94,  7.92,  9.9 , 11.88, 13.86, 15.84,\n",
       "        17.82, 19.8 , 21.78, 23.76, 25.74, 27.72, 29.7 , 31.68, 33.66,\n",
       "        35.64, 37.62, 39.6 , 41.58, 43.56, 45.54, 47.52, 49.5 , 51.48,\n",
       "        53.46, 55.44, 57.42, 59.4 , 61.38, 63.36, 65.34, 67.32, 69.3 ,\n",
       "        71.28, 73.26, 75.24, 77.22, 79.2 , 81.18, 83.16, 85.14, 87.12,\n",
       "        89.1 , 91.08, 93.06, 95.04, 97.02, 99.  ]),\n",
       " <a list of 50 Patch objects>)"
      ]
     },
     "execution_count": 16,
     "metadata": {},
     "output_type": "execute_result"
    },
    {
     "data": {
      "image/png": "[encoded data removed]",
      "text/plain": [
       "<Figure size 720x432 with 1 Axes>"
      ]
     },
     "metadata": {
      "needs_background": "light"
     },
     "output_type": "display_data"
    }
   ],
   "source": [
    "# Randint distribution - uniform\n",
    "x = np.random.randint(100, size = 100000)\n",
    "plt.hist(x,bins = 50)"
   ]
  },
  {
   "cell_type": "markdown",
   "metadata": {},
   "source": [
    "**random_integers**  \n",
    "\n",
    "_Syntax_ :\n",
    "random_integers(low[, high, size])\t\n",
    "\n",
    "\n",
    "**Note:**  \n",
    "The random_integers function is now deprecated. That means that this function is not recommended for use and will be withdrawn in the future. If you choose to use random_integers, your code may cease working in the future. Using the function now will result in a warning message being displayed. The randint function described above should be used instead to generate random integers. \n",
    "\n",
    "_Description_ :  \n",
    "This is an older and now deprecated function that has been replaced by randint. As such it is very similar to the randint function. The two main differences between the two functions are:\n",
    "* When specifying the limits with random_integers, the range INCLUDES both the high and low limits.\n",
    "* An int32 is always returned - you cannot specify it to be any other sort of int.\n",
    "\n",
    "_Examples_ :\n",
    "The results from the above test for randint would be the same for random_integers with the exception of the test where you specify the integer type to anything other than int32. "
   ]
  },
  {
   "cell_type": "markdown",
   "metadata": {},
   "source": [
    "**random_sample** / **random** / **ranf** / **sample**  \n",
    "_Syntax_ : random_sample([size]) / random([size]) / ranf([size]) / sample([size])   \n",
    "\n",
    "_Description_  \n",
    "random_sample may be called in numpy using a number of different aliases - \n",
    "* random_sample\n",
    "* random\n",
    "* ranf\n",
    "* sample\n",
    "\n",
    "All of the above actually call the same random_sample as shown below:"
   ]
  },
  {
   "cell_type": "code",
   "execution_count": 17,
   "metadata": {},
   "outputs": [
    {
     "name": "stdout",
     "output_type": "stream",
     "text": [
      "np.random.random_sample : <built-in method random_sample of mtrand.RandomState object at 0x000001DCA630A1F8>\n",
      "np.random.random : <built-in method random_sample of mtrand.RandomState object at 0x000001DCA630A1F8>\n",
      "np.random.randf : <built-in method random_sample of mtrand.RandomState object at 0x000001DCA630A1F8>\n",
      "np.random.sample : <built-in method random_sample of mtrand.RandomState object at 0x000001DCA630A1F8>\n"
     ]
    }
   ],
   "source": [
    "print(\"np.random.random_sample :\",np.random.random_sample)\n",
    "print(\"np.random.random :\",np.random.random)\n",
    "print(\"np.random.randf :\",np.random.ranf)\n",
    "print(\"np.random.sample :\",np.random.sample)"
   ]
  },
  {
   "cell_type": "markdown",
   "metadata": {},
   "source": [
    "Like rand, random_sample returns random floating point number in the range 0.0 up to but not including 1.0. The only difference between the two functions is the way you input the size of the array requested. In the rand functionit is assumed that an array is requested and you simply enter the size of each dimension of the array - a sinel number being one dimensional etc. For the random_sample if an array is wanted it myst be surrounded by additional brackets.\n",
    "\n",
    "Similarly the random_sample randomly takes values from the normal distribution.\n",
    "\n",
    "Returns:\t\n",
    "out : float or ndarray of floats\n",
    "Array of random floats of shape size (unless size=None, in which case a single float is returned)."
   ]
  },
  {
   "cell_type": "code",
   "execution_count": 18,
   "metadata": {},
   "outputs": [
    {
     "name": "stdout",
     "output_type": "stream",
     "text": [
      "random_sample: [0.62380146 0.81138087 0.65789568 0.02994221 0.89593194]\n",
      "rand: [0.21792926 0.55395699 0.45087107 0.73773487 0.3894425 ]\n"
     ]
    }
   ],
   "source": [
    "print(\"random_sample:\", np.random.random_sample(5))\n",
    "print(\"rand:\",np.random.rand(5))"
   ]
  },
  {
   "cell_type": "code",
   "execution_count": 19,
   "metadata": {},
   "outputs": [
    {
     "name": "stdout",
     "output_type": "stream",
     "text": [
      "random_sample: [[0.2321217  0.85818749 0.56495617]\n",
      " [0.07795949 0.01388838 0.02342811]]\n",
      "rand: [[0.25112225 0.02322806 0.37606688]\n",
      " [0.55449818 0.39779383 0.42312114]]\n"
     ]
    }
   ],
   "source": [
    "print(\"random_sample:\", np.random.random_sample((2,3)))\n",
    "print(\"rand:\",np.random.rand(2,3))"
   ]
  },
  {
   "cell_type": "markdown",
   "metadata": {},
   "source": [
    "**choice**  \n",
    "_Syntax:_\n",
    "choice(a[, size, replace, p])  \n",
    "\n",
    "_Description:_  \n",
    "Generates a random sample from a given 1-D array. Essentially this mean that it is the numpy equivalent of \"Pick a card, any card.\"  \n",
    "\n",
    "It requires a single parameter and this the list / tuple / array the selection must come from. It is possible to only put a single value in and in that scenario python will assume it to mean values from the range from 0 up to but not including a.  \n",
    "There are also three additional parameters you can specify, but these are optional. The first is the size of the return values. This is the number and shape of values you want returned. The default value is 1, where a single value is returned.\n",
    "\n",
    "You can also specify whether to replace a value after sampling too. By replacing we mean if for example you had a list containing numbers from 1 -10 and you asked to sample 5 numbers from that list. If you were to replace the number (replace parameter = true) then any number can come out every sampling opportunity, in this example up to five times. If the replace value is set to false however, once a value is chosen from the list it is not then returned to the list for the next sample. That means that you will always get five different numbers in the returned values. If not specified it is assumed that the values are to be replaced with the default replace setting being true.  \n",
    "\n",
    "Finally you may also specify the probabilities of each element in the selection list. If not specified, it is assumed a uniform distribution is used where (replacement aside) each number is equally likely to be chosen at each sample. If a specific probability is required, this must be entered in a list of the same length as the original list. The higher the value, the greater the chance of selecting the item in that list.\n",
    "\n",
    "_Returns:_  \n",
    "The generated random samples of the specified shape with the given probability.\n",
    "\n",
    "Raises:\t\n",
    "ValueError\n",
    "If a is an int and less than zero, if a or p are not 1-dimensional, if a is an array-like of size 0, if p is not a vector of probabilities, if a and p have different lengths, or if replace=False and the sample size is greater than the population size"
   ]
  },
  {
   "cell_type": "code",
   "execution_count": 53,
   "metadata": {},
   "outputs": [
    {
     "name": "stdout",
     "output_type": "stream",
     "text": [
      "a = [164, 25, 873, 45, 99, 45, 6452]\n",
      "Random choice from a = 45\n",
      "Another random choice from a (of size 2) = [  45 6452]\n",
      "Another random choice from a (of size 2*2) = [[6452  873]\n",
      " [  25 6452]]\n"
     ]
    }
   ],
   "source": [
    "# a as numbers\n",
    "a = [164,25,873,45,99,45,6452]\n",
    "print(\"a =\",a)\n",
    "print(\"Random choice from a =\",np.random.choice(a))\n",
    "print(\"Another random choice from a (of size 2) =\",np.random.choice(a,2))\n",
    "print(\"Another random choice from a (of size 2*2) =\",np.random.choice(a,(2,2)))"
   ]
  },
  {
   "cell_type": "code",
   "execution_count": 39,
   "metadata": {},
   "outputs": [
    {
     "name": "stdout",
     "output_type": "stream",
     "text": [
      "a = 10\n",
      "Random choice from a = 0\n",
      "Another random choice from a (of size 5) = [2 0 9 4 9]\n"
     ]
    }
   ],
   "source": [
    "# a as a single number\n",
    "a = 10\n",
    "print(\"a =\", a)\n",
    "print(\"Random choice from a =\",np.random.choice(a))\n",
    "print(\"Another random choice from a (of size 5) =\",np.random.choice(a, 5))"
   ]
  },
  {
   "cell_type": "code",
   "execution_count": 38,
   "metadata": {
    "scrolled": true
   },
   "outputs": [
    {
     "name": "stdout",
     "output_type": "stream",
     "text": [
      "a = ['Monday', 'Tuesday', 'September', 'April', 'bananas']\n",
      "Random choice from a = April\n",
      "Another random choice from a (of size 3) = ['Monday' 'September' 'April']\n"
     ]
    }
   ],
   "source": [
    "# a as strings\n",
    "a = [\"Monday\", \"Tuesday\", \"September\", \"April\", \"bananas\"]\n",
    "print(\"a =\",a)\n",
    "print(\"Random choice from a =\",np.random.choice(a))\n",
    "print(\"Another random choice from a (of size 3) =\",np.random.choice(a, 3))"
   ]
  },
  {
   "cell_type": "code",
   "execution_count": 65,
   "metadata": {},
   "outputs": [
    {
     "name": "stdout",
     "output_type": "stream",
     "text": [
      "a = 10\n",
      "Random choice from a (of size 10, with uniform probability) = [2 3 9 5 6 6 7 0 8 7]\n",
      "Another random choice from a (of size 10 with weighted probabilities) = [6 6 6 6 6 6 6 6 6 4]\n"
     ]
    }
   ],
   "source": [
    "# Skewing the results\n",
    "a = 10\n",
    "print(\"a =\", a)\n",
    "print(\"Random choice from a (of size 10, with uniform probability) =\",np.random.choice(a, 10))\n",
    "print(\"Another random choice from a (of size 10 with weighted probabilities) =\",np.random.choice(a, 10, p =[0, 0, 0.1,0,0.1, 0, 0.8, 0, 0,0]))"
   ]
  },
  {
   "cell_type": "markdown",
   "metadata": {},
   "source": [
    "bytes(length)\tReturn random bytes.\n",
    "numpy.random.bytes(length)\n",
    "Return random bytes.\n",
    "\n",
    "Parameters:\t\n",
    "length : int\n",
    "Number of random bytes.\n",
    "\n",
    "Returns:\t\n",
    "out : str\n",
    "String of length length."
   ]
  },
  {
   "cell_type": "markdown",
   "metadata": {},
   "source": [
    "While the name suggests that the output of numpy.random is random, it is however pseudorandom in nature, meaning that data / functions generated from this library element has all the appearance of randomness, but in fact is generated in a specific deterministic manner. This via a pseudorandom number generator (PRNG) and for all intents and purposes is fully sufficient for all our data analytics (and many other) needs.  \n",
    "\n",
    "The whole randomness generation is based on two components:\n",
    "* **_BitGenerators_**: Objects that generate random numbers. These are typically unsigned integer words filled with sequences of either 32 or 64 random bits.\n",
    "* **_Generators_**: Objects that transform sequences of random bits from a BitGenerator into sequences of numbers that follow a specific probability distribution (such as uniform, Normal or Binomial) within a specified interval.\n"
   ]
  },
  {
   "cell_type": "markdown",
   "metadata": {},
   "source": [
    "## Functions ##"
   ]
  },
  {
   "cell_type": "markdown",
   "metadata": {},
   "source": [
    "### Simple Random Data ##"
   ]
  },
  {
   "cell_type": "markdown",
   "metadata": {},
   "source": [
    "### Permutations ###"
   ]
  },
  {
   "cell_type": "markdown",
   "metadata": {},
   "source": [
    "### Distribution Functions ###"
   ]
  },
  {
   "cell_type": "markdown",
   "metadata": {},
   "source": [
    "**1. Distribution Function 1**"
   ]
  },
  {
   "cell_type": "markdown",
   "metadata": {},
   "source": [
    "**2. Distribution Function 2**"
   ]
  },
  {
   "cell_type": "markdown",
   "metadata": {},
   "source": [
    "**3. Distribution Function 3**"
   ]
  },
  {
   "cell_type": "markdown",
   "metadata": {},
   "source": [
    "**4. Distribution Function 4**"
   ]
  },
  {
   "cell_type": "markdown",
   "metadata": {},
   "source": [
    "**5. Distribution Function 5**"
   ]
  },
  {
   "cell_type": "markdown",
   "metadata": {},
   "source": [
    "### Seeds ###"
   ]
  },
  {
   "cell_type": "markdown",
   "metadata": {},
   "source": [
    "## References ##\n",
    "1. NumPy Site http://www.numpy.org/\n",
    "2. Project Jupyter http://jupyter.org/  \n",
    "3. NumPy Wikipedia Page https://en.wikipedia.org/wiki/NumPy  \n",
    "4. Python for Data Analysis Book  \n",
    "5. https://realpython.com/python-random/  \n",
    "6. https://stackoverflow.com/questions/18829185/difference-between-various-numpy-random-functions  \n",
    "7. https://www.sharpsightlabs.com/blog/numpy-random-choice/  \n",
    "8. \n"
   ]
  },
  {
   "cell_type": "code",
   "execution_count": null,
   "metadata": {},
   "outputs": [],
   "source": []
  }
 ],
 "metadata": {
  "kernelspec": {
   "display_name": "Python 3",
   "language": "python",
   "name": "python3"
  },
  "language_info": {
   "codemirror_mode": {
    "name": "ipython",
    "version": 3
   },
   "file_extension": ".py",
   "mimetype": "text/x-python",
   "name": "python",
   "nbconvert_exporter": "python",
   "pygments_lexer": "ipython3",
   "version": "3.7.3"
  }
 },
 "nbformat": 4,
 "nbformat_minor": 2
}
