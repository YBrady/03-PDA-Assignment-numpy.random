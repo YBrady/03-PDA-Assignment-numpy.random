{
 "cells": [
  {
   "cell_type": "markdown",
   "metadata": {},
   "source": [
    "<img align=\"left\" src=\"images/GMIT-logo.png\" alt=\"GMIT\" width=\"220\"/>                                                      <img align=\"right\" src=\"images/data-analytics.png\" alt=\"HDipDA\" width=\"250\"/>  \n",
    "\n",
    "# <center>Programming for Data Analysis 2019 Assignment: numpy.random</center>  #"
   ]
  },
  {
   "cell_type": "markdown",
   "metadata": {},
   "source": [
    "***\n",
    "**Module Name**: Programming for Data Analysis  \n",
    "**Module Number**: 52465  \n",
    "**Student Name**: Yvonne Brady  \n",
    "**Student ID**: G00376355  \n",
    "***"
   ]
  },
  {
   "cell_type": "markdown",
   "metadata": {},
   "source": [
    "**Problem statement**\n",
    "The following assignment concerns the numpy.random package in Python. You are\n",
    "required to create a Jupyter notebook explaining the use of the package, including\n",
    "detailed explanations of at least five of the distributions provided for in the package.\n",
    "There are four distinct tasks to be carried out in your Jupyter notebook.\n",
    "1. Explain the overall purpose of the package.\n",
    "2. Explain the use of the “Simple random data” and “Permutations” functions.\n",
    "3. Explain the use and purpose of at least five “Distributions” functions.\n",
    "4. Explain the use of seeds in generating pseudorandom numbers.\n",
    "\n",
    "***"
   ]
  },
  {
   "cell_type": "markdown",
   "metadata": {},
   "source": [
    "# Table of Contents #\n",
    "1. [Introduction](#intro)  \n",
    "2. [Purpose of NumPy](#numpy)  \n",
    "3. [Purpose of numpy.random](#numpy.random)  \n",
    "4. [Simple Random Data](#rand-data)  \n",
    "5. [Permutations](#permutations)  \n",
    "6. [Distributions](#dist)  \n",
    "6.1 [Binomial Distribution](#binomial)  \n",
    "6.2 [Normal or Gaussian Distribution](#normal)  \n",
    "6.3 [Uniform Distribution](#uniform)  \n",
    "6.4 [Chi-Squared Distribution](#chi)  \n",
    "6.5 [Poisson Distribution](#poisson)  \n",
    "6.6 [Distribution Comparison Summary](#summary)\n",
    "7. [Seeds in Pseudorandom Number Generation](#seeds) \n",
    "8. [References](#refs)"
   ]
  },
  {
   "cell_type": "markdown",
   "metadata": {},
   "source": [
    " ## <a name=\"intro\"></a>1. Introduction ## \n",
    "This assignment is completed in part fulfillment of the Programming for Data Analysis module of the Higher Diploma in Data Analytics awarded in GMIT. The goal of this assignment is to explain in lay terms the importance and use of the Python package NumPy, with particular focus on numpy.random."
   ]
  },
  {
   "cell_type": "markdown",
   "metadata": {},
   "source": [
    "## <a name=\"numpy\"></a>2. Purpose of NumPy ##\n",
    "Numpy is one of the core packages used in data analytics on the Python platform. It comprises a series of functions and methods that allow for easier data storage, retrieval and manipulation. It is centered on arrays, which are in essence what each dataset is made up of.  \n",
    "\n",
    "NumPy has been around since 2005, when Travis Oliphant managed to merge the previously two competing numerical packages in Python, Numeric and NumArray,  into one package, NumPy. It is a contraction of the phrase Numerical Python and is the basis of most if not all Python packages with scientific functionality.  \n",
    "  \n",
    "Some of the main parts of NumPy include:  \n",
    "* ndarray - a multidimensional array  \n",
    "* functions - that perform mathematical operations quickly and efficiently. \n",
    "\n",
    "NumPy library of algorithms is written in the C language, a compiled rather than interpreted language which allows faster processing times. Its operations make it possible to perform complex calculations on entire arrays without the need for looping through each element in Python. NumPy algorithms are generally at least 10 to 100 times faster than their Python scripted alternatives.\n",
    "\n",
    "NumPy is an external package that must be imported into python for use. Convention has it that it is imported as \"np\". Each numpy function etc can then be called by prefacing it with np."
   ]
  },
  {
   "cell_type": "code",
   "execution_count": 1,
   "metadata": {},
   "outputs": [],
   "source": [
    "%matplotlib inline\n",
    "import numpy as np # Importing the NumPy library\n",
    "import matplotlib.pyplot as plt # Importing matplotlib for plotting\n",
    "from termcolor import colored # Just to display coloured text\n",
    "from tabulate import tabulate # To create Python tables\n",
    "plt.style.use('ggplot') # Setting a plot style"
   ]
  },
  {
   "cell_type": "markdown",
   "metadata": {},
   "source": [
    "## <a name=\"numpy.random\"></a>3. Purpose of numpy.random ##"
   ]
  },
  {
   "cell_type": "markdown",
   "metadata": {},
   "source": [
    "<img align = \"right\" src=\"images/dice.jpg\" alt=\"dice\" width=\"200\"/> \n",
    "Computers have long been used for complex mathematical calculations due to the speed and accuracy in which they follow instructions written in programs. They are so good at performing these tasks that many would be surprised at how apparently simple task of picking a random number is in reality a very difficult thing for the computer to do. Something a dice can do is beyond the abilities of even the most high-tech computer without very specific and complex code. In Python, this can be achieved in the form of the random sampling part of the numpy package - numpy.random.   \n",
    "\n",
    "Whenever you need random data, be it random numbers, random sample of data, random placement of known values in an array, numpy.random provides all this functionality and more. The great difficulty in generating anything random is that computer likes to be told what to do simply saying \"pick a random number\" generally is too non-specific for a computer to process. As a result many \"random\" numbers generated by a computer are not fully random, but only pseudorandom, using a Pseudorandom Number Generator (PRNG). Number generated by a PRNG have an appearance of randomness, but in reality are deterministic, based on a repeatable algorithm. There are also True Random Number Generators (TRNG), which are much more complex but this is not the case for numpy.random.  "
   ]
  },
  {
   "cell_type": "markdown",
   "metadata": {},
   "source": [
    "Being pseudorandom, PRNG numbers would not be suitable for applications such as cryptography or any gambling type purposes, but they are perfectly suited for simulation and data modelling. See Table 1 below for the differences between TRNG and PRNGs.  \n",
    "\n",
    "| Characteristic                    | Pseudorandom Number Generators    |True Random Number Generators      |\n",
    "|----------------------------------\t|----------------------------------\t|----------------------------------\t|\n",
    "| Efficiency                    \t| Excellent                        \t| Poor                          \t|\n",
    "| Determinism                    \t| Deterministic                    \t| Nondeterministic                 \t|\n",
    "| Periodicity                    \t| Periodic                       \t| Aperiodic                     \t|\n",
    "\n",
    "**<center>Table 1 : TRNG vs PRNG</center>**\n",
    "\n",
    "Random numbers are often used to generate random series of numbers, for testing programs in various scenarios, for random sampling of datasets, for many games, gambling, for determination of probabilities of risks etc. One such sample is given below in the simple game below:\n",
    "\n",
    "*** \n",
    "**Simple Guessing Game**"
   ]
  },
  {
   "cell_type": "code",
   "execution_count": 2,
   "metadata": {},
   "outputs": [
    {
     "name": "stdout",
     "output_type": "stream",
     "text": [
      "Pick a number between 1 and 10: 6\n"
     ]
    }
   ],
   "source": [
    "# Simple Guessing Game\n",
    "# Generate a random integer between 1 and 10\n",
    "compChoice = np.random.randint(1,11)\n",
    "# Ask the player to pick a number\n",
    "yourChoice = int(input(\"Pick a number between 1 and 10: \"))"
   ]
  },
  {
   "cell_type": "code",
   "execution_count": 3,
   "metadata": {},
   "outputs": [
    {
     "name": "stdout",
     "output_type": "stream",
     "text": [
      "\u001b[34mHard luck. You guessed\u001b[0m \u001b[31m6\u001b[0m \u001b[34mand I picked\u001b[0m \u001b[32m5\u001b[0m\n"
     ]
    }
   ],
   "source": [
    "# Compare the \n",
    "if compChoice == yourChoice:\n",
    "    # If the player guessed right, tell them\n",
    "    print(colored(\"Congrats - you guessed\", \"blue\"), colored(yourChoice,'green'), colored(\"and I picked\", \"blue\"), colored(compChoice, \"green\"))\n",
    "else:\n",
    "    # If the player guessed incorrectly, tell them too\n",
    "    print(colored(\"Hard luck. You guessed\",\"blue\"), colored(yourChoice, \"red\"), colored(\"and I picked\", \"blue\"), colored(compChoice, \"green\"))"
   ]
  },
  {
   "cell_type": "markdown",
   "metadata": {},
   "source": [
    "## <a name=\"rand-data\"></a>4. Simple Random Data##"
   ]
  },
  {
   "cell_type": "markdown",
   "metadata": {},
   "source": [
    "There are a number of functions available to generate simple random data as shown in Table 2 below. They all employ randomn functionality to produce random arrays and numbers of different data types from different probability distributions. We will have a look at each of these in turn."
   ]
  },
  {
   "cell_type": "markdown",
   "metadata": {},
   "source": [
    "| Function                             | Returns random ...                                       | Used                                                                                       |\n",
    "|--------------------------------------|----------------------------------------------------------|--------------------------------------------------------------------------------------------|\n",
    "| rand                                 | values between 0 and 1 from the uniform distribution.    | Where any of the numbers are equally likely.                                               |\n",
    "| randn                                | values from the normal distribution with a mean of 0.    | To simulate real world data, generate \"noise\".                                             |\n",
    "| randint                              | integers between specified limits (high value exclusive) | To generate random integers.                                                               |\n",
    "| random_integers                      | integers of type np.int between specified limits.        | This function is deprecated so should not be used. Use random_integers instead. |\n",
    "| random_sample; random;  ranf; sample | floats in the half-open interval [0.0, 1.0).             | As randn above.                                                                            |\n",
    "| choice                               | sample from a given 1-D array                            | When you want to get random sample(s) from an existing array.                              |\n",
    "| bytes                                | bytes                                                    | When you want random byte data.                                                                |\n",
    "\n",
    "**<center>Table 2: Simple Random Data</center>**"
   ]
  },
  {
   "cell_type": "markdown",
   "metadata": {},
   "source": [
    "**rand**  \n",
    "_Syntax_ :  \n",
    "np.random.rand(a, b, ....z)  \n",
    "  \n",
    "_Returns_ :  \n",
    "Rand returns a randomly generated array of size specified in the the brackets, for example if only one number was specified it would return that many numbers in a list. All the numbers returned are between 0 and 1.  \n",
    "The numbers returned are randomly selected with a uniform distribution, see below about distribution. This is useful where you want any random numbers within the range without bias. \n",
    "  \n",
    "_Example_ :"
   ]
  },
  {
   "cell_type": "code",
   "execution_count": 4,
   "metadata": {},
   "outputs": [
    {
     "name": "stdout",
     "output_type": "stream",
     "text": [
      "Here x is a randomly generated list of 6000 numbers ranging from 0.00042762845656252324 to 0.9999030937863957\n"
     ]
    },
    {
     "data": {
      "image/png": "[encoded data removed]",
      "text/plain": [
       "<Figure size 1296x576 with 1 Axes>"
      ]
     },
     "metadata": {
      "needs_background": "light"
     },
     "output_type": "display_data"
    }
   ],
   "source": [
    "# Here we are using np.random.rand based on your choice of number from game above\n",
    "x = np.random.rand(yourChoice*1000)\n",
    "plt.rcParams['figure.figsize'] = [18, 8] # Setting the plot size\n",
    "plt.hist(x, 20)\n",
    "plt.title(\"np.random.rand\")\n",
    "print(\"Here x is a randomly generated list of\", yourChoice * 1000, \"numbers ranging from\", min(x), \"to\" , max(x))"
   ]
  },
  {
   "cell_type": "code",
   "execution_count": 5,
   "metadata": {},
   "outputs": [
    {
     "name": "stdout",
     "output_type": "stream",
     "text": [
      "Here x is a randomly generated list of 6 x 5 numbers\n"
     ]
    },
    {
     "data": {
      "text/plain": [
       "array([[0.46541342, 0.94105671, 0.38074415, 0.6689604 , 0.20209689],\n",
       "       [0.27234847, 0.55757619, 0.82542421, 0.14788658, 0.38919932],\n",
       "       [0.11388386, 0.33236839, 0.41966566, 0.42616933, 0.35301842],\n",
       "       [0.54278108, 0.56552823, 0.02344474, 0.70139275, 0.75172069],\n",
       "       [0.21613107, 0.56291579, 0.8662058 , 0.74999624, 0.58352366],\n",
       "       [0.18588055, 0.00992864, 0.37121988, 0.97181148, 0.89692722]])"
      ]
     },
     "execution_count": 5,
     "metadata": {},
     "output_type": "execute_result"
    }
   ],
   "source": [
    "# Here we are using np.random.rand based on an array of size chosen from the game above.\n",
    "x = np.random.rand(yourChoice, compChoice)\n",
    "print(\"Here x is a randomly generated list of\", yourChoice, \"x\", compChoice, \"numbers\")\n",
    "x"
   ]
  },
  {
   "cell_type": "markdown",
   "metadata": {},
   "source": [
    "While we have shown above that the random functions can generate arrays of data, for the rest of this notebook we will only look at single dimensional arrays."
   ]
  },
  {
   "cell_type": "markdown",
   "metadata": {},
   "source": [
    "**randn**  \n",
    "_Syntax_ :  \n",
    "np.random.randn(a, b, ....z)  \n",
    "  \n",
    "_Returns_ :  \n",
    "randn returns a randomly generated array of size specified in the the brackets, just like the rand function. Unlike the rand function, the values returned centered on 0 with the majority falling between -1 and 1. The is due to the difference between rand and randn - distribution of the random figures returned.  \n",
    "  \n",
    "With the rand function, values are returned with a uniform distribution. This means that all numbers between 0 and 1 are equally likely to be returned. With the randn function, the returned figures follow a normalised distribution. This means that the values around the 0.5 are the most likely and increasingly less likely the further from the midpoint the value is. This is often used to simulate \"noise\" in a dataset created to mimic real world data.\n",
    "\n",
    "_Example_ :"
   ]
  },
  {
   "cell_type": "code",
   "execution_count": 6,
   "metadata": {},
   "outputs": [
    {
     "name": "stdout",
     "output_type": "stream",
     "text": [
      "Here xn is a randomly generated list of 6000 numbers ranging from -3.0573162751975813 to 3.8417045256942846\n"
     ]
    },
    {
     "data": {
      "image/png": "[encoded data removed]",
      "text/plain": [
       "<Figure size 1296x576 with 1 Axes>"
      ]
     },
     "metadata": {
      "needs_background": "light"
     },
     "output_type": "display_data"
    }
   ],
   "source": [
    "# Here we are using np.random.randn based on your choice of number above\n",
    "xr = np.random.rand(yourChoice*1000)\n",
    "xn = np.random.randn(yourChoice*1000)\n",
    "plt.hist(xn, 20)\n",
    "print(\"Here xn is a randomly generated list of\", yourChoice * 1000, \"numbers ranging from\", min(xn), \"to\" , max(xn))"
   ]
  },
  {
   "cell_type": "code",
   "execution_count": 7,
   "metadata": {},
   "outputs": [
    {
     "data": {
      "image/png": "[encoded data removed]",
      "text/plain": [
       "<Figure size 1296x576 with 2 Axes>"
      ]
     },
     "metadata": {
      "needs_background": "light"
     },
     "output_type": "display_data"
    }
   ],
   "source": [
    "# Lets compare the two figures\n",
    "fig, (ax1, ax2) = plt.subplots(1, 2, sharey=True)\n",
    "ax1.hist(xn,20)\n",
    "ax2.hist(xr,20)\n",
    "\n",
    "# Set labels\n",
    "ax1.set_xlabel(\"Number\")\n",
    "ax2.set_xlabel(\"Number\")\n",
    "ax1.set_ylabel(\"Frequency\")\n",
    "fig.suptitle('Comparison of rand and randn', fontsize=18)\n",
    "ax1.set_title('randn',fontsize=14)\n",
    "ax2.set_title('rand',fontsize=14)\n",
    "plt.show()"
   ]
  },
  {
   "cell_type": "markdown",
   "metadata": {},
   "source": [
    "**randint**  \n",
    "_Syntax_ :  \n",
    "np.random.randint(low[, high, size, dtype])  \n",
    "  \n",
    "_Description_ :  \n",
    "Randint returns randomly generated integers. You can specify the range limit of the values returned via the low and high variables. The value returned will include the \"low\" value, but will be up to but not including the \"high\" range value. This means that if you are looking for a number between 1 and 10 you need to specify that the low is 1 and the high is 11. If no high value is specified, the low value entered in fact acts as the high value and the low value is defaulted to 0. Interestingly enough, although the output is an or multiple integers, the low and high limits may be entered as floating point numbers.  \n",
    "  \n",
    "You may also specify the shape of the integers returned. This may be a single value, a list of numbers or multidimensional arrays via the size variable. This is not a mandatory field and if not specified, it is defaulted to a single number being returned.  \n",
    "\n",
    "Finally you may also specify the datatype of the integer returned. Numpy has a variety of integer datatypes, depending on the maximum value required. int8 for example is one byte in length and is capable of holding numbers in the range -128 to 127. int16 for integers -32768 to 32767 and so on for int32, int64 and unsigned integers too. Although the documentation states that the default value if not specified is int, the tests below show that it is in fact int32.  \n",
    "\n",
    "The numbers returned are randomly selected with a uniform distribution, see below about distributon.\n",
    "\n",
    "randint was the function used to play the initial guessing game above.\n",
    "  \n",
    "_Returns_ :\t\n",
    "a \"size-shaped\" array of random integers from the appropriate distribution, or a single such random int if size not provided.  \n",
    "\n",
    "_Example_ :"
   ]
  },
  {
   "cell_type": "code",
   "execution_count": 8,
   "metadata": {},
   "outputs": [
    {
     "name": "stdout",
     "output_type": "stream",
     "text": [
      "[62 67 23 38 75]\n",
      "Each of type: <class 'numpy.int8'>\n"
     ]
    }
   ],
   "source": [
    "# Here we are looking for a number between 1 and 100 inclusive (as we have chosen 101 as the high value)\n",
    "# The shape of the output will be an array of 5 integers, \n",
    "# and they will be of type int8's.\n",
    "x = np.random.randint(1, 101, 5, np.int8)\n",
    "print(x)\n",
    "print(\"Each of type:\", type(x[1]))"
   ]
  },
  {
   "cell_type": "code",
   "execution_count": 9,
   "metadata": {},
   "outputs": [
    {
     "data": {
      "text/plain": [
       "9"
      ]
     },
     "execution_count": 9,
     "metadata": {},
     "output_type": "execute_result"
    }
   ],
   "source": [
    "# Using floats as limits, size is defaulted to a single integer value returned.\n",
    "np.random.randint(3.2, 14.3)"
   ]
  },
  {
   "cell_type": "code",
   "execution_count": 10,
   "metadata": {},
   "outputs": [
    {
     "name": "stdout",
     "output_type": "stream",
     "text": [
      "The minimum is 0. The maximum is 0.\n",
      "When not specified, the output is of type: <class 'numpy.int32'>\n"
     ]
    }
   ],
   "source": [
    "# Here we are setting just one value of 1. \n",
    "# As there is not both a lower and an upper limit set, \n",
    "# numpy assumes the value entered is the upper limit and 0 is taken as the lower limit.\n",
    "# As the range does not include the upper limit in its output, the expect return is all 0's inthe case below.\n",
    "# You can make the size as large as you want, but max will not exceed 0.\n",
    "# The default type is also shown here too - as int32.\n",
    "\n",
    "# To show the default is taken to be the upper limit which is never reached:\n",
    "x = np.random.randint(1, size = 1000000000)\n",
    "print(f\"The minimum is {x.min()}. The maximum is {x.max(0)}.\")\n",
    "print(\"When not specified, the output is of type:\", type(x[1]))"
   ]
  },
  {
   "cell_type": "code",
   "execution_count": 11,
   "metadata": {},
   "outputs": [
    {
     "name": "stdout",
     "output_type": "stream",
     "text": [
      "[ -475011669418228668 -5151921271716393571 -4651643369911773037\n",
      " -3523734177325992827 -5949968562262141615  -295204166977141762\n",
      " -4500370275347255036 -5537753995424673143 -3741951497580604693\n",
      " -5080363188438863348]\n",
      "The output is of type: <class 'numpy.int64'>\n"
     ]
    }
   ],
   "source": [
    "# While the default type is int32 - here we are checking if that is automatically adusted to \n",
    "# take into account the range requested.\n",
    "# Here we are looking for a number between -9223372036854775800 and -1 inclusive. \n",
    "# The shape of the output will be an array of 2x4 array integers rather than a one dimensionsal array, \n",
    "# and they will be of type int64's.\n",
    "x = np.random.randint(-9223372036854775800 , 0, 10, np.int64)\n",
    "print(x)\n",
    "print(\"The output is of type:\", type(x[1]))"
   ]
  },
  {
   "cell_type": "code",
   "execution_count": 12,
   "metadata": {},
   "outputs": [
    {
     "ename": "ValueError",
     "evalue": "low is out of bounds for int32",
     "output_type": "error",
     "traceback": [
      "\u001b[1;31m---------------------------------------------------------------------------\u001b[0m",
      "\u001b[1;31mValueError\u001b[0m                                Traceback (most recent call last)",
      "\u001b[1;32m<ipython-input-12-fe3fb4e9a8fe>\u001b[0m in \u001b[0;36m<module>\u001b[1;34m\u001b[0m\n\u001b[0;32m      1\u001b[0m \u001b[1;31m# --------- Expected Error --------\u001b[0m\u001b[1;33m\u001b[0m\u001b[1;33m\u001b[0m\u001b[1;33m\u001b[0m\u001b[0m\n\u001b[0;32m      2\u001b[0m \u001b[1;31m# Let's try that again, this time without specifying the dtype:\u001b[0m\u001b[1;33m\u001b[0m\u001b[1;33m\u001b[0m\u001b[1;33m\u001b[0m\u001b[0m\n\u001b[1;32m----> 3\u001b[1;33m \u001b[0mx\u001b[0m \u001b[1;33m=\u001b[0m \u001b[0mnp\u001b[0m\u001b[1;33m.\u001b[0m\u001b[0mrandom\u001b[0m\u001b[1;33m.\u001b[0m\u001b[0mrandint\u001b[0m\u001b[1;33m(\u001b[0m\u001b[1;33m-\u001b[0m\u001b[1;36m9223372036854775800\u001b[0m \u001b[1;33m,\u001b[0m \u001b[1;36m0\u001b[0m\u001b[1;33m,\u001b[0m \u001b[1;36m10\u001b[0m\u001b[1;33m)\u001b[0m\u001b[1;33m\u001b[0m\u001b[1;33m\u001b[0m\u001b[0m\n\u001b[0m\u001b[0;32m      4\u001b[0m \u001b[0mprint\u001b[0m\u001b[1;33m(\u001b[0m\u001b[0mx\u001b[0m\u001b[1;33m)\u001b[0m\u001b[1;33m\u001b[0m\u001b[1;33m\u001b[0m\u001b[0m\n\u001b[0;32m      5\u001b[0m \u001b[0mprint\u001b[0m\u001b[1;33m(\u001b[0m\u001b[1;34m\"The output is of type:\"\u001b[0m\u001b[1;33m,\u001b[0m \u001b[0mtype\u001b[0m\u001b[1;33m(\u001b[0m\u001b[0mx\u001b[0m\u001b[1;33m[\u001b[0m\u001b[1;36m1\u001b[0m\u001b[1;33m]\u001b[0m\u001b[1;33m)\u001b[0m\u001b[1;33m)\u001b[0m\u001b[1;33m\u001b[0m\u001b[1;33m\u001b[0m\u001b[0m\n",
      "\u001b[1;32mmtrand.pyx\u001b[0m in \u001b[0;36mnumpy.random.mtrand.RandomState.randint\u001b[1;34m()\u001b[0m\n",
      "\u001b[1;32mbounded_integers.pyx\u001b[0m in \u001b[0;36mnumpy.random.bounded_integers._rand_int32\u001b[1;34m()\u001b[0m\n",
      "\u001b[1;31mValueError\u001b[0m: low is out of bounds for int32"
     ]
    }
   ],
   "source": [
    "# --------- Expected Error --------\n",
    "# Let's try that again, this time without specifying the dtype:\n",
    "x = np.random.randint(-9223372036854775800 , 0, 10)\n",
    "print(x)\n",
    "print(\"The output is of type:\", type(x[1]))\n",
    "# --------- Expected Error --------"
   ]
  },
  {
   "cell_type": "markdown",
   "metadata": {},
   "source": [
    "The error thrown above shows that the size of the datatype is not dependent on the range requested and defaults to int32. This function therefore throws an error if the range exceeds the limits of the int32 datatype (-2147483648 to 2147483647).  \n",
    "\n",
    "Errors are also thrown in the high limit is lower than the low limit. This is true even when no high limit is specified if a negative number is inputted as the low variable."
   ]
  },
  {
   "cell_type": "code",
   "execution_count": 13,
   "metadata": {},
   "outputs": [
    {
     "ename": "ValueError",
     "evalue": "low >= high",
     "output_type": "error",
     "traceback": [
      "\u001b[1;31m---------------------------------------------------------------------------\u001b[0m",
      "\u001b[1;31mValueError\u001b[0m                                Traceback (most recent call last)",
      "\u001b[1;32m<ipython-input-13-4c82d00f1bbe>\u001b[0m in \u001b[0;36m<module>\u001b[1;34m\u001b[0m\n\u001b[0;32m      4\u001b[0m \u001b[1;31m# it assumes the entered value is the high value and defaults the low to 0.\u001b[0m\u001b[1;33m\u001b[0m\u001b[1;33m\u001b[0m\u001b[1;33m\u001b[0m\u001b[0m\n\u001b[0;32m      5\u001b[0m \u001b[1;31m# That means in this instance the low is higher than the high and will throw an error.\u001b[0m\u001b[1;33m\u001b[0m\u001b[1;33m\u001b[0m\u001b[1;33m\u001b[0m\u001b[0m\n\u001b[1;32m----> 6\u001b[1;33m \u001b[0mx\u001b[0m \u001b[1;33m=\u001b[0m \u001b[0mnp\u001b[0m\u001b[1;33m.\u001b[0m\u001b[0mrandom\u001b[0m\u001b[1;33m.\u001b[0m\u001b[0mrandint\u001b[0m\u001b[1;33m(\u001b[0m\u001b[1;33m-\u001b[0m\u001b[1;36m5\u001b[0m\u001b[1;33m)\u001b[0m\u001b[1;33m\u001b[0m\u001b[1;33m\u001b[0m\u001b[0m\n\u001b[0m\u001b[0;32m      7\u001b[0m \u001b[0mprint\u001b[0m\u001b[1;33m(\u001b[0m\u001b[0mx\u001b[0m\u001b[1;33m)\u001b[0m\u001b[1;33m\u001b[0m\u001b[1;33m\u001b[0m\u001b[0m\n\u001b[0;32m      8\u001b[0m \u001b[1;31m# --------- Expected Error --------\u001b[0m\u001b[1;33m\u001b[0m\u001b[1;33m\u001b[0m\u001b[1;33m\u001b[0m\u001b[0m\n",
      "\u001b[1;32mmtrand.pyx\u001b[0m in \u001b[0;36mnumpy.random.mtrand.RandomState.randint\u001b[1;34m()\u001b[0m\n",
      "\u001b[1;32mbounded_integers.pyx\u001b[0m in \u001b[0;36mnumpy.random.bounded_integers._rand_int32\u001b[1;34m()\u001b[0m\n",
      "\u001b[1;31mValueError\u001b[0m: low >= high"
     ]
    }
   ],
   "source": [
    "# --------- Expected Error --------\n",
    "# Here we are specifying a \"low\" of -5. \n",
    "# Due to the way in which the function handles the defaults however, \n",
    "# it assumes the entered value is the high value and defaults the low to 0.\n",
    "# That means in this instance the low is higher than the high and will throw an error.\n",
    "x = np.random.randint(-5)\n",
    "print(x)\n",
    "# --------- Expected Error --------"
   ]
  },
  {
   "cell_type": "code",
   "execution_count": 14,
   "metadata": {},
   "outputs": [
    {
     "name": "stdout",
     "output_type": "stream",
     "text": [
      "[]\n"
     ]
    }
   ],
   "source": [
    "# As above but this time where the size is set to zero. \n",
    "# No error is thrown, but neither are numbers returned.\n",
    "x = np.random.randint(-5, size = 0)\n",
    "print(x)"
   ]
  },
  {
   "cell_type": "code",
   "execution_count": 15,
   "metadata": {
    "scrolled": true
   },
   "outputs": [
    {
     "data": {
      "text/plain": [
       "(array([1955., 2012., 1982., 2029., 1992., 1980., 2024., 1993., 1935.,\n",
       "        2004., 1986., 1944., 1999., 2014., 2054., 2036., 2005., 1976.,\n",
       "        1985., 1971., 2108., 1936., 2036., 2013., 1982., 2119., 1933.,\n",
       "        2041., 1935., 2026., 1942., 2050., 2009., 2010., 2068., 2010.,\n",
       "        1944., 2034., 2027., 2036., 1954., 1997., 2012., 1957., 1990.,\n",
       "        2005., 2083., 1903., 1939., 2025.]),\n",
       " array([ 0.  ,  1.98,  3.96,  5.94,  7.92,  9.9 , 11.88, 13.86, 15.84,\n",
       "        17.82, 19.8 , 21.78, 23.76, 25.74, 27.72, 29.7 , 31.68, 33.66,\n",
       "        35.64, 37.62, 39.6 , 41.58, 43.56, 45.54, 47.52, 49.5 , 51.48,\n",
       "        53.46, 55.44, 57.42, 59.4 , 61.38, 63.36, 65.34, 67.32, 69.3 ,\n",
       "        71.28, 73.26, 75.24, 77.22, 79.2 , 81.18, 83.16, 85.14, 87.12,\n",
       "        89.1 , 91.08, 93.06, 95.04, 97.02, 99.  ]),\n",
       " <a list of 50 Patch objects>)"
      ]
     },
     "execution_count": 15,
     "metadata": {},
     "output_type": "execute_result"
    },
    {
     "data": {
      "image/png": "[encoded data removed]",
      "text/plain": [
       "<Figure size 1296x576 with 1 Axes>"
      ]
     },
     "metadata": {
      "needs_background": "light"
     },
     "output_type": "display_data"
    }
   ],
   "source": [
    "# Randint distribution - uniform\n",
    "x = np.random.randint(100, size = 100000)\n",
    "plt.hist(x,bins = 50)"
   ]
  },
  {
   "cell_type": "markdown",
   "metadata": {},
   "source": [
    "**random_integers**  \n",
    "\n",
    "_Syntax_ :\n",
    "random_integers(low[, high, size])\t\n",
    "\n",
    "\n",
    "**Note:**  \n",
    "The random_integers function is now deprecated. That means that this function is not recommended for use and will be withdrawn in the future. If you choose to use random_integers, your code may cease working in the future. Using the function now will result in a warning message being displayed. The randint function described above should be used instead to generate random integers. \n",
    "\n",
    "_Description_ :  \n",
    "This is an older and now deprecated function that has been replaced by randint. As such it is very similar to the randint function. The two main differences between the two functions are:\n",
    "* When specifying the limits with random_integers, the range INCLUDES both the high and low limits.\n",
    "* An int32 is always returned - you cannot specify it to be any other sort of int.\n",
    "\n",
    "_Examples_ :\n",
    "The results from the above test for randint would be the same for random_integers with the exception of the test where you specify the integer type to anything other than int32. "
   ]
  },
  {
   "cell_type": "markdown",
   "metadata": {},
   "source": [
    "**random_sample** / **random** / **ranf** / **sample**  \n",
    "_Syntax_ : random_sample([size]) / random([size]) / ranf([size]) / sample([size])   \n",
    "\n",
    "_Description_  \n",
    "random_sample may be called in numpy using a number of different aliases - \n",
    "* random_sample\n",
    "* random\n",
    "* ranf\n",
    "* sample\n",
    "\n",
    "All of the above actually call the same random_sample. This was evident under a previous version I started this project with as shown in a screenshot below. This is not so clear on the current version (1.17.2).  \n",
    "![](images/numpy-version.png)  \n",
    "**_<center>Screenshot from earlier version of NumPy</center>_**"
   ]
  },
  {
   "cell_type": "code",
   "execution_count": 16,
   "metadata": {},
   "outputs": [
    {
     "name": "stdout",
     "output_type": "stream",
     "text": [
      "Numpy Version No: 1.17.2\n",
      "np.random.random_sample : <built-in method random_sample of numpy.random.mtrand.RandomState object at 0x000002062DFECCA8>\n",
      "np.random.random : <built-in method random of numpy.random.mtrand.RandomState object at 0x000002062DFECCA8>\n",
      "np.random.randf : <built-in function ranf>\n",
      "np.random.sample : <built-in function sample>\n"
     ]
    }
   ],
   "source": [
    "# From upgraded NumPy\n",
    "print(\"Numpy Version No:\", np.version.version)\n",
    "print(\"np.random.random_sample :\",np.random.random_sample)\n",
    "print(\"np.random.random :\",np.random.random)\n",
    "print(\"np.random.randf :\",np.random.ranf)\n",
    "print(\"np.random.sample :\",np.random.sample)"
   ]
  },
  {
   "cell_type": "markdown",
   "metadata": {},
   "source": [
    "Like rand, random_sample returns random floating point number in the range 0.0 up to but not including 1.0. The only difference between the two functions is the way you input the size of the array requested. In the rand function it is assumed that an array is requested and you simply enter the size of each dimension of the array - a single number being one dimensional etc. For the random_sample if an array is wanted it must be surrounded by additional brackets.\n",
    "\n",
    "Similarly the random_sample randomly takes values from the normal distribution.\n",
    "\n",
    "Returns:\t\n",
    "out : float or ndarray of floats\n",
    "Array of random floats of shape size (unless size=None, in which case a single float is returned)."
   ]
  },
  {
   "cell_type": "code",
   "execution_count": 17,
   "metadata": {},
   "outputs": [
    {
     "name": "stdout",
     "output_type": "stream",
     "text": [
      "random_sample: [0.35777628 0.1981591  0.13677151 0.08452635 0.23696294]\n",
      "rand: [0.03443047 0.89483704 0.08483871 0.80907976 0.84253926]\n"
     ]
    }
   ],
   "source": [
    "print(\"random_sample:\", np.random.random_sample(5))\n",
    "print(\"rand:\",np.random.rand(5))"
   ]
  },
  {
   "cell_type": "code",
   "execution_count": 18,
   "metadata": {},
   "outputs": [
    {
     "name": "stdout",
     "output_type": "stream",
     "text": [
      "random_sample: [[0.46078322 0.82436811 0.5181195 ]\n",
      " [0.23710547 0.67090271 0.57619532]]\n",
      "rand: [[0.55803754 0.55206272 0.21202586]\n",
      " [0.24598737 0.98583249 0.88171224]]\n"
     ]
    }
   ],
   "source": [
    "print(\"random_sample:\", np.random.random_sample((2,3)))\n",
    "print(\"rand:\",np.random.rand(2,3))"
   ]
  },
  {
   "cell_type": "markdown",
   "metadata": {},
   "source": [
    "**choice**  \n",
    "_Syntax:_\n",
    "choice(a[, size, replace, p])  \n",
    "\n",
    "_Description:_  \n",
    "Generates a random sample from a given 1-D array. Essentially this mean that it is the numpy equivalent of \"Pick a card, any card.\"  \n",
    "\n",
    "It requires a single parameter and this the list / tuple / array the selection must come from. It is possible to only put a single value in and in that scenario python will assume it to mean values from the range from 0 up to but not including a.  \n",
    "There are also three additional parameters you can specify, but these are optional. The first is the size of the return values. This is the number and shape of values you want returned. The default value is 1, where a single value is returned.\n",
    "\n",
    "You can also specify whether to replace a value after sampling too. By replacing we mean if for example you had a list containing numbers from 1 -10 and you asked to sample 5 numbers from that list. If you were to replace the number (replace parameter = true) then any number can come out every sampling opportunity, in this example up to five times. If the replace value is set to false however, once a value is chosen from the list it is not then returned to the list for the next sample. That means that you will always get five different numbers in the returned values. If not specified it is assumed that the values are to be replaced with the default replace setting being true.  \n",
    "\n",
    "Finally you may also specify the probabilities of each element in the selection list. If not specified, it is assumed a uniform distribution is used where (replacement aside) each number is equally likely to be chosen at each sample. If a specific probability is required, this must be entered in a list of the same length as the original list. The higher the value, the greater the chance of selecting the item in that list. The sum of all probabilities entered must equal 1.\n",
    "\n",
    "_Returns:_  \n",
    "The generated random samples of the specified shape with the given probability.\n",
    "\n",
    "Raises:\t\n",
    "ValueError\n",
    "If a is an int and less than zero, if a or p are not 1-dimensional, if a is an array-like of size 0, if p is not a vector of probabilities, if a and p have different lengths, or if replace=False and the sample size is greater than the population size"
   ]
  },
  {
   "cell_type": "code",
   "execution_count": 19,
   "metadata": {},
   "outputs": [
    {
     "name": "stdout",
     "output_type": "stream",
     "text": [
      "a = [164, 25, 873, 45, 99, 45, 6452]\n",
      "Random choice from a = 6452\n",
      "Another random choice from a (of size 2) = [ 25 164]\n",
      "Another random choice from a (of size 2*2) = [[25 45]\n",
      " [45 25]]\n"
     ]
    }
   ],
   "source": [
    "# a as numbers\n",
    "a = [164,25,873,45,99,45,6452]\n",
    "print(\"a =\",a)\n",
    "print(\"Random choice from a =\",np.random.choice(a))\n",
    "print(\"Another random choice from a (of size 2) =\",np.random.choice(a,2))\n",
    "print(\"Another random choice from a (of size 2*2) =\",np.random.choice(a,(2,2)))"
   ]
  },
  {
   "cell_type": "code",
   "execution_count": 20,
   "metadata": {},
   "outputs": [
    {
     "name": "stdout",
     "output_type": "stream",
     "text": [
      "a = 10\n",
      "Random choice from a = 3\n",
      "Another random choice from a (of size 5) = [0 0 0 3 8]\n"
     ]
    }
   ],
   "source": [
    "# a as a single number\n",
    "a = 10\n",
    "print(\"a =\", a)\n",
    "print(\"Random choice from a =\",np.random.choice(a))\n",
    "print(\"Another random choice from a (of size 5) =\",np.random.choice(a, 5))"
   ]
  },
  {
   "cell_type": "code",
   "execution_count": 21,
   "metadata": {
    "scrolled": true
   },
   "outputs": [
    {
     "name": "stdout",
     "output_type": "stream",
     "text": [
      "a = ['Monday', 'Tuesday', 'September', 'April', 'bananas']\n",
      "Random choice from a = Monday\n",
      "Another random choice from a (of size 3) = ['bananas' 'Monday' 'Monday']\n"
     ]
    }
   ],
   "source": [
    "# a as strings\n",
    "a = [\"Monday\", \"Tuesday\", \"September\", \"April\", \"bananas\"]\n",
    "print(\"a =\",a)\n",
    "print(\"Random choice from a =\",np.random.choice(a))\n",
    "print(\"Another random choice from a (of size 3) =\",np.random.choice(a, 3))"
   ]
  },
  {
   "cell_type": "code",
   "execution_count": 22,
   "metadata": {},
   "outputs": [
    {
     "name": "stdout",
     "output_type": "stream",
     "text": [
      "a = 10\n",
      "Random choice from a (of size 10, with uniform probability) = [5 3 5 9 6 8 8 0 3 9]\n",
      "Another random choice from a (of size 10 with weighted probabilities) = [6 6 6 6 4 4 6 6 6 6]\n"
     ]
    }
   ],
   "source": [
    "# Skewing the results using weighted probabilities\n",
    "a = 10\n",
    "print(\"a =\", a)\n",
    "print(\"Random choice from a (of size 10, with uniform probability) =\",np.random.choice(a, 10))\n",
    "print(\"Another random choice from a (of size 10 with weighted probabilities) =\",np.random.choice(a, 10, p =[0, 0, 0.1,0,0.1, 0, 0.8, 0, 0,0]))"
   ]
  },
  {
   "cell_type": "markdown",
   "metadata": {},
   "source": [
    "**random.bytes**  \n",
    "_Syntax:_  \n",
    "np.random.bytes(length)  \n",
    "\n",
    "_Description_  \n",
    "random.bytes as the name would suggest returns a randomly generated series of bytes of the defined length. Randomly generated bytes may be used in cryptography, but not the numpy generated version as it is not cryptographically secure. See below.  \n",
    "\n",
    "It takes a single parameter, an integer that defines the number of bytes returned.  \n",
    " \n",
    "_Returns:_  \n",
    "random.bytes returns the number of bytes as requested. This is actually a series of bytes but is represented in a string like manner prefaced with a \"b\"."
   ]
  },
  {
   "cell_type": "code",
   "execution_count": 23,
   "metadata": {},
   "outputs": [
    {
     "name": "stdout",
     "output_type": "stream",
     "text": [
      "Returns: b'y'\n",
      "Type of x = <class 'bytes'>\n"
     ]
    }
   ],
   "source": [
    "x = np.random.bytes(1)\n",
    "print(\"Returns:\",x)\n",
    "print(\"Type of x =\",type(x))"
   ]
  },
  {
   "cell_type": "code",
   "execution_count": 24,
   "metadata": {},
   "outputs": [
    {
     "name": "stdout",
     "output_type": "stream",
     "text": [
      "Length = 1 Result = b'\\t' String length = 1\n",
      "Length = 2 Result = b'D+' String length = 2\n",
      "Length = 3 Result = b'Q\\x03\\xc2' String length = 3\n",
      "Length = 4 Result = b'\\x14T\\xb9.' String length = 4\n",
      "Length = 5 Result = b'\\xd6\\xb6%4\\x90' String length = 5\n",
      "Length = 6 Result = b'\\xc7\\x92\\xe7\\x00\\xd26' String length = 6\n",
      "Length = 7 Result = b'\\xe0\\x8a&\\xa4=u\\x88' String length = 7\n",
      "Length = 8 Result = b'\\xb4Z\\xa4\\xfbm[PG' String length = 8\n",
      "Length = 9 Result = b'U\\xea\\tx\\x8f\\xbb\\xe0\\xe93' String length = 9\n",
      "Length = 10 Result = b'\\xae\\xf9\\x19\\xf0\\xa2an\\x80j\\xb1' String length = 10\n"
     ]
    }
   ],
   "source": [
    "for i in range (1,11):\n",
    "    x = np.random.bytes(i)\n",
    "    print(\"Length =\",i ,\"Result =\", x, \"String length =\", len(x))"
   ]
  },
  {
   "cell_type": "code",
   "execution_count": null,
   "metadata": {},
   "outputs": [],
   "source": [
    "# When converted to int values - the random.bytes generate byte data in the uniform distribution\n",
    "uint16_max = np.iinfo(np.uint16).max \n",
    "k=np.frombuffer(np.random.bytes(100000),dtype=np.uint16) \n",
    "x = np.uint16((1000)*(k/float(uint16_max)))\n",
    "plt.hist(x,100)"
   ]
  },
  {
   "cell_type": "markdown",
   "metadata": {},
   "source": [
    "## <a name=\"permutations\"></a>5. Permutations ##"
   ]
  },
  {
   "cell_type": "markdown",
   "metadata": {},
   "source": [
    "A permutation is an arrangement of elements in a list, set, tuple or array. For example the list 1, 2, 3 could appear like this:  \n",
    "Permutation 1: 1, 2, 3.  \n",
    "Permutation 2: 1, 3, 2.  \n",
    "Permutation 3: 2, 1, 3.  \n",
    "Permutation 4: 2, 3, 1.  \n",
    "Permutation 5: 3, 1, 2.  \n",
    "Permutation 6: 3, 2, 1.  \n",
    "\n",
    "In fact the number of permutations is governed by the length of the list and is calculated by the designation n factorial represented as n! where n is the list length. This is simply a shorthand way of writing:  \n",
    "$n! = n * (n-1) * (n-2) * ... * 3 * 2 * 1$\n",
    "\n",
    "In the case of the list 1, 2, 3 above this translates to $3 * 2 * 1 = 6$ possible permutations of that list.  \n",
    "\n",
    "The concept of permutation is very important in data analytics as when applying any kind of machine learning techniques to a dataset, the original dataset is divided into training and testing datasets to fit the desired model. This division of the dataset must be done in a random manner as opposed to for example taking the first x number of rows as the data may have been entered in a specific ordered manner. Each dataset (training and testing) should be representative of the dataset in its entirety to ensure an accurate model generation and validation of that model thereafter.  \n",
    "\n",
    "There are two kinds of permutations available with numpy as shown in the table below. \n",
    "\n",
    "\n",
    "| Name           | Description                                              |\n",
    "|----------------|----------------------------------------------------------|\n",
    "| shuffle(x)     | Modify a sequence in-place by shuffling its contents.    |\n",
    "| permutation(x) | Randomly permute a sequence, or return a permuted range. |  \n",
    "\n",
    "**<center>Table 3 - Permutations Available in Numpy Random<center>**\n",
    "\n",
    "Both permutation methods work in the same way - by randomly rearranging the elements in the list. The main difference between the two is the fact that the shuffle method re-arranges the elements within the input array itself. This means that the array is then forever changed. The function shuffle itself does not return anything.  \n",
    "\n",
    "The permutation returns the rearranged array / list as a new array / list and the original array / list remains untouched. This is a very important distinction between the two. As shown below:"
   ]
  },
  {
   "cell_type": "code",
   "execution_count": 25,
   "metadata": {},
   "outputs": [
    {
     "name": "stdout",
     "output_type": "stream",
     "text": [
      "This is the original list: [0 1 2 3 4 5 6 7 8 9]\n",
      "This is performing a permutation on the list: [3 2 6 7 4 8 0 9 1 5]\n",
      "This is the list after performing the permutation: [0 1 2 3 4 5 6 7 8 9]\n",
      "This is performing a shuffle: None\n",
      "This is the list after performing a shuffle: [5 7 3 4 8 0 1 6 2 9]\n"
     ]
    }
   ],
   "source": [
    "# Difference between permutation and shuffle\n",
    "x = np.arange(10)\n",
    "print(\"This is the original list:\",x)\n",
    "print(\"This is performing a permutation on the list:\",np.random.permutation(x))\n",
    "print(\"This is the list after performing the permutation:\",x)\n",
    "print(\"This is performing a shuffle:\",np.random.shuffle(x))\n",
    "print(\"This is the list after performing a shuffle:\",x)"
   ]
  },
  {
   "cell_type": "markdown",
   "metadata": {},
   "source": [
    "Both functions may take in multi-dimensional arrays. In both cases the function only shuffles the array along the first axis of a multi-dimensional array. The order of sub-arrays is changed but their contents remains the same."
   ]
  },
  {
   "cell_type": "code",
   "execution_count": 26,
   "metadata": {},
   "outputs": [
    {
     "name": "stdout",
     "output_type": "stream",
     "text": [
      "This is the original x:\n",
      " [[ 0  1  2  3  4]\n",
      " [ 5  6  7  8  9]\n",
      " [10 11 12 13 14]\n",
      " [15 16 17 18 19]\n",
      " [20 21 22 23 24]] \n",
      "\n",
      "This is after permuation:\n",
      " [[ 0  1  2  3  4]\n",
      " [20 21 22 23 24]\n",
      " [ 5  6  7  8  9]\n",
      " [10 11 12 13 14]\n",
      " [15 16 17 18 19]] \n",
      "\n",
      "This is the original x:\n",
      " [[ 0  1  2  3  4]\n",
      " [ 5  6  7  8  9]\n",
      " [10 11 12 13 14]\n",
      " [15 16 17 18 19]\n",
      " [20 21 22 23 24]] \n",
      "\n",
      "This is after shuffle:\n",
      " [[ 0  1  2  3  4]\n",
      " [ 5  6  7  8  9]\n",
      " [20 21 22 23 24]\n",
      " [15 16 17 18 19]\n",
      " [10 11 12 13 14]] \n",
      "\n"
     ]
    }
   ],
   "source": [
    "# Handling of 2-dimenstional arrays\n",
    "x = np.arange(25).reshape(5,5)\n",
    "print (\"This is the original x:\\n\",x, \"\\n\")\n",
    "print (\"This is after permuation:\\n\", np.random.permutation(x), \"\\n\")\n",
    "print (\"This is the original x:\\n\",x, \"\\n\")\n",
    "np.random.shuffle(x)\n",
    "print (\"This is after shuffle:\\n\", x, \"\\n\")\n"
   ]
  },
  {
   "cell_type": "code",
   "execution_count": 27,
   "metadata": {},
   "outputs": [
    {
     "name": "stdout",
     "output_type": "stream",
     "text": [
      "This is the original x:\n",
      " [[[ 0  1  2]\n",
      "  [ 3  4  5]\n",
      "  [ 6  7  8]]\n",
      "\n",
      " [[ 9 10 11]\n",
      "  [12 13 14]\n",
      "  [15 16 17]]\n",
      "\n",
      " [[18 19 20]\n",
      "  [21 22 23]\n",
      "  [24 25 26]]] \n",
      "\n",
      "This is after permuation:\n",
      " [[[ 0  1  2]\n",
      "  [ 3  4  5]\n",
      "  [ 6  7  8]]\n",
      "\n",
      " [[ 9 10 11]\n",
      "  [12 13 14]\n",
      "  [15 16 17]]\n",
      "\n",
      " [[18 19 20]\n",
      "  [21 22 23]\n",
      "  [24 25 26]]] \n",
      "\n",
      "This is the original x:\n",
      " [[[ 0  1  2]\n",
      "  [ 3  4  5]\n",
      "  [ 6  7  8]]\n",
      "\n",
      " [[ 9 10 11]\n",
      "  [12 13 14]\n",
      "  [15 16 17]]\n",
      "\n",
      " [[18 19 20]\n",
      "  [21 22 23]\n",
      "  [24 25 26]]] \n",
      "\n",
      "This is after shuffle:\n",
      " [[[ 0  1  2]\n",
      "  [ 3  4  5]\n",
      "  [ 6  7  8]]\n",
      "\n",
      " [[ 9 10 11]\n",
      "  [12 13 14]\n",
      "  [15 16 17]]\n",
      "\n",
      " [[18 19 20]\n",
      "  [21 22 23]\n",
      "  [24 25 26]]] \n",
      "\n"
     ]
    }
   ],
   "source": [
    "# Handling of 3-dimenstional arrays\n",
    "x = np.arange(27).reshape(3,3,3)\n",
    "print (\"This is the original x:\\n\",x, \"\\n\")\n",
    "print (\"This is after permuation:\\n\", np.random.permutation(x), \"\\n\")\n",
    "print (\"This is the original x:\\n\",x, \"\\n\")\n",
    "np.random.shuffle(x)\n",
    "print (\"This is after shuffle:\\n\", x, \"\\n\")\n"
   ]
  },
  {
   "cell_type": "markdown",
   "metadata": {},
   "source": [
    "## <a name=\"dist\"></a>6. Distributions ##\n",
    "\n",
    "When we examine a dataset it is important to realise that no matter how big that dataset is, it is only a sample of the full data. For example in the datasets we have worked with to date:  \n",
    "* Iris Dataset is only 150 samples of three different types of Iris. \n",
    "* Tips dataset is only data taken from one waiter in one restaurant over a defined time period. \n",
    "* Met Eireann weather data is for that place in that time period given. \n",
    "\n",
    "The power of the dataset is what decisional information we can mine from them. This generally is in the form of predicting, if this has happened in the past, what will happen in the future? To do this we try to find the original probability distribution from which the collected data originated to have a degree of confidence in our predictions.  \n",
    "\n",
    "Essentially a probability distribution is the probability of a conclusion being correct. Every time we interpret data, we need to know the chance we make a mistake when claiming a conclusion, as although drawing a conclusion is easy, drawing a <u>reliable</u> conclusion is hard. Knowing the distribution we can make calculations based on this information - for example we can calculate the expiration date of a carton of milk as the day before about 99.99% of all milk is still good. That way we would only have to deal with about 1 in 10,000 products gone bad.\n",
    "\n",
    "There are many distribution patterns noted for example if we rolled a single die - every time we rolled it any of the numbers from 1-6 are equally likely. This kind of distribution is called a uniform distribution (see below). Conversely, if we measured 1000 people's blood pressure we are likely to have a bell curved shaped plot with most people having a blood pressure around 120/80. The further you go away from this average the less likely this is to occur. This distribution is a normal distribution, see below.  \n",
    "\n",
    "The type data itself can vary. It can be discrete for example voting patterns, there are a finite number of parties that are available to vote for, or in the example of the rolling of a die - there are only six possible outcomes with each roll. In contrast to the discrete data, data may be _continuous_ instead. This is where the data may be any value n a range, for example the heights of a population. or to put it another way, a continuous random variable can have any value between two specified values. A discrete random variable has only one value chosen from a list of exact values.\n",
    "\n",
    "With the probability distribution model known, it is possible to perform a fit to see if the distribution model under consideration is in fact a good fit for any given data. You may also discover the probability of an exact value arising and the percentage of the probability density is to the left or right of any given value.\n",
    "\n",
    "Knowing your data is key to knowing which distribution to use. \n",
    "* What kind of data would you expect?\n",
    "* Would the data be expected to centre about a particular value for example?\n",
    "* Are there defined values or is the data continuous in nature?\n",
    "* Are the time / date values to take into consideration?\n",
    "\n",
    "\n",
    "When you know the answers to these questions, you may chose a distribution model that best fits your needs. There are 35 different distributions available with numpy random. We shall discuss 5 distributions in particular:  \n",
    "\n",
    "1. [Binomial Distribution](#binomial)  \n",
    "2. [Normal Distribution](#normal)\n",
    "3. [Uniform Distribution](#uniform)\n",
    "4. [Chi Squared Distribution](#chi)  \n",
    "5. [Poisson Distribution](#poisson)   "
   ]
  },
  {
   "cell_type": "markdown",
   "metadata": {},
   "source": [
    "| Dsitribution Function                        | Description                                                                                                           |\n",
    "|----------------------------------------------|-----------------------------------------------------------------------------------------------------------------------|\n",
    "| beta(a, b[, size])                           | Draw samples from a Beta distribution.                                                                                |\n",
    "| binomial(n, p[, size])                       | Draw samples from a binomial distribution.                                                                            |\n",
    "| chisquare(df[, size])                        | Draw samples from a chi-square distribution.                                                                          |\n",
    "| dirichlet(alpha[, size])                     | Draw samples from the Dirichlet distribution.                                                                         |\n",
    "| exponential([scale, size])                   | Draw samples from an exponential distribution.                                                                        |\n",
    "| f(dfnum, dfden[, size])                      | Draw samples from an F distribution.                                                                                  |\n",
    "| gamma(shape[, scale, size])                  | Draw samples from a Gamma distribution.                                                                               |\n",
    "| geometric(p[, size])                         | Draw samples from the geometric distribution.                                                                         |\n",
    "| gumbel([loc, scale, size])                   | Draw samples from a Gumbel distribution.                                                                              |\n",
    "| hypergeometric(ngood, nbad, nsample[, size]) | Draw samples from a Hypergeometric distribution.                                                                      |\n",
    "| laplace([loc, scale, size])                  | Draw samples from the Laplace or double exponential distribution with specified location (or mean) and scale (decay). |\n",
    "| logistic([loc, scale, size])                 | Draw samples from a logistic distribution.                                                                            |\n",
    "| lognormal([mean, sigma, size])               | Draw samples from a log-normal distribution.                                                                          |\n",
    "| logseries(p[, size])                         | Draw samples from a logarithmic series distribution.                                                                  |\n",
    "| multinomial(n, pvals[, size])                | Draw samples from a multinomial distribution.                                                                         |\n",
    "| multivariate_normal(mean, cov[, size, ...)   | Draw random samples from a multivariate normal distribution.                                                          |\n",
    "| negative_binomial(n, p[, size])              | Draw samples from a negative binomial distribution.                                                                   |\n",
    "| noncentral_chisquare(df, nonc[, size])       | Draw samples from a noncentral chi-square distribution.                                                               |\n",
    "| noncentral_f(dfnum, dfden, nonc[, size])     | Draw samples from the noncentral F distribution.                                                                      |\n",
    "| normal([loc, scale, size])                   | Draw random samples from a normal (Gaussian) distribution.                                                            |\n",
    "| pareto(a[, size])                            | Draw samples from a Pareto II or Lomax distribution with specified shape.                                             |\n",
    "| poisson([lam, size])                         | Draw samples from a Poisson distribution.                                                                             |\n",
    "| power(a[, size])                             | Draws samples in [0, 1] from a power distribution with positive exponent a - 1.                                       |\n",
    "| rayleigh([scale, size])                      | Draw samples from a Rayleigh distribution.                                                                            |\n",
    "| standard_cauchy([size])                      | Draw samples from a standard Cauchy distribution with mode = 0.                                                       |\n",
    "| standard_exponential([size])                 | Draw samples from the standard exponential distribution.                                                              |\n",
    "| standard_gamma(shape[, size])                | Draw samples from a standard Gamma distribution.                                                                      |\n",
    "| standard_normal([size])                      | Draw samples from a standard Normal distribution (mean=0, stdev=1).                                                   |\n",
    "| standard_t(df[, size])                       | Draw samples from a standard Student’s t distribution with df degrees of freedom.                                     |\n",
    "| triangular(left, mode, right[, size])        | Draw samples from the triangular distribution over the interval [left, right].                                        |\n",
    "| uniform([low, high, size])                   | Draw samples from a uniform distribution.                                                                             |\n",
    "| vonmises(mu, kappa[, size])                  | Draw samples from a von Mises distribution.                                                                           |\n",
    "| wald(mean, scale[, size])                    | Draw samples from a Wald, or inverse Gaussian, distribution.                                                          |\n",
    "| weibull(a[, size])                           | Draw samples from a Weibull distribution.                                                                             |\n",
    "| zipf(a[, size])                              | Draw samples from a Zipf distribution.                                                                                |  \n",
    "\n",
    "**<center>Table 4 - Distributions Available in Numpy Random</center>**"
   ]
  },
  {
   "cell_type": "markdown",
   "metadata": {},
   "source": [
    "### <a name=\"binomial\"></a>6.1 Binomial Distribution ###  \n",
    "A binomial experiment, as the \"bi-\" part of the name suggests concerns probabilities where there are only two possible results. Consider for example a toss of a coin, there are two possible outcomes - heads or tails. In this case (assuming the coin is not weighted), the two outcomes are equally likely. It could however be whether a candidate in an election of 5 candidates is voted in or not. Campaigning, policies, track-records etc aside, the probability of any one of the candidates being elected is 1 in 5 and not being elected in 4/5. The probability of selecting a named card from a full deck _e.g._ the Ace of Diamonds, is 0.019 (or 1 in 52), if getting any Ace is 0.77 (1 in 13), of getting any Diamond is 0.25 (1 in 4) or a red card is 0.5 (1 in 2). All of these scenarios are the results of binomial experiments. \n",
    "\n",
    "A Binomial Distribution is the cumulative probability of this outcome over repeated trials. It assumes the following:  \n",
    "* There are two possible outcomes.\n",
    "* The probability of success is constant throughout.\n",
    "* All trials are independent _ie_ the toss of a coin in unaffected by the previous result of tossing the coin.\n",
    "\n",
    "Take for example tossing a coin three times. These are the outcomes\n",
    "\n",
    "    1. Heads - Heads - Heads = 3 Heads; 0 Tails  \n",
    "    2. Heads - Heads - Tails = 2 Heads; 1 Tail  \n",
    "    3. Heads - Tails - Heads = 2 Heads; 1 Tail  \n",
    "    4. Heads - Tails - Tails = 1 Head;  2 Tails  \n",
    "    5. Tails - Heads - Heads = 2 Heads; 1 Tail  \n",
    "    6. Tails - Heads - Tails = 1 Head;  2 Tails  \n",
    "    7. Tails - Tails - Heads = 1 Head;  2 Tails  \n",
    "    8. Tails - Tails - Tails = 0 Head;  3 Tails  \n",
    "\n",
    "Each of these outcomes is as likely as each other giving a probability of 1/8 for each. If the order did not matter however, we can see there are only four possible combinations:  \n",
    "* 3 Heads & 0 Tails (1/8 chance)\n",
    "* 2 Heads & 1 Tail (3/8 chance)\n",
    "* 1 Head & 2 Tails (3/8 chance)\n",
    "* 0 Heads & 3 Tails (1/8 chance)\n",
    "\n",
    "If we plotted this out it would look like this:"
   ]
  },
  {
   "cell_type": "code",
   "execution_count": 28,
   "metadata": {},
   "outputs": [
    {
     "data": {
      "image/png": "[encoded data removed]",
      "text/plain": [
       "<Figure size 1296x576 with 1 Axes>"
      ]
     },
     "metadata": {
      "needs_background": "light"
     },
     "output_type": "display_data"
    }
   ],
   "source": [
    "# PLotting the results\n",
    "fig, ax = plt.subplots()\n",
    "ax.bar(np.arange(4),[1,3,3,1])\n",
    "ax.plot(np.arange(4),[1,3,3,1], \"r-\")\n",
    "ax.set_xlabel(\"No of Heads\")\n",
    "ax.set_ylabel(\"Probability (x/8)\")\n",
    "plt.show()"
   ]
  },
  {
   "cell_type": "markdown",
   "metadata": {},
   "source": [
    "As can be seen, this graph shows the distribution of probabilities is symmetrical. In fact is has been determined that any binomial probability outcome can be determined by the formula:  \n",
    "$${N \\choose x} = \\frac{N!}{x!(N-x)!}$$\n",
    "\n",
    "Where $N$ is the total number of possible combinations and $x$ is the number we want. This ${N \\choose x}$ representation is called N choose x.  \n",
    "\n",
    "So in the example above, N would be 3 for three coin flips. If we wanted to find out the probability of getting 2 heads in this scenario, the equation would be as follows:\n",
    "\n",
    "$$ N = 3; x = 2$$  \n",
    "$${3 \\choose 2} = \\frac{3!}{2!(3-2)!}$$  \n",
    "\n",
    "$$= \\frac{6}{2}$$  \n",
    "\n",
    "$$= 3$$\n",
    "\n",
    "This is as we had already worked out above 3 out of 8 possible outcomes.  \n",
    "\n",
    "Sometimes however the result of any particular binomial experiment are not equally likely. For example in any given football match, draws excluded, there are two possible outcomes for each team - they either win or lose. Now supposing Team A is made up of the best football players that have ever existed and Team B is made up of whoever happened to be in the local bar at the time. In this scenario, while there are still two possible outcomes for Team A it is far more likely that they will win rather than lose. This is represented as a bias.  \n",
    "\n",
    "Suppose we decided that Team A has a 90% chance of winning. What would the probability be of Team B winning a match if they played three times?"
   ]
  },
  {
   "cell_type": "markdown",
   "metadata": {},
   "source": [
    "<img align = \"center\" src=\"images/Binomial.png\" alt=\"Binomial Probabilities with Bias\"/> "
   ]
  },
  {
   "cell_type": "markdown",
   "metadata": {},
   "source": [
    "We can see here that as before with three \"experiments\" there are three ways in which we can achieve the outcome of two positives and one negative result. The probability of any one of those outcomes however is  \n",
    "$$ 0.9 * 0.9 * 0.1 = 0.081 $$  \n",
    "\n",
    "This can be expressed in a formula as:  \n",
    "Probability of a defined outcome over a number of experiments $$=  p^{x}(1-p)^{N-x}$$\n",
    "\n",
    "Where $p$ is the probability of the outcome in question and $N$ is the total number of experiments. As the sum of all possible probabilities is always 1 the probability of the inverse outcome _ie_ Team A losing, is $(1 - p)$. Using this generic formula we get:  \n",
    "\n",
    "$$p^{x}(1-p)^{N-x}= 0.9^{2}(1-0.9)^{3-2}$$\n",
    "\n",
    "$$ = 0.9^{2}(0.1)^{1}$$\n",
    "\n",
    "$$= 0.9 * 0.9 * 0.1$$\n",
    "\n",
    "$$ = 0.081$$  \n",
    "\n",
    "The same result as above. By putting the two formulae we have used together we can calculate how many outcomes and the probability of each. We can put these together to get P(x) the probability of x positive results out of N experiments:  \n",
    "\n",
    "$$P(x) = \\frac{N!}{x!(N-x)!} p^{x}(1-p)^{N-x}$$\n",
    "\n",
    "$$ = \\frac{3!}{2!(3-2)!} 0.9^{2}(1-0.9)^{3-2}$$\n",
    "\n",
    "$$= \\frac{6}/{2}(0.81)(0.1)$$\n",
    "\n",
    "$$ = (3)(0.081)$$\n",
    "\n",
    "$$ = 0.243$$\n",
    "\n",
    "**Mean, Variance and Standard Deviation of Binomial Distributions**\n",
    "The mean ($\\mu$) of a binomial distribution of N number of experiments with a probability of a positive outcome of $p$ is:\n",
    "$$\\mu = Np$$\n",
    "\n",
    "The variance ($\\sigma ^{2}$) is:\n",
    "$$\\sigma ^{2} = N p (1-p)$$\n",
    "\n",
    "And the standard deviation ($\\sigma$) of:\n",
    "$$ \\sigma = \\sqrt{N\\pi(1-p)}$$"
   ]
  },
  {
   "cell_type": "markdown",
   "metadata": {},
   "source": [
    "**Numpy Binomial Distribution**  \n",
    "Numpy can generate an array of data based on the binomial distribution using the method numpy.random.binomial.  \n",
    "\n",
    "_Syntax_  \n",
    "numpy.random.binomial(n, p, size=None)\n",
    "\n",
    "_Description_  \n",
    "numpy.random.binomial draws samples from a binomial distribution taking input parameters of n, which refers to the number of trials to be run, and p, the probability of a positive outcome.  \n",
    "\n",
    "There is also an additional parameter of size which is the output shape. What this essentially means is the number of times the test is to be repeated. The output will be the result of each of these tests. For example if not specified, the test will be performed once only. If a single number is specified the output will be a list of size length each representing the outcome of the n trials with p probability of success. An array may also be specified, again each figure outputted represents a single iteration of the trial.  \n",
    "\n",
    "_Returns_  \n",
    "Drawn samples from the parameterized binomial distribution, where each sample is equal to the number of successes over the n trials.\n"
   ]
  },
  {
   "cell_type": "code",
   "execution_count": 29,
   "metadata": {},
   "outputs": [
    {
     "data": {
      "text/plain": [
       "array([[1, 0, 0, 2, 1, 1, 2, 3, 1, 1],\n",
       "       [1, 2, 2, 2, 1, 2, 3, 2, 2, 1]])"
      ]
     },
     "execution_count": 29,
     "metadata": {},
     "output_type": "execute_result"
    }
   ],
   "source": [
    "# If a coin was tossed three times (n = 3)\n",
    "# The head and the tail equally likely (p = 0.5)\n",
    "# The this experiment run 2 x 10 times (size = (2,10))\n",
    "np.random.binomial(3, 0.5, (2,10))"
   ]
  },
  {
   "cell_type": "code",
   "execution_count": 30,
   "metadata": {},
   "outputs": [
    {
     "name": "stdout",
     "output_type": "stream",
     "text": [
      "+---------------+---------------+-------------+---------------+-------------+\n",
      "|   Probability |   𝜇(Expected) |   𝜇(Actual) |   𝜎(Expected) |   𝜎(Actual) |\n",
      "+===============+===============+=============+===============+=============+\n",
      "|           0.1 |           100 |     100.388 |       9.48683 |     9.37536 |\n",
      "+---------------+---------------+-------------+---------------+-------------+\n",
      "|           0.2 |           200 |     199.174 |      12.6491  |    11.9928  |\n",
      "+---------------+---------------+-------------+---------------+-------------+\n",
      "|           0.3 |           300 |     299.638 |      14.4914  |    14.9271  |\n",
      "+---------------+---------------+-------------+---------------+-------------+\n",
      "|           0.4 |           400 |     400.312 |      15.4919  |    14.6212  |\n",
      "+---------------+---------------+-------------+---------------+-------------+\n",
      "|           0.5 |           500 |     501.964 |      15.8114  |    15.8194  |\n",
      "+---------------+---------------+-------------+---------------+-------------+\n",
      "|           0.6 |           600 |     599.68  |      15.4919  |    15.9949  |\n",
      "+---------------+---------------+-------------+---------------+-------------+\n",
      "|           0.7 |           700 |     700.014 |      14.4914  |    13.921   |\n",
      "+---------------+---------------+-------------+---------------+-------------+\n",
      "|           0.8 |           800 |     800.116 |      12.6491  |    12.9684  |\n",
      "+---------------+---------------+-------------+---------------+-------------+\n",
      "|           0.9 |           900 |     900.346 |       9.48683 |     9.37989 |\n",
      "+---------------+---------------+-------------+---------------+-------------+\n"
     ]
    },
    {
     "data": {
      "image/png": "[encoded data removed]",
      "text/plain": [
       "<Figure size 1296x576 with 1 Axes>"
      ]
     },
     "metadata": {
      "needs_background": "light"
     },
     "output_type": "display_data"
    }
   ],
   "source": [
    "# Determine the probability of number of wins in tiddlywinks over the year (1000 games)\n",
    "\n",
    "# n = no of games\n",
    "n = 1000 \n",
    "\n",
    "# number of time you want the test to be repeated\n",
    "size = 500\n",
    "\n",
    "# histogram bin width, for data visualization\n",
    "binwidth = 5\n",
    "\n",
    "# Needed to create a table\n",
    "rows=[]\n",
    "\n",
    "# Going to check against a range of probabilities from 0.1 - 0.9\n",
    "for p in range(1, 10):\n",
    "    # Probability\n",
    "    prob = p / 10\n",
    "    \n",
    "    # generate size values from a binomial distribution\n",
    "    bn_values = np.random.binomial(n, prob, size=size)\n",
    "    \n",
    "    # Add to the table\n",
    "    rows.append([prob, n*prob, np.mean(bn_values), np.sqrt(n*prob*(1-prob)),np.std(bn_values)]) \n",
    "    \n",
    "    # draw histogram of binomial values\n",
    "    plt.hist(\n",
    "        bn_values,\n",
    "        bins=[x for x in range(0, n, binwidth)],\n",
    "        density=1,\n",
    "        # pick a random color - using np.random.rand!\n",
    "        color = np.random.rand(1, 3),\n",
    "        # label the histogram with its probability\n",
    "        label=\"Probability: \"+str(prob))\n",
    "\n",
    "# Configuring Plot\n",
    "plt.xticks(np.arange(0, 1100, 100))\n",
    "plt.xlabel(\"No of Wins / 1000\")  \n",
    "plt.ylabel(\"Probability\")  \n",
    "plt.title(\"Probability Distribution of Winning at Tiddlywinks (Multiple Probabilities)\")\n",
    "plt.legend(loc=\"upper right\")\n",
    "\n",
    "# Create Table showing the difference between calculated and actual values of means and std deviations\n",
    "hdr = [\"Probability\", \"𝜇(Expected)\",\"𝜇(Actual)\", \"𝜎(Expected)\", \"𝜎(Actual)\"]\n",
    "print(tabulate(rows, headers = hdr,  tablefmt=\"grid\"))\n",
    "\n",
    "plt.show()\n"
   ]
  },
  {
   "cell_type": "markdown",
   "metadata": {},
   "source": [
    "We can see from above that the plot that the probability of the individual binomial experiment depends as you would expect on the probability of the individual experiment p. The calculated and the actual means and standard deviations tally well."
   ]
  },
  {
   "cell_type": "markdown",
   "metadata": {},
   "source": [
    "## <a name=\"normal\"></a>6.2 Normal or Gaussian Distribution###\n",
    "\n",
    "The most common distribution in real world situations is the Normal distribution. Examples of data that fit that distribution are many health statistics like height, birth weights, blood pressure, exam test results, investments etc. Unlike the binomial distribution, the normal distribution is continuous, meaning that all possible values are represented (as opposed to just 0 and 1 with nothing in between). It is said according to the Central Limits Theorem that all data approaches Normal distribution with a large enough sample size no matter what shape the original distribution was.  \n",
    "\n",
    "The Normal distribution is characterised by the distinctive bell shaped curve and may be fully described using just the mean (μ) and the standard deviation (σ) values. To fit the Normal distribution model it has to have the following characteristics:  \n",
    "* The mean, median and mode of the distribution coincide.\n",
    "* The curve of the distribution is bell-shaped and symmetrical about the mean - half the values to the left of the centre and the other half to the right.  \n",
    "* The curve never reaches 0.  \n",
    "\n",
    "The smaller the standard deviation the sharper the peak of the bell. Being symmetrical, one of the properties of a normally distributed dataset is that no matter the actual values, there is a probability of 68.27% that any value will be within one standard deviation of the mean; 95.45% that it lies within 2σ of the mean and 99.73% that it lies between 3σ of the mean.     "
   ]
  },
  {
   "cell_type": "code",
   "execution_count": 31,
   "metadata": {},
   "outputs": [
    {
     "ename": "NameError",
     "evalue": "name 'ss' is not defined",
     "output_type": "error",
     "traceback": [
      "\u001b[1;31m---------------------------------------------------------------------------\u001b[0m",
      "\u001b[1;31mNameError\u001b[0m                                 Traceback (most recent call last)",
      "\u001b[1;32m<ipython-input-31-e089c9217879>\u001b[0m in \u001b[0;36m<module>\u001b[1;34m\u001b[0m\n\u001b[0;32m      4\u001b[0m \u001b[1;33m\u001b[0m\u001b[0m\n\u001b[0;32m      5\u001b[0m \u001b[1;31m# Plot the outline of the plot in black\u001b[0m\u001b[1;33m\u001b[0m\u001b[1;33m\u001b[0m\u001b[1;33m\u001b[0m\u001b[0m\n\u001b[1;32m----> 6\u001b[1;33m \u001b[0mplt\u001b[0m\u001b[1;33m.\u001b[0m\u001b[0mplot\u001b[0m\u001b[1;33m(\u001b[0m\u001b[0mx\u001b[0m\u001b[1;33m,\u001b[0m \u001b[0mss\u001b[0m\u001b[1;33m.\u001b[0m\u001b[0mnorm\u001b[0m\u001b[1;33m.\u001b[0m\u001b[0mpdf\u001b[0m\u001b[1;33m(\u001b[0m\u001b[0mx\u001b[0m\u001b[1;33m,\u001b[0m \u001b[0mloc\u001b[0m\u001b[1;33m=\u001b[0m\u001b[1;36m0.0\u001b[0m\u001b[1;33m,\u001b[0m \u001b[0mscale\u001b[0m\u001b[1;33m=\u001b[0m\u001b[1;36m1.0\u001b[0m\u001b[1;33m)\u001b[0m\u001b[1;33m,\u001b[0m \u001b[1;34m'k-'\u001b[0m\u001b[1;33m,\u001b[0m \u001b[0mlw\u001b[0m\u001b[1;33m=\u001b[0m\u001b[1;36m1.0\u001b[0m\u001b[1;33m)\u001b[0m\u001b[1;33m\u001b[0m\u001b[1;33m\u001b[0m\u001b[0m\n\u001b[0m\u001b[0;32m      7\u001b[0m \u001b[1;33m\u001b[0m\u001b[0m\n\u001b[0;32m      8\u001b[0m \u001b[1;31m# Break the plot into segments and plot each one to show the % for each σ\u001b[0m\u001b[1;33m\u001b[0m\u001b[1;33m\u001b[0m\u001b[1;33m\u001b[0m\u001b[0m\n",
      "\u001b[1;31mNameError\u001b[0m: name 'ss' is not defined"
     ]
    }
   ],
   "source": [
    "# Figure taken from notes on Statistical Bias showing the %s for the σ's\n",
    "# Get evenly spaced data\n",
    "x = np.linspace(-5.0, 5.0, 10000)\n",
    "\n",
    "# Plot the outline of the plot in black\n",
    "plt.plot(x, ss.norm.pdf(x, loc=0.0, scale=1.0), 'k-', lw=1.0)\n",
    "\n",
    "# Break the plot into segments and plot each one to show the % for each σ\n",
    "# below -3 σ\n",
    "xseg = x[np.logical_and(-5.0 <= x, x <= -3.0)]\n",
    "plt.fill_between(xseg, ss.norm.pdf(xseg), color='y', alpha=0.5, linewidth=0)\n",
    "\n",
    "# Between -2 and -3 σ\n",
    "xseg = x[np.logical_and(-3.0 <= x, x <= -2.0)]\n",
    "plt.fill_between(xseg, ss.norm.pdf(xseg), color='r', alpha=0.5, linewidth=0)\n",
    "\n",
    "# Between -1 and -2 σ\n",
    "xseg = x[np.logical_and(-2.0 <= x, x <= -1.0)]\n",
    "plt.fill_between(xseg, ss.norm.pdf(xseg), color='g', alpha=0.5, linewidth=0)\n",
    "\n",
    "# Between +1 and -1 σ\n",
    "xseg = x[np.logical_and(-1.0 <= x, x <=  1.0)]\n",
    "plt.fill_between(xseg, ss.norm.pdf(xseg), color='b', alpha=0.5, linewidth=0, label=\"$1 \\sigma = 68.27\\%$\")\n",
    "\n",
    "# Between 1 and 2 σ\n",
    "xseg = x[np.logical_and( 1.0 <= x, x <=  2.0)]\n",
    "plt.fill_between(xseg, ss.norm.pdf(xseg), color='g', alpha=0.5, linewidth=0, label=\"$2 \\sigma = 95.45\\%$\")\n",
    "\n",
    "# Between 2 and 3 σ\n",
    "xseg = x[np.logical_and( 2.0 <= x, x <=  3.0)]\n",
    "plt.fill_between(xseg, ss.norm.pdf(xseg), color='r', alpha=0.5, linewidth=0, label=\"$3 \\sigma = 99.73\\%$\")\n",
    "\n",
    "# Over 3 σ\n",
    "xseg = x[np.logical_and( 3.0 <= x, x <=  5.0)]\n",
    "plt.fill_between(xseg, ss.norm.pdf(xseg), color='y', alpha=0.5, linewidth=0)\n",
    "\n",
    "plt.title(\"Normal Distribution - Probability Distribution Function\")\n",
    "plt.legend();"
   ]
  },
  {
   "cell_type": "markdown",
   "metadata": {},
   "source": [
    "The Probability Density Function (PDF) of a random variable X following a normal distribution is given by:  \n",
    "\n",
    "$$f(x) = \\frac{1}{\\sqrt(2)\\pi\\sigma}e^{\\{-\\frac{1}{2}(\\frac{x - \\mu}{\\sigma})^{2}\\}}\\text{  for} -\\infty < x < \\infty$$\n",
    "\n",
    "Meaning that the probability of a value lying between two given values $a$, and $b$ is:\n",
    "$$P (a \\leq X \\leq b) = \\int_a^b \\frac{1}{\\sqrt{2\\pi\\sigma^2} } e^{ -\\frac{(x-\\mu)^2}{2\\sigma^2} } \\, dx$$\n",
    "\n",
    "\n",
    "numpy.random generates data with a normal distribution via the numpy.randn function as shown above, but where you want to specifically define the mean and standard deviation, you should use the numpy.random.normal function."
   ]
  },
  {
   "cell_type": "markdown",
   "metadata": {},
   "source": [
    "**numpy.random.normal**  \n",
    "_Syntax_  \n",
    "numpy.random.normal(loc=0.0, scale=1.0, size=None)\n",
    "\n",
    "_Description_  \n",
    "Draw random samples from a normal (Gaussian) distribution. All its associated intake parameters are optional. The ifrst parameter, loc is a float (or array of floats) which is equivalent to the mean of the distribution. If no value is added, it is assumed to the be standard normal distribution which is centred on the 0 value being the mean.   \n",
    "\n",
    "The second parameter is called the scale, but is equivalent to the standard deviation value of the distribution. If no value is selected is is assumed to be the standard normal distribution where the standard deviation is 1.  \n",
    "\n",
    "The final parameter is the size, which like all other distributions is the shape of the output. The default value for the shape is None which is equivalent to  a singel value being outputted.  \n",
    "\n",
    "_Returns:_  \n",
    "Drawn samples from the parameterized normal distribution."
   ]
  },
  {
   "cell_type": "code",
   "execution_count": 32,
   "metadata": {},
   "outputs": [
    {
     "data": {
      "text/plain": [
       "1.1568220912356382"
      ]
     },
     "execution_count": 32,
     "metadata": {},
     "output_type": "execute_result"
    }
   ],
   "source": [
    "# Just getting a single value where no parameters are specified.\n",
    "np.random.normal()"
   ]
  },
  {
   "cell_type": "code",
   "execution_count": 33,
   "metadata": {
    "scrolled": true
   },
   "outputs": [
    {
     "name": "stdout",
     "output_type": "stream",
     "text": [
      "+---------------+--------------+---------------+-------------+\n",
      "|   𝜇 (entered) |   𝜇 (Actual) |   𝜇(Expected) |   𝜎(Actual) |\n",
      "+===============+==============+===============+=============+\n",
      "|             0 |  -0.00466035 |             1 |     1.00442 |\n",
      "+---------------+--------------+---------------+-------------+\n",
      "|             5 |   5.11415    |             5 |     5.00228 |\n",
      "+---------------+--------------+---------------+-------------+\n",
      "|            -5 |  -5.00654    |             2 |     2.01095 |\n",
      "+---------------+--------------+---------------+-------------+\n"
     ]
    },
    {
     "data": {
      "image/png": "[encoded data removed]",
      "text/plain": [
       "<Figure size 1296x576 with 1 Axes>"
      ]
     },
     "metadata": {
      "needs_background": "light"
     },
     "output_type": "display_data"
    }
   ],
   "source": [
    "# SHowing the difference mean and standard deviation makes\n",
    "# Mean of 0, std deviation of 1\n",
    "h = np.random.normal(loc=0, scale = 1, size =10000)\n",
    "# Mean of 5, std deviation of 5\n",
    "m = np.random.normal(loc=5, scale = 5, size =10000)\n",
    "# Mean of -5, std deviation of 2\n",
    "l = np.random.normal(loc=-5, scale = 2, size =10000)\n",
    "\n",
    "plt.hist(l, bins = 100, label = \"Mean = 1, Std Dev = 1\")\n",
    "plt.hist(m, bins = 100, label = \"Mean = 5, Std Dev = 5\")\n",
    "plt.hist(h, bins = 100, label = \"Mean = -5,  Std Dev= 2\")\n",
    "plt.title('Normal Distribution')\n",
    "# Needed to create a table\n",
    "table = [[0, np.mean(h),1,np.std(h)], [5, np.mean(m),5,np.std(m)],[-5, np.mean(l),2,np.std(l)]] \n",
    "\n",
    "# Configuring Plot\n",
    "plt.xticks(np.arange(-15, 25, 1))\n",
    "plt.xlabel(\"Value\")  \n",
    "plt.ylabel(\"Frequency\")  \n",
    "plt.title(\"Normal Probability Distribution Using numpy.random.normal\")\n",
    "plt.legend(loc=\"upper right\")\n",
    "\n",
    "# Create Table showing the difference between calculated and actual values of means and std deviations\n",
    "hdr = [\"𝜇 (entered)\", \"𝜇 (Actual)\", \"𝜇(Expected)\", \"𝜎(Actual)\"]\n",
    "print(tabulate(table, headers = hdr,  tablefmt=\"grid\"))\n",
    "\n",
    "plt.show()"
   ]
  },
  {
   "cell_type": "markdown",
   "metadata": {},
   "source": [
    "An example of using the normal distribution to fake up some data to represent an equation like this:\n",
    "$$ y = 7x^2 + 5x - 3 \\epsilon$$"
   ]
  },
  {
   "cell_type": "code",
   "execution_count": 34,
   "metadata": {},
   "outputs": [
    {
     "data": {
      "text/plain": [
       "[<matplotlib.lines.Line2D at 0x206321c3da0>]"
      ]
     },
     "execution_count": 34,
     "metadata": {},
     "output_type": "execute_result"
    },
    {
     "data": {
      "image/png": "[encoded data removed]",
      "text/plain": [
       "<Figure size 1296x576 with 1 Axes>"
      ]
     },
     "metadata": {
      "needs_background": "light"
     },
     "output_type": "display_data"
    }
   ],
   "source": [
    "# Setting the x values\n",
    "x = np.arange(0.0, 10.1, 0.5)\n",
    "# Introducing a random error via the np.random.normal function\n",
    "y = 7.0 * x * x +5 * x -3 + np.random.normal(10.0, 15.0, len(x))\n",
    "# For comparison - adding a line to indicate what the line would be like without the error\n",
    "z = 7.0 * x * x +5 * x -3\n",
    "\n",
    "# PLot both lines\n",
    "plt.plot(x,y,\"ko\")\n",
    "plt.plot(x,z, \"r-\")"
   ]
  },
  {
   "cell_type": "markdown",
   "metadata": {},
   "source": [
    "### <a name=\"uniform\"></a>6.3 Uniform Distribution\n",
    "\n",
    "When you roll a die, the outcomes are 1 to 6. The probabilities of getting these outcomes are equally likely which is the very definition of a uniform distribution. This means that for $n$ possible outcomes, any one outcome has a probability of $\\frac{1}{n}$.  \n",
    "\n",
    "So in the range from $a$ to $b$, $n$ becomes $b - a$. So any value has the probability $\\frac{1}{b-a}$  \n",
    "\n",
    "A variable X is said to be uniformly distributed if the density function is:  \n",
    "$$ f(x) = \\frac{1}{b-a}$ for $- \\infty <a \\leq x \\leq b < \\infty$$  \n",
    "\n",
    "Uniform distributions may refer to either discrete or continuous data, once each value between the upper and lower limits is equally likely - the nature of the incoming data does not matter. An example of some uniform data could be the number of liters of milk sold in a shop every day, or indeed produced from the herd.  \n",
    "\n",
    "The graph of a uniform distribution curve looks like a rectangle and is therefore sometimes called \"rectangular distribution\".  \n",
    "\n",
    "The mean and standard deviation of X following a uniform distribution are given by the equations below, but are of less relevance to the uniform distributions than they are to other distributions. The upper and lower limits ($a$ and $b$ values) describe the uniform distribution better than the $\\mu$ and $\\sigma$ values:\n",
    "\n",
    "$$\\mu = \\frac{a+b}{2}$$\n",
    "\n",
    "$$\\sigma = \\frac{(b-a)}{\\sqrt{12}}$$\n",
    "\n",
    "The probability distribution function for this distribution is defined as:  \n",
    "$$\n",
    "f(x)=\n",
    "\\begin{cases}\n",
    "{\\frac{1}{b-a}}, \\text{ for } a\\leq x \\leq b,\\\\\n",
    "0, \\text{ for } x< a \\text{ or }x > b\n",
    "\\end{cases}\n",
    "$$"
   ]
  },
  {
   "cell_type": "markdown",
   "metadata": {},
   "source": [
    "**numpy.random.uniform**  \n",
    "_Syntax_:  \n",
    "numpy.random.uniform(low=0.0, high=1.0, size=None)  \n",
    "\n",
    "_Description:_  \n",
    "Samples are uniformly distributed over the half-open interval _i.e._ inclusive of the low limit, exclusive of the high limit. In other words, any value within the given interval is equally likely to be drawn by uniform.  \n",
    "\n",
    "It takes three parameters, all of which are optional. The first two are the lower and upper limits of the distribution. As mentioned above, the lower limit is included in the distribution, while the upper limit is not. If no values are specified, it is assumed that the low is 0.0 and the high value is 1.0. if the high and low values are equal, every value returned will be of the low value. High values lower than the low value should not be entered and may result in erratic behaviour and ultimately errors. \n",
    "\n",
    "As with all other distributions, there is a parameter called size, which will specify the size and shape of the output being generated from this function. As with all other functions, if not specified, this will be a single returned value.  \n",
    "\n",
    "_Returns:_  \n",
    "Samples from the uniform distribution between the low and high values excluding the high value itself)."
   ]
  },
  {
   "cell_type": "code",
   "execution_count": 35,
   "metadata": {},
   "outputs": [
    {
     "data": {
      "text/plain": [
       "0.6352725371912663"
      ]
     },
     "execution_count": 35,
     "metadata": {},
     "output_type": "execute_result"
    }
   ],
   "source": [
    "# No parameters entered\n",
    "np.random.uniform()"
   ]
  },
  {
   "cell_type": "code",
   "execution_count": 36,
   "metadata": {},
   "outputs": [
    {
     "data": {
      "text/plain": [
       "(array([1024.,  934., 1040., 1052., 1034.,  987.,  962.,  973.,  986.,\n",
       "        1008.]),\n",
       " array([1.00000031, 1.59996928, 2.19993825, 2.79990721, 3.39987618,\n",
       "        3.99984514, 4.59981411, 5.19978307, 5.79975204, 6.399721  ,\n",
       "        6.99968997]),\n",
       " <a list of 10 Patch objects>)"
      ]
     },
     "execution_count": 36,
     "metadata": {},
     "output_type": "execute_result"
    },
    {
     "data": {
      "image/png": "[encoded data removed]",
      "text/plain": [
       "<Figure size 1296x576 with 1 Axes>"
      ]
     },
     "metadata": {
      "needs_background": "light"
     },
     "output_type": "display_data"
    }
   ],
   "source": [
    "# Rolling a die 10000 times\n",
    "x = np.random.uniform(1,7,10000)\n",
    "plt.hist(x)"
   ]
  },
  {
   "cell_type": "markdown",
   "metadata": {},
   "source": [
    "### <a name=\"chi\"></a>6.4 Chi Squared Distribution  \n",
    "\n",
    "The chi-squared distribution is continuous probability distribution whose shape is defined by the number of degrees of freedom. It is a right-skew distribution, but as the number of degrees of freedom increases it approximates the Normal distribution (Figure 4). The chi-squared distribution is important for its use in chi-squared tests. These are often used to test deviations between observed and expected frequencies, or to determine the independence between categorical variables. When conducting a chi-squared test, the probability values derived from chi-squared distributions can be looked up in a statistical table.  \n",
    "\n"
   ]
  },
  {
   "cell_type": "markdown",
   "metadata": {},
   "source": [
    "<img align = \"center\" src=\"images/chi-squared.png\" alt=\"Binomial Probabilities with Bias\"/> "
   ]
  },
  {
   "cell_type": "markdown",
   "metadata": {},
   "source": [
    "**numpy.random.chisquare**  \n",
    "numpy.random.chisquare\n",
    "numpy.random.chisquare(df, size=None)¶\n",
    "Draw samples from a chi-square distribution.\n",
    "\n",
    "When df independent random variables, each with standard normal distributions (mean 0, variance 1), are squared and summed, the resulting distribution is chi-square (see Notes). This distribution is often used in hypothesis testing.\n",
    "\n",
    "Parameters:\t\n",
    "df : float or array_like of floats\n",
    "\n",
    "Number of degrees of freedom, should be > 0.\n",
    "\n",
    "size : int or tuple of ints, optional\n",
    "\n",
    "Output shape. If the given shape is, e.g., (m, n, k), then m * n * k samples are drawn. If size is None (default), a single value is returned if df is a scalar. Otherwise, np.array(df).size samples are drawn.\n",
    "\n",
    "Returns:\t\n",
    "out : ndarray or scalar\n",
    "\n",
    "Drawn samples from the parameterized chi-square distribution.\n",
    "\n",
    "Raises:\t\n",
    "ValueError\n",
    "\n",
    "When df <= 0 or when an inappropriate size (e.g. size=-1) is given.\n",
    "\n",
    "Notes\n",
    "\n",
    "The variable obtained by summing the squares of df independent, standard normally distributed random variables:\n",
    "\n",
    "$$Q = \\sum_{i=0}^{\\mathtt{df}} X^2_i$$\n",
    "\n",
    "is chi-square distributed, denoted\n",
    "\n",
    "$$Q \\sim \\chi^2_k.$$\n",
    "\n",
    "The probability density function of the chi-squared distribution is\n",
    "\n",
    "$$p(x) = \\frac{(1/2)^{k/2}}{\\Gamma(k/2)}\n",
    "x^{k/2 - 1} e^{-x/2},$$\n",
    "\n",
    "where $\\Gamma$ is the gamma function,\n",
    "\n",
    "$$\\Gamma(x) = \\int_0^{-\\infty} t^{x - 1} e^{-t} dt.$$"
   ]
  },
  {
   "cell_type": "markdown",
   "metadata": {},
   "source": [
    "### <a name=\"poisson\"></a>6.5 Poisson Distribution  ###\n",
    "\n",
    "Poisson distribution describes the distribution of binary data from an infinite sample. Thus it gives the probability of getting r events in a population.\n",
    "\n",
    "The Poisson distribution is used to describe discrete quantitative data such as counts in which the population size n is large, the probability of an individual event  is small, but the expected number of events, n, is moderate (say five or more). Typical examples are the number of deaths in a town from a particular disease per day, or the number of admissions to a particular hospital.\n",
    "\n",
    " \n",
    "\n",
    "Example\n",
    "\n",
    "Wight et al (2004) looked at the variation in cadaveric heart beating organ donor rates in the UK. They found that there were 1330 organ donors, aged 15-69, across the UK for the two years 1999 and 2000 combined. Heart-beating donors are patients who are seriously ill in an intensive care unit (ICU) and are placed on a ventilator.\n",
    "\n",
    "Now it is clear that the distribution of the number of donors takes integer values only, thus the distribution is similar in this respect to the binomial. However, there is no theoretical limit to the number of organ donors that could happen on a particular day. Here the population is the UK population aged 15-69, over two years, which is over 82 million person years, so in this case each member can be thought to have a very small probability of actually suffering an event, in this case being admitted to a hospital ICU and placed on a ventilator with a life threatening condition.\n",
    "\n",
    "\n",
    " \n",
    "The mean number of organ donors per day over the two year period is calculated as:\n",
    "\n",
    "r=1330(365+365)=1330730=1.82 organ donations per day \n",
    "\n",
    " \n",
    "It should be noted that the expression for the mean is similar to that for , except here multiple data values are common; and so instead of writing each as a distinct figure in the numerator they are first grouped and counted. For data arising from a Poisson distribution the standard error, that is the standard deviation of r, is estimated by SE(r) = √(r/n), where n is the total number of days (or an alternative time unit). Provided the organ donation rate is not too low, a 95% confidence interval for the underlying (true) organ donation rate λ can be calculated in the usual way:\n",
    "\n",
    "r−[1.96×SE(r)]tor+[1.96×SE(r)]\n",
    "\n",
    "In the above example r=1.82, SE(r)=√(1.82/730)=0.05, and therefore the 95% confidence interval for λ is 1.72 to 1.92 organ donations per day. Exact confidence intervals can be calculated as described by Altman et al. (2000).\n",
    "The Poisson probabilities are calculated from:\n",
    "\n",
    "P(rresponses)=λrr!e−λ\n",
    "\n",
    " \n",
    "\n",
    "…for successive values of r from 0 to infinity. Here e is the exponential constant 2.7182…, and λ is the population rate which is estimated by r in the example above.\n",
    "\n",
    " \n",
    "\n",
    "Example\n",
    "\n",
    "Suppose that before the study of Wight et al. (2004) was conducted it was expected that the number of organ donations per day was approximately two. Then assuming λ = 2, we would anticipate the probability of 0 organ donations in a given day to be (20/0!)e-2 =e-2 = 0.135. (Remember that 20 and 0! are both equal to 1.) The probability of one organ donation would be (21/1!)e-2 = 2(e-2) = 0.271. Similarly the probability of two organ donations per day is (22/2!)e-2= 2(e-2) = 0.271; and so on to give for three donations 0.180, four donations 0.090, five donations 0.036, six donations 0.012, etc. If the study is then to be conducted over 2 years (730 days), each of these probabilities is multiplied by 730 to give the expected number of days during which 0, 1, 2, 3, etc. donations will occur. These expectations are 98.8, 197.6, 197.6, 131.7, 26.3, 8.8 days. A comparison can then be made between what is expected and what is actually observed."
   ]
  },
  {
   "cell_type": "markdown",
   "metadata": {},
   "source": [
    "Suppose you work at a call center, approximately how many calls do you get in a day? It can be any number. Now, the entire number of calls at a call center in a day is modeled by Poisson distribution. Some more examples are\n",
    "\n",
    "The number of emergency calls recorded at a hospital in a day.\n",
    "The number of thefts reported in an area on a day.\n",
    "The number of customers arriving at a salon in an hour.\n",
    "The number of suicides reported in a particular city.\n",
    "The number of printing errors at each page of the book.\n",
    "You can now think of many examples following the same course. Poisson Distribution is applicable in situations where events occur at random points of time and space wherein our interest lies only in the number of occurrences of the event.  \n",
    "\n",
    "A distribution is called Poisson distribution when the following assumptions are valid:\n",
    "\n",
    "1. Any successful event should not influence the outcome of another successful event.\n",
    "2. The probability of success over a short interval must equal the probability of success over a longer interval.\n",
    "3. The probability of success in an interval approaches zero as the interval becomes smaller.\n",
    "\n",
    "Now, if any distribution validates the above assumptions then it is a Poisson distribution. Some notations used in Poisson distribution are:\n",
    "\n",
    "λ is the rate at which an event occurs,\n",
    "t is the length of a time interval,\n",
    "And X is the number of events in that time interval.\n",
    "Here, X is called a Poisson Random Variable and the probability distribution of X is called Poisson distribution.\n",
    "\n",
    "Let µ denote the mean number of events in an interval of length t. Then, µ = λ*t.\n",
    "\n",
    "The PMF of X following a Poisson distribution is given by:\n",
    "\n",
    "$$P(X=x) = e ^{-\\mu}\\frac{\\mu^{x}}{x!} \\text{ for } x = 0, 1, 2, \\ldots{}$$\n",
    "\n",
    "The mean µ is the parameter of this distribution. µ is also defined as the λ times length of that interval. The graph of a Poisson distribution is shown below:\n",
    "\n",
    "<img align = \"center\" src=\"images/poisson1.png\" alt=\"Poisson Distribution\"/>\n",
    "\n",
    "The graph shown below illustrates the shift in the curve due to increase in mean.\n",
    "\n",
    "<img align = \"center\" src=\"images/poisson2.png\" alt=\"Poisson Distribution\"/>\n",
    "\n",
    "It is perceptible that as the mean increases, the curve shifts to the right.\n",
    "\n",
    "The mean and variance of X following a Poisson distribution:\n",
    "\n",
    "Mean -> E(X) = µ\n",
    "Variance -> Var(X) = µ"
   ]
  },
  {
   "cell_type": "markdown",
   "metadata": {},
   "source": [
    "Relations between the Distributions\n",
    "Relation between Bernoulli and Binomial Distribution\n",
    "1. Bernoulli Distribution is a special case of Binomial Distribution with a single trial.\n",
    "\n",
    "2. There are only two possible outcomes of a Bernoulli and Binomial distribution, namely success and failure.\n",
    "\n",
    "3. Both Bernoulli and Binomial Distributions have independent trails.\n",
    "\n",
    " \n",
    "\n",
    "Relation between Poisson and Binomial Distribution\n",
    "Poisson Distribution is a limiting case of binomial distribution under the following conditions:\n",
    "\n",
    "The number of trials is indefinitely large or n → ∞.\n",
    "The probability of success for each trial is same and indefinitely small or p →0.\n",
    "np = λ, is finite.\n",
    " \n",
    "\n",
    "Relation between Normal and Binomial Distribution & Normal and Poisson Distribution:\n",
    "Normal distribution is another limiting form of binomial distribution under the following conditions:\n",
    "\n",
    "The number of trials is indefinitely large, n → ∞.\n",
    "Both p and q are not indefinitely small.\n",
    "The normal distribution is also a limiting case of Poisson distribution with the parameter λ →∞.\n",
    "\n",
    " \n",
    "\n",
    "Relation between Exponential and Poisson Distribution:\n",
    "If the times between random events follow exponential distribution with rate λ, then the total number of events in a time period of length t follows the Poisson distribution with parameter λt."
   ]
  },
  {
   "cell_type": "markdown",
   "metadata": {},
   "source": [
    "**numpy.random.poisson**  \n",
    "numpy.random.poisson\n",
    "numpy.random.poisson(lam=1.0, size=None)\n",
    "Draw samples from a Poisson distribution.\n",
    "\n",
    "The Poisson distribution is the limit of the binomial distribution for large N.\n",
    "\n",
    "Parameters:\t\n",
    "lam : float or array_like of floats\n",
    "\n",
    "Expectation of interval, should be >= 0. A sequence of expectation intervals must be broadcastable over the requested size.\n",
    "\n",
    "size : int or tuple of ints, optional\n",
    "\n",
    "Output shape. If the given shape is, e.g., (m, n, k), then m * n * k samples are drawn. If size is None (default), a single value is returned if lam is a scalar. Otherwise, np.array(lam).size samples are drawn.\n",
    "\n",
    "Returns:\t\n",
    "out : ndarray or scalar\n",
    "\n",
    "Drawn samples from the parameterized Poisson distribution.\n",
    "\n",
    "Notes\n",
    "\n",
    "The Poisson distribution\n",
    "\n",
    "$$f(k; \\lambda)=\\frac{\\lambda^k e^{-\\lambda}}{k!}$$\n",
    "\n",
    "For events with an expected separation \\lambda the Poisson distribution $f(k; \\lambda)$ describes the probability of k events occurring within the observed interval $\\lambda$.\n",
    "\n",
    "Because the output is limited to the range of the C long type, a ValueError is raised when lam is within 10 sigma of the maximum representable value."
   ]
  },
  {
   "cell_type": "markdown",
   "metadata": {},
   "source": [
    "### <a name=\"summary\"></a>6.6 Distribution Comparison Summary ###\n",
    "| Distribution | Inputs                                                                 | Used                                                                          |\n",
    "|--------------|------------------------------------------------------------------------|-------------------------------------------------------------------------------|\n",
    "| Binomial     | No of repeats, probability of success for each, no of trials for each. | For discrete data, checking for probability of \"success\".                     |\n",
    "| Normal       | Mean, standard deviation and size                                      | To simulate real world data, generate \"noise\".                                |\n",
    "| Uniform      | Upper and Lowere limits of range and size                              | Where every possible value is equally probable.                               |\n",
    "| Chi-Squared  | Degrees of freedom, size                                               | Where there are a number of normallly distributed variables for consideration |\n",
    "| Poisson      | Interval and size                                                      | For distribution of discrete data eg over a time period.                      |"
   ]
  },
  {
   "cell_type": "markdown",
   "metadata": {},
   "source": [
    "## <a name=\"seeds\"></a>7. Seeds in Pseudorandom Number Generation##"
   ]
  },
  {
   "cell_type": "markdown",
   "metadata": {},
   "source": [
    "While the name suggests that the output of numpy.random is random, it is however only pseudorandom in nature, meaning that data / functions generated from this library element has all the appearance of randomness, but in fact is generated in a specific deterministic manner. This via a pseudorandom number generator (PRNG) and for all intents and purposes is fully sufficient for all our data analytics (and many other) needs.  \n",
    "\n",
    "The whole randomness generation is based on two components:\n",
    "* **_BitGenerators_**: Objects that generate random numbers. These are typically unsigned integer words filled with sequences of either 32 or 64 random bits.\n",
    "* **_Generators_**: Objects that transform sequences of random bits from a BitGenerator into sequences of numbers that follow a specific probability distribution (such as uniform, Normal or Binomial) within a specified interval.\n",
    "    "
   ]
  },
  {
   "cell_type": "markdown",
   "metadata": {},
   "source": [
    "## <a name=\"refs\"></a>8. References ##\n",
    "1. [NumPy Site](http://www.numpy.org/)\n",
    "2. [Project Jupyter](http://jupyter.org/)  \n",
    "3. [NumPy Wikipedia Page](https://en.wikipedia.org/wiki/NumPy)  \n",
    "4. Python for Data Analysis Book  \n",
    "5. [Numpy Random](https://docs.scipy.org/doc/numpy-1.14.0/reference/routines.random.html)  \n",
    "6. [Generating Random Data in Python (Guide)](https://realpython.com/python-random/)  \n",
    "7. [Stack Overflow: Difference between various numpy random functions](https://stackoverflow.com/questions/18829185/difference-between-various-numpy-random-functions)  \n",
    "8. [A Quick Introduction to the NumPy Random Choice Function](https://www.sharpsightlabs.com/blog/numpy-random-choice/)  \n",
    "9. https://www.reddit.com/r/Python/comments/jn0bb/randomrandint_vs_randomrandom_why_is_one_15x/  \n",
    "10. http://onlinestatbook.com/2/probability/binomial.html  \n",
    "11. https://www.mathsisfun.com/data/binomial-distribution.html  \n",
    "12. [Standard Statistical Distributions (e.g. Normal, Poisson, Binomial) and their uses](https://www.healthknowledge.org.uk/public-health-textbook/research-methods/1b-statistical-methods/statistical-distributions)  \n",
    "13. [6 Common Probability Distributions every data science professional should know](https://www.analyticsvidhya.com/blog/2017/09/6-probability-distributions-data-science/)  \n",
    "14. [Introduction to Randomness and Random Numbers](https://www.random.org/randomness/)  \n",
    "15. [StatTrek: Binomial Probability Distribution](https://stattrek.com/probability-distributions/binomial.aspx)  \n",
    "16. [Statistical Bias Lecture](https://web.microsoftstream.com/video/fbf7508f-99a2-4054-bc54-1cdca68450e8)"
   ]
  },
  {
   "cell_type": "code",
   "execution_count": null,
   "metadata": {},
   "outputs": [],
   "source": []
  }
 ],
 "metadata": {
  "kernelspec": {
   "display_name": "Python 3",
   "language": "python",
   "name": "python3"
  },
  "language_info": {
   "codemirror_mode": {
    "name": "ipython",
    "version": 3
   },
   "file_extension": ".py",
   "mimetype": "text/x-python",
   "name": "python",
   "nbconvert_exporter": "python",
   "pygments_lexer": "ipython3",
   "version": "3.7.3"
  }
 },
 "nbformat": 4,
 "nbformat_minor": 2
}
