{
 "cells": [
  {
   "cell_type": "code",
   "execution_count": 1,
   "metadata": {},
   "outputs": [],
   "source": [
    "import numpy as np\n"
   ]
  },
  {
   "cell_type": "code",
   "execution_count": 14,
   "metadata": {},
   "outputs": [
    {
     "name": "stdout",
     "output_type": "stream",
     "text": [
      "Numpy Version No: 1.16.5\n",
      "np.random.random_sample : <built-in method random_sample of mtrand.RandomState object at 0x0000016D8B2EA558>\n",
      "np.random.random : <built-in method random_sample of mtrand.RandomState object at 0x0000016D8B2EA558>\n",
      "np.random.randf : <built-in method random_sample of mtrand.RandomState object at 0x0000016D8B2EA558>\n",
      "np.random.sample : <built-in method random_sample of mtrand.RandomState object at 0x0000016D8B2EA558>\n"
     ]
    }
   ],
   "source": [
    "print(\"Numpy Version No:\", np.version.version)\n",
    "print(\"np.random.random_sample :\",np.random.random_sample)\n",
    "print(\"np.random.random :\",np.random.random)\n",
    "print(\"np.random.randf :\",np.random.ranf)\n",
    "print(\"np.random.sample :\",np.random.sample)"
   ]
  },
  {
   "cell_type": "code",
   "execution_count": 12,
   "metadata": {},
   "outputs": [
    {
     "data": {
      "text/plain": [
       "'1.16.5'"
      ]
     },
     "execution_count": 12,
     "metadata": {},
     "output_type": "execute_result"
    }
   ],
   "source": [
    "np.version.version"
   ]
  },
  {
   "cell_type": "code",
   "execution_count": null,
   "metadata": {},
   "outputs": [],
   "source": []
  }
 ],
 "metadata": {
  "kernelspec": {
   "display_name": "Python 3.6 (tensorflow)",
   "language": "python",
   "name": "tensorflow"
  },
  "language_info": {
   "codemirror_mode": {
    "name": "ipython",
    "version": 3
   },
   "file_extension": ".py",
   "mimetype": "text/x-python",
   "name": "python",
   "nbconvert_exporter": "python",
   "pygments_lexer": "ipython3",
   "version": "3.6.9"
  }
 },
 "nbformat": 4,
 "nbformat_minor": 2
}
